{
 "metadata": {
  "language_info": {
   "codemirror_mode": {
    "name": "ipython",
    "version": 3
   },
   "file_extension": ".py",
   "mimetype": "text/x-python",
   "name": "python",
   "nbconvert_exporter": "python",
   "pygments_lexer": "ipython3",
   "version": "3.8.6-final"
  },
  "orig_nbformat": 2,
  "kernelspec": {
   "name": "python3",
   "display_name": "Python 3",
   "language": "python"
  }
 },
 "nbformat": 4,
 "nbformat_minor": 2,
 "cells": [
  {
   "cell_type": "code",
   "execution_count": 1,
   "metadata": {},
   "outputs": [],
   "source": [
    "from utils import ESS, rf"
   ]
  },
  {
   "source": [
    "## 6.3\n",
    "問\n",
    " - repeat.py を書け.\n",
    " - Input: S = ESS(P, I) で, PはPythonプログラム, IはPに与える入力文字列.\n",
    " - Output: P(I)に自分自身を連結.\n",
    "\n",
    "答\n",
    " - `/problemsets/chapter6/repeat.py` 参照.\n",
    " \n",
    ">```\n",
    "from utils import DESS\n",
    "from universal import universal\n",
    "def repeat(inString):\n",
    "    (progString, newInString) = DESS(inString)\n",
    "    val = universal(progString, newInString)\n",
    "    return val * 2\n",
    "```\n",
    "\n",
    " - 以下は `containsGAGA.py`に, `\"GTTGAGA\"`や`\"ATGAG\"`を入れてみた例."
   ],
   "cell_type": "markdown",
   "metadata": {}
  },
  {
   "cell_type": "code",
   "execution_count": 2,
   "metadata": {},
   "outputs": [
    {
     "output_type": "execute_result",
     "data": {
      "text/plain": [
       "'yesyes'"
      ]
     },
     "metadata": {},
     "execution_count": 2
    }
   ],
   "source": [
    "from repeat import repeat\n",
    "repeat(ESS(rf('/workspace/programs/containsGAGA.py'), 'GTTGAGA'))"
   ]
  },
  {
   "cell_type": "code",
   "execution_count": 3,
   "metadata": {},
   "outputs": [
    {
     "output_type": "execute_result",
     "data": {
      "text/plain": [
       "'nono'"
      ]
     },
     "metadata": {},
     "execution_count": 3
    }
   ],
   "source": [
    "repeat(ESS(rf('/workspace/programs/containsGAGA.py'), 'ATGAG'))"
   ]
  },
  {
   "source": [
    "## 6.8\n",
    "問\n",
    " - $L_{\\rm CrashOnString}$が認識可能であることを証明せよ.\n",
    " - (復習) CrashOnString問題 = 「入力:S=ESS(P, I), 解:P(I)がPythonの例外を投げるなら\"yes\", そうでないなら\"no\"」\n",
    " \n",
    "答\n",
    " - 以下の`recCrashOnString.py`がCrashOnString問題を認識する. (`/problemsets/chapter6/recCrashOnString.py`参照.)\n",
    " \n",
    ">```\n",
    "from utils import DESS\n",
    "from universal import universal\n",
    "def recCrashOnString(inString):\n",
    "    (progString, newInString) = DESS(inString)\n",
    "    try:\n",
    "        universal(progString, newInString)\n",
    "    except:\n",
    "        return 'yes'\n",
    "    return 'no'\n",
    "```\n",
    "\n",
    " - tryでP(I)を試し, 正インスタンスに対しては必ず例外が投げられるため\"yes\"を返す.\n",
    " - 負インスタンスに対しては, P(I)が無事終わるなら\"no\"を返すが, 場合によっては無限ループを起こすこともある."
   ],
   "cell_type": "markdown",
   "metadata": {}
  },
  {
   "source": [
    " - 以下は「100をinputされた数で割る」というプログラムPと, I=\"10\"および\"0\"にしてrecCrashOnString(ESS(P, I))を試した."
   ],
   "cell_type": "markdown",
   "metadata": {}
  },
  {
   "cell_type": "code",
   "execution_count": 4,
   "metadata": {},
   "outputs": [
    {
     "output_type": "execute_result",
     "data": {
      "text/plain": [
       "'no'"
      ]
     },
     "metadata": {},
     "execution_count": 4
    }
   ],
   "source": [
    "divide_100_by = \\\n",
    "\"def divide_100_by(a):\\n\\\n",
    "    a = int(a)\\n\\\n",
    "    return 100 / a\"\n",
    "\n",
    "from recCrashOnString import recCrashOnString\n",
    "recCrashOnString(ESS(divide_100_by, \"10\"))"
   ]
  },
  {
   "cell_type": "code",
   "execution_count": 5,
   "metadata": {},
   "outputs": [
    {
     "output_type": "execute_result",
     "data": {
      "text/plain": [
       "'yes'"
      ]
     },
     "metadata": {},
     "execution_count": 5
    }
   ],
   "source": [
    "recCrashOnString(ESS(divide_100_by, \"0\"))"
   ]
  }
 ]
}