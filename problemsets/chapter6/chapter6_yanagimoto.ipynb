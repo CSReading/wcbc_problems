{
 "metadata": {
  "language_info": {
   "codemirror_mode": {
    "name": "ipython",
    "version": 3
   },
   "file_extension": ".py",
   "mimetype": "text/x-python",
   "name": "python",
   "nbconvert_exporter": "python",
   "pygments_lexer": "ipython3",
   "version": "3.8.6-final"
  },
  "orig_nbformat": 2,
  "kernelspec": {
   "name": "python3",
   "display_name": "Python 3.8.6 64-bit ('base': conda)",
   "metadata": {
    "interpreter": {
     "hash": "98b0a9b7b4eaaa670588a142fd0a9b87eaafe866f1db4228be72b4211d12040f"
    }
   }
  }
 },
 "nbformat": 4,
 "nbformat_minor": 2,
 "cells": [
  {
   "source": [
    "## 6.4"
   ],
   "cell_type": "markdown",
   "metadata": {}
  },
  {
   "cell_type": "code",
   "execution_count": 1,
   "metadata": {},
   "outputs": [
    {
     "output_type": "stream",
     "name": "stdout",
     "text": [
      "Overwriting applyBothTwice.py\n"
     ]
    }
   ],
   "source": [
    "%%writefile applyBothTwice.py\n",
    "from utils import DESS\n",
    "from universal import universal\n",
    "\n",
    "def applyBothTwice(inString):\n",
    "    PQ, I = DESS(inString)\n",
    "    P, Q = DESS(PQ)\n",
    "    return universal(Q, universal(P, universal(Q, universal(P, I))))\n"
   ]
  },
  {
   "source": [
    "### Check"
   ],
   "cell_type": "markdown",
   "metadata": {}
  },
  {
   "cell_type": "code",
   "execution_count": 2,
   "metadata": {},
   "outputs": [
    {
     "output_type": "stream",
     "name": "stdout",
     "text": [
      "Overwriting f_P.py\n"
     ]
    }
   ],
   "source": [
    "%%writefile f_P.py\n",
    "def f_P(inString):\n",
    "    return '限無' + inString"
   ]
  },
  {
   "cell_type": "code",
   "execution_count": 3,
   "metadata": {},
   "outputs": [
    {
     "output_type": "stream",
     "name": "stdout",
     "text": [
      "Overwriting f_Q.py\n"
     ]
    }
   ],
   "source": [
    "%%writefile f_Q.py\n",
    "def f_Q(inString):\n",
    "    return '寿' + inString"
   ]
  },
  {
   "cell_type": "code",
   "execution_count": 4,
   "metadata": {},
   "outputs": [
    {
     "output_type": "execute_result",
     "data": {
      "text/plain": [
       "'寿限無寿限無五劫の擦り切れ'"
      ]
     },
     "metadata": {},
     "execution_count": 4
    }
   ],
   "source": [
    "from applyBothTwice import applyBothTwice\n",
    "from utils import rf, ESS\n",
    "I = '五劫の擦り切れ'\n",
    "P = rf('f_P.py')\n",
    "Q = rf('f_Q.py')\n",
    "S = ESS(ESS(P, Q), I)\n",
    "applyBothTwice(S)"
   ]
  },
  {
   "source": [
    "## 6.9\n",
    "入力文字列のZの数を数える`countZs`という関数を用いる。\n",
    "存在は前章の`countCs.tm`によって明らか。\n",
    "\n",
    "この時、以下の`recThreeZsOnEmpty`を考える。"
   ],
   "cell_type": "markdown",
   "metadata": {}
  },
  {
   "cell_type": "code",
   "execution_count": 5,
   "metadata": {},
   "outputs": [],
   "source": [
    "from utils import universal\n",
    "from somewhere import countZs\n",
    "def recThreeZsOnEmpty(progString):\n",
    "    ε = ''\n",
    "    val = universal(progString, ε)\n",
    "    if countZs(val) >= 3:\n",
    "        return 'yes'\n",
    "    else:\n",
    "        return 'no'"
   ]
  },
  {
   "source": [
    "$\\varepsilon$が$P$に対して、正のインスタンスであった場合、\n",
    "シミュレーションは必ず停止する。\n",
    "全てのプログラムの返り値はASCII文字列であるから、`countZs`に対する正のインスタンスであり、非負の整数の文字列を必ず返す。\n",
    "したがって、$P(\\varepsilon)$が3つ以上のZを含む時、必ず\"yes\"を返す。\n",
    "\n",
    "また、$P(\\varepsilon)$がたかだか2つのZしか含まない時は\"no\"を返し、シミュレーションが停止しない場合は未定義である。これらのことから、`recThreeZsOnEmpty`はThreeZsOnEmpty問題を認識する。"
   ],
   "cell_type": "markdown",
   "metadata": {}
  },
  {
   "cell_type": "code",
   "execution_count": null,
   "metadata": {},
   "outputs": [],
   "source": []
  }
 ]
}