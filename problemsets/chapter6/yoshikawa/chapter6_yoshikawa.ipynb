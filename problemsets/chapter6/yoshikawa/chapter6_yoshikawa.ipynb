{
 "metadata": {
  "language_info": {
   "codemirror_mode": {
    "name": "ipython",
    "version": 3
   },
   "file_extension": ".py",
   "mimetype": "text/x-python",
   "name": "python",
   "nbconvert_exporter": "python",
   "pygments_lexer": "ipython3",
   "version": "3.8.6-final"
  },
  "orig_nbformat": 2,
  "kernelspec": {
   "name": "python3",
   "display_name": "Python 3.8.6 64-bit ('conda': virtualenv)",
   "metadata": {
    "interpreter": {
     "hash": "98b0a9b7b4eaaa670588a142fd0a9b87eaafe866f1db4228be72b4211d12040f"
    }
   }
  }
 },
 "nbformat": 4,
 "nbformat_minor": 2,
 "cells": [
  {
   "source": [
    "## 6.4"
   ],
   "cell_type": "markdown",
   "metadata": {}
  },
  {
   "cell_type": "code",
   "execution_count": 1,
   "metadata": {},
   "outputs": [
    {
     "output_type": "stream",
     "name": "stdout",
     "text": [
      "Overwriting applyBothTwice.py\n"
     ]
    }
   ],
   "source": [
    "%%writefile applyBothTwice.py\n",
    "from utils import DESS\n",
    "from universal import universal\n",
    "\n",
    "def applyBothTwice(inString):\n",
    "    PQ, I = DESS(inString)\n",
    "    P, Q = DESS(PQ)\n",
    "    return universal(Q, universal(P, universal(Q, universal(P, I))))\n"
   ]
  },
  {
   "source": [
    "### Check"
   ],
   "cell_type": "markdown",
   "metadata": {}
  },
  {
   "cell_type": "code",
   "execution_count": 2,
   "metadata": {},
   "outputs": [
    {
     "output_type": "stream",
     "name": "stdout",
     "text": [
      "Overwriting f_P.py\n"
     ]
    }
   ],
   "source": [
    "%%writefile f_P.py\n",
    "def f_P(inString):\n",
    "    return '限無' + inString"
   ]
  },
  {
   "cell_type": "code",
   "execution_count": 3,
   "metadata": {},
   "outputs": [
    {
     "output_type": "stream",
     "name": "stdout",
     "text": [
      "Overwriting f_Q.py\n"
     ]
    }
   ],
   "source": [
    "%%writefile f_Q.py\n",
    "def f_Q(inString):\n",
    "    return '寿' + inString"
   ]
  },
  {
   "cell_type": "code",
   "execution_count": 4,
   "metadata": {},
   "outputs": [
    {
     "output_type": "execute_result",
     "data": {
      "text/plain": [
       "'寿限無寿限無五劫の擦り切れ'"
      ]
     },
     "metadata": {},
     "execution_count": 4
    }
   ],
   "source": [
    "from applyBothTwice import applyBothTwice\n",
    "from utils import rf, ESS\n",
    "I = '五劫の擦り切れ'\n",
    "P = rf('f_P.py')\n",
    "Q = rf('f_Q.py')\n",
    "S = ESS(ESS(P, Q), I)\n",
    "applyBothTwice(S)"
   ]
  },
  {
   "source": [
    "## 6.9\n",
    "入力文字列のZの数を数える`countZs`という関数を用いる。\n",
    "存在は前章の`countCs.tm`によって明らか。\n",
    "\n",
    "この時、以下の`recThreeZsOnEmpty`を考える。"
   ],
   "cell_type": "markdown",
   "metadata": {}
  },
  {
   "cell_type": "code",
   "execution_count": 5,
   "metadata": {},
   "outputs": [],
   "source": [
    "from utils import universal\n",
    "from somewhere import countZs\n",
    "def recThreeZsOnEmpty(progString):\n",
    "    ε = ''\n",
    "    val = universal(progString, ε)\n",
    "    if countZs(val) >= 3:\n",
    "        return 'yes'\n",
    "    else:\n",
    "        return 'no'"
   ]
  },
  {
   "source": [
    "$\\varepsilon$が$P$に対して、正のインスタンスであった場合、\n",
    "シミュレーションは必ず停止する。\n",
    "全てのプログラムの返り値はASCII文字列であるから、`countZs`に対する正のインスタンスであり、非負の整数の文字列を必ず返す。\n",
    "したがって、$P(\\varepsilon)$が3つ以上のZを含む時、必ず\"yes\"を返す。\n",
    "\n",
    "また、$P(\\varepsilon)$がたかだか2つのZしか含まない時は\"no\"を返し、シミュレーションが停止しない場合は未定義である。これらのことから、`recThreeZsOnEmpty`はThreeZsOnEmpty問題を認識する。"
   ],
   "cell_type": "markdown",
   "metadata": {}
  },
  {
   "source": [
    "### 6.5"
   ],
   "cell_type": "markdown",
   "metadata": {}
  },
  {
   "cell_type": "code",
   "execution_count": 1,
   "metadata": {},
   "outputs": [
    {
     "output_type": "execute_result",
     "data": {
      "text/plain": [
       "'ccc'"
      ]
     },
     "metadata": {},
     "execution_count": 1
    }
   ],
   "source": [
    "from ignoreInput import ignoreInput\n",
    "from utils import rf\n",
    "import utils\n",
    "\n",
    "utils.writeFile('progString.txt', rf('longestWord.py'))\n",
    "utils.writeFile('inString.txt', 'a bb ccc')\n",
    "ignoreInput('dddd')\n",
    "\n"
   ]
  },
  {
   "source": [
    "### (c)\n",
    "- 命題：全ての文字列Iについて、len(ig(I)) = 3\n",
    "- 真偽：真\n",
    "\n",
    "\n",
    "\n",
    "- 命題：ig(I) = \"abcde\"となるような文字列Iが存在する\n",
    "- 真偽：偽"
   ],
   "cell_type": "markdown",
   "metadata": {}
  },
  {
   "source": [
    "### 6.10\n",
    "\n",
    "- (問)　認識可能だが、決定不能なものの例を挙げよ\n",
    "- (答) \n",
    "\n",
    "（入力）プログラムPと入力IのASCII文字列\n",
    "\n",
    "（解）P(I)が定義されていて, P(I) $\\in L = \\{ json形式に沿っている \\}$ なら yes そうでないならno.\n"
   ],
   "cell_type": "markdown",
   "metadata": {}
  },
  {
   "cell_type": "code",
   "execution_count": null,
   "metadata": {},
   "outputs": [],
   "source": [
    "def recJsonOnString(inString):\n",
    "    (progString, newInString) = utils.DESS(inString)\n",
    "    val = universal(progString, newInString)\n",
    "    if is_json(val) = True:\n",
    "        return \"yes\"\n",
    "\n",
    "    else:\n",
    "        return \"no\"\n",
    "\n",
    "import json\n",
    "\n",
    "def is_json(myjson):\n",
    "  try:\n",
    "    json_object = json.loads(myjson)\n",
    "  except ValueError as e:\n",
    "    return False\n",
    "  return True"
   ]
  }
 ]
}