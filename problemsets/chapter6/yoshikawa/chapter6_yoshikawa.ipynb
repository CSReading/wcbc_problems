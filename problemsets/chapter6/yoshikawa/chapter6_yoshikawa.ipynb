{
 "metadata": {
  "language_info": {
   "codemirror_mode": {
    "name": "ipython",
    "version": 3
   },
   "file_extension": ".py",
   "mimetype": "text/x-python",
   "name": "python",
   "nbconvert_exporter": "python",
   "pygments_lexer": "ipython3",
   "version": "3.8.6-final"
  },
  "orig_nbformat": 2,
  "kernelspec": {
   "name": "python3",
   "display_name": "Python 3",
   "language": "python"
  }
 },
 "nbformat": 4,
 "nbformat_minor": 2,
 "cells": [
  {
   "source": [
    "### 6.5"
   ],
   "cell_type": "markdown",
   "metadata": {}
  },
  {
   "cell_type": "code",
   "execution_count": 1,
   "metadata": {},
   "outputs": [
    {
     "output_type": "execute_result",
     "data": {
      "text/plain": [
       "'ccc'"
      ]
     },
     "metadata": {},
     "execution_count": 1
    }
   ],
   "source": [
    "from ignoreInput import ignoreInput\n",
    "from utils import rf\n",
    "import utils\n",
    "\n",
    "utils.writeFile('progString.txt', rf('longestWord.py'))\n",
    "utils.writeFile('inString.txt', 'a bb ccc')\n",
    "ignoreInput('dddd')\n",
    "\n"
   ]
  },
  {
   "source": [
    "### (c)\n",
    "- 命題：全ての文字列Iについて、len(ig(I)) = 3\n",
    "- 真偽：真\n",
    "\n",
    "\n",
    "\n",
    "- 命題：ig(I) = \"abcde\"となるような文字列Iが存在する\n",
    "- 真偽：偽"
   ],
   "cell_type": "markdown",
   "metadata": {}
  },
  {
   "source": [
    "### 6.10\n",
    "\n",
    "- (問)　認識可能だが、決定不能なものの例を挙げよ\n",
    "- (答) \n",
    "\n",
    "（入力）プログラムPと入力IのASCII文字列\n",
    "\n",
    "（解）P(I)が定義されていて, P(I) $\\in L = \\{ json形式に沿っている \\}$ なら yes そうでないならno.\n"
   ],
   "cell_type": "markdown",
   "metadata": {}
  },
  {
   "cell_type": "code",
   "execution_count": 8,
   "metadata": {},
   "outputs": [],
   "source": [
    "from universal import universal\n",
    "\n",
    "def recJsonOnString(inString):\n",
    "    (progString, newInString) = utils.DESS(inString)\n",
    "    val = universal(progString, newInString)\n",
    "    if is_json(val) == True:\n",
    "        return \"yes\"\n",
    "\n",
    "    else:\n",
    "        return \"no\"\n",
    "\n",
    "import json\n",
    "\n",
    "def is_json(myjson):\n",
    "  try:\n",
    "    json_object = json.loads(myjson)\n",
    "  except ValueError as e:\n",
    "    return False\n",
    "  return True"
   ]
  },
  {
   "cell_type": "code",
   "execution_count": 12,
   "metadata": {},
   "outputs": [
    {
     "output_type": "execute_result",
     "data": {
      "text/plain": [
       "'no'"
      ]
     },
     "metadata": {},
     "execution_count": 12
    }
   ],
   "source": [
    "f = \\\n",
    "\"\"\"\n",
    "\n",
    "def function(x):\n",
    "    return str({'key':'aaa'})\n",
    "\"\"\"\n",
    "\n",
    "\n",
    "\n",
    "recJsonOnString(utils.ESS(f, \"inString\"))"
   ]
  },
  {
   "cell_type": "code",
   "execution_count": null,
   "metadata": {},
   "outputs": [],
   "source": []
  },
  {
   "cell_type": "code",
   "execution_count": null,
   "metadata": {},
   "outputs": [],
   "source": []
  }
 ]
}