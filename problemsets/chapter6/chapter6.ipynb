{
 "metadata": {
  "language_info": {
   "codemirror_mode": {
    "name": "ipython",
    "version": 3
   },
   "file_extension": ".py",
   "mimetype": "text/x-python",
   "name": "python",
   "nbconvert_exporter": "python",
   "pygments_lexer": "ipython3",
   "version": "3.8.6-final"
  },
  "orig_nbformat": 2,
  "kernelspec": {
   "name": "python3",
   "display_name": "Python 3",
   "language": "python"
  }
 },
 "nbformat": 4,
 "nbformat_minor": 2,
 "cells": [
  {
   "source": [
    "from utils import ESS, DESS, writeFile\n",
    "from universal import universal \n",
    "from ignoreInput import ignoreInput"
   ],
   "cell_type": "code",
   "metadata": {},
   "execution_count": 1,
   "outputs": []
  },
  {
   "cell_type": "code",
   "execution_count": 2,
   "metadata": {},
   "outputs": [],
   "source": [
    "# rf関数でprograms内のファイルを参照するように変更\n",
    "def rf(fileName):\n",
    "    fileContents = ''\n",
    "    with open(f'../../programs/{fileName}') as inputFile:\n",
    "        fileContents = inputFile.read()\n",
    "    return fileContents"
   ]
  },
  {
   "source": [
    "### 6.1 (柴田)\n",
    "#### 問\n",
    "この章で示したすべての実験を実際に示せ.  \n",
    "(a) さまざまなPythonコードを対象としてexec()を試せ.  \n",
    "(b) universal.pyを使ってさまざま入力を与えたときにcountLines.pyの出力がどうなるか調べよ.  \n",
    "(c) alterGAGAtoTATA.pyとダウンロードファイルに含まれるalterGAGAtoTATA2.pyにさまざまな入力を与えて, 書き換えられたプログラムのシミュレートを行え."
   ],
   "cell_type": "markdown",
   "metadata": {}
  },
  {
   "cell_type": "code",
   "execution_count": 3,
   "metadata": {},
   "outputs": [
    {
     "output_type": "stream",
     "name": "stdout",
     "text": [
      "abc 7\n"
     ]
    }
   ],
   "source": [
    "# (a)\n",
    "command = \"print('abc', 5 + 2)\"\n",
    "exec(command)"
   ]
  },
  {
   "cell_type": "code",
   "execution_count": 4,
   "metadata": {},
   "outputs": [
    {
     "output_type": "stream",
     "name": "stdout",
     "text": [
      "yes\n1\n38\n7\n"
     ]
    }
   ],
   "source": [
    "# (b)\n",
    "print(universal(rf('containsGAGA.py'), 'GTTGAGA'))\n",
    "print(universal(rf('countLines.py'), 'GTTAA'))\n",
    "print(universal(rf('countLines.py'), rf('containsGAGA.py')))\n",
    "print(universal(rf('countLines.py'), rf('countLines.py')))"
   ]
  },
  {
   "cell_type": "code",
   "execution_count": 5,
   "metadata": {},
   "outputs": [
    {
     "output_type": "stream",
     "name": "stdout",
     "text": [
      "['-', '-', '-', '-', '-', '-', '-', '-', '-', '-', '-', '-', '-', '-', '-', '-', '-', '-', '-', '-', '-', '-', '-', '-', '-', '-', '-', '-', '-', '-', '-', '-', '-', '-', '-', '-', '-', '-', '-', 'G', '-', '-', '-', '-', '-', '-', '-', '-', '-', '-', '-', '-', '-', '-', '-', '-', '-', '-', '-', '-', '-', '-', '-', 'G']\n",
      "--------------------------------------GG----------------------GG\n",
      "-------------------------------------GGG---------------------GGG\n",
      "------------------------------------GG-G--------------------GG-G\n",
      "-----------------------------------GGGGG-------------------GGGGG\n",
      "----------------------------------GG---G------------------GG---G\n",
      "---------------------------------GGG--GG-----------------GGG--GG\n",
      "--------------------------------GG-G-GGG----------------GG-G-GGG\n",
      "-------------------------------GGGGGGG-G---------------GGGGGGG-G\n",
      "------------------------------GG-----GGG--------------GG-----GGG\n",
      "-----------------------------GGG----GG-G-------------GGG----GG-G\n",
      "----------------------------GG-G---GGGGG------------GG-G---GGGGG\n",
      "---------------------------GGGGG--GG---G-----------GGGGG--GG---G\n",
      "--------------------------GG---G-GGG--GG----------GG---G-GGG--GG\n",
      "-------------------------GGG--GGGG-G-GGG---------GGG--GGGG-G-GGG\n",
      "------------------------GG-G-GG--GGGGG-G--------GG-G-GG--GGGGG-G\n",
      "-----------------------GGGGGGGG-GG---GGG-------GGGGGGGG-GG---GGG\n",
      "----------------------GG------GGGG--GG-G------GG------GGGG--GG-G\n",
      "---------------------GGG-----GG--G-GGGGG-----GGG-----GG--G-GGGGG\n",
      "--------------------GG-G----GGG-GGGG---G----GG-G----GGG-GGGG---G\n",
      "-------------------GGGGG---GG-GGG--G--GG---GGGGG---GG-GGG--G--GG\n",
      "------------------GG---G--GGGGG-G-GG-GGG--GG---G--GGGGG-G-GG-GGG\n",
      "-----------------GGG--GG-GG---GGGGGGGG-G-GGG--GG-GG---GGGGGGGG-G\n",
      "----------------GG-G-GGGGGG--GG------GGGGG-G-GGGGGG--GG------GGG\n",
      "---------------GGGGGGG----G-GGG-----GG---GGGGG----G-GGG-----GG-G\n",
      "--------------GG-----G---GGGG-G----GGG--GG---G---GGGG-G----GGGGG\n",
      "-------------GGG----GG--GG--GGG---GG-G-GGG--GG--GG--GGG---GG---G\n",
      "------------GG-G---GGG-GGG-GG-G--GGGGGGG-G-GGG-GGG-GG-G--GGG--GG\n",
      "-----------GGGGG--GG-GGG-GGGGGG-GG-----GGGGG-GGG-GGGGGG-GG-G-GGG\n",
      "----------GG---G-GGGGG-GGG----GGGG----GG---GGG-GGG----GGGGGGGG-G\n",
      "---------GGG--GGGG---GGG-G---GG--G---GGG--GG-GGG-G---GG------GGG\n",
      "--------GG-G-GG--G--GG-GGG--GGG-GG--GG-G-GGGGG-GGG--GGG-----GG-G\n",
      "-------GGGGGGGG-GG-GGGGG-G-GG-GGGG-GGGGGGG---GGG-G-GG-G----GGGGG\n",
      "------GG------GGGGGG---GGGGGGGG--GGG-----G--GG-GGGGGGGG---GG---G\n",
      "-----GGG-----GG----G--GG------G-GG-G----GG-GGGGG------G--GGG--GG\n",
      "----GG-G----GGG---GG-GGG-----GGGGGGG---GGGGG---G-----GG-GG-G-GGG\n",
      "---GGGGG---GG-G--GGGGG-G----GG-----G--GG---G--GG----GGGGGGGGGG-G\n",
      "--GG---G--GGGGG-GG---GGG---GGG----GG-GGG--GG-GGG---GG--------GGG\n",
      "-GGG--GG-GG---GGGG--GG-G--GG-G---GGGGG-G-GGGGG-G--GGG-------GG-G\n",
      "GG-G-GGGGGG--GG--G-GGGGG-GGGGG--GG---GGGGG---GGG-GG-G------GGGGG\n"
     ]
    }
   ],
   "source": [
    "# p.115-116; ルール110\n",
    "from utils import tprint\n",
    "from rule110 import rule110\n",
    "zero = '-'\n",
    "one = 'G'\n",
    "stringLength = 64\n",
    "iterations = 40\n",
    "startString = [zero for x in range(stringLength)]\n",
    "oneLocations = [stringLength-25, stringLength-1]\n",
    "# put a single one at each specified location\n",
    "for location in oneLocations:\n",
    "    startString[location] = one\n",
    "\n",
    "tape = startString\n",
    "for i in range(iterations):\n",
    "    tprint(tape)\n",
    "    tape = rule110(tape)\n",
    "\n",
    "\n",
    "\n"
   ]
  },
  {
   "cell_type": "code",
   "execution_count": 6,
   "metadata": {},
   "outputs": [
    {
     "output_type": "execute_result",
     "data": {
      "text/plain": [
       "'no'"
      ]
     },
     "metadata": {},
     "execution_count": 6
    }
   ],
   "source": [
    "# p.118-119: ingoreInput\n",
    "writeFile('progString.txt', rf('containsGAGA.py'))\n",
    "writeFile('inString.txt', 'GGGGGGGTTT')\n",
    "ignoreInput('GAGAGA')"
   ]
  },
  {
   "cell_type": "code",
   "execution_count": 7,
   "metadata": {},
   "outputs": [
    {
     "output_type": "stream",
     "name": "stdout",
     "text": [
      "GAGA\nCACA\nTATA\nCACA\nTATA\nCACA\n"
     ]
    }
   ],
   "source": [
    "#(c)\n",
    "from alterGAGAtoTATA import alterGAGAtoTATA\n",
    "from alterGAGAtoTATA2 import alterGAGAtoTATA2\n",
    "print(universal(rf('repeatCAorGA.py'), 'GA'))\n",
    "print(universal(rf('repeatCAorGA.py'), 'CA'))\n",
    "print(alterGAGAtoTATA(ESS(rf('repeatCAorGA.py'), 'GA')))\n",
    "print(alterGAGAtoTATA(ESS(rf('repeatCAorGA.py'), 'CA')))\n",
    "print(alterGAGAtoTATA2(rf('repeatCAorGA.py'), 'GA'))\n",
    "print(alterGAGAtoTATA2(rf('repeatCAorGA.py'), 'CA'))"
   ]
  },
  {
   "source": [
    "### 6.2（とくぷ）\n",
    "\n",
    "#### 問題文\n",
    "\n",
    "$U$を万能チューリングマシンとする。\n",
    "$U$を使って`binaryIncrementer`マシンに入力\"x1001x\"を与えたときの動作をシミュレートしたい。このシミュレーションを実行するために$U$にどのような入力文字列を与えるべきか説明せよ。\n",
    "\n",
    "#### 解答\n",
    "\n",
    "チューリングマシンは1つの文字列しか受け付けない。\n",
    "\n",
    "そのため、$U$に与える入力文字列は`binaryIncrementer`の記述である`desc(binaryIncrementer)`と入力`\"x1001x\"`を符号化関数`ESS`を用いて結合する。\n",
    "- 結合した文字列を`str(binaryIncrementer, \"x1001x\")= ESS(desc(binaryIncrementer), \"x1001x)`と定義する。\n",
    "\n",
    "この`str(binaryIncrementer, \"x1001x\")`をインプットとして与えればよい。"
   ],
   "cell_type": "markdown",
   "metadata": {}
  },
  {
   "source": [
    "### 6.3（冨田）\n",
    "問\n",
    " - repeat.py を書け.\n",
    " - Input: S = ESS(P, I) で, PはPythonプログラム, IはPに与える入力文字列.\n",
    " - Output: P(I)に自分自身を連結.\n",
    "\n",
    "答\n",
    " - `/problemsets/chapter6/repeat.py` 参照.\n",
    " \n",
    ">```\n",
    ">from utils import DESS\n",
    ">from universal import universal\n",
    ">\n",
    ">def repeat(inString):\n",
    ">    (progString, newInString) = DESS(inString)\n",
    ">    val = universal(progString, newInString)\n",
    ">    return val * 2\n",
    ">```\n",
    "\n",
    " - 以下は `containsGAGA.py`に, `\"GTTGAGA\"`や`\"ATGAG\"`を入れてみた例."
   ],
   "cell_type": "markdown",
   "metadata": {}
  },
  {
   "cell_type": "code",
   "execution_count": 8,
   "metadata": {},
   "outputs": [
    {
     "output_type": "execute_result",
     "data": {
      "text/plain": [
       "'yesyes'"
      ]
     },
     "metadata": {},
     "execution_count": 8
    }
   ],
   "source": [
    "from repeat import repeat\n",
    "repeat(ESS(rf('containsGAGA.py'), 'GTTGAGA'))"
   ]
  },
  {
   "cell_type": "code",
   "execution_count": 9,
   "metadata": {},
   "outputs": [
    {
     "output_type": "execute_result",
     "data": {
      "text/plain": [
       "'nono'"
      ]
     },
     "metadata": {},
     "execution_count": 9
    }
   ],
   "source": [
    "repeat(ESS(rf('containsGAGA.py'), 'ATGAG'))"
   ]
  },
  {
   "source": [
    "### 6.4（柳本）"
   ],
   "cell_type": "markdown",
   "metadata": {}
  },
  {
   "cell_type": "code",
   "execution_count": 10,
   "metadata": {},
   "outputs": [
    {
     "output_type": "stream",
     "name": "stdout",
     "text": [
      "Overwriting applyBothTwice.py\n"
     ]
    }
   ],
   "source": [
    "%%writefile applyBothTwice.py\n",
    "from utils import DESS\n",
    "from universal import universal\n",
    "\n",
    "def applyBothTwice(inString):\n",
    "    PQ, I = DESS(inString)\n",
    "    P, Q = DESS(PQ)\n",
    "    return universal(Q, universal(P, universal(Q, universal(P, I))))"
   ]
  },
  {
   "source": [
    "#### Check"
   ],
   "cell_type": "markdown",
   "metadata": {}
  },
  {
   "cell_type": "code",
   "execution_count": 11,
   "metadata": {},
   "outputs": [
    {
     "output_type": "execute_result",
     "data": {
      "text/plain": [
       "'寿限無寿限無五劫の擦り切れ'"
      ]
     },
     "metadata": {},
     "execution_count": 11
    }
   ],
   "source": [
    "from applyBothTwice import applyBothTwice\n",
    "\n",
    "I = '五劫の擦り切れ'\n",
    "P = \\\n",
    "\"\"\"\n",
    "def f_P(inString):\n",
    "    return '限無' + inString\n",
    "\"\"\"\n",
    "Q = \\\n",
    "\"\"\"\n",
    "def f_Q(inString):\n",
    "    return '寿' + inString\n",
    "\"\"\"\n",
    "S = ESS(ESS(P, Q), I)\n",
    "applyBothTwice(S)"
   ]
  },
  {
   "source": [
    "### 6.5（吉川）"
   ],
   "cell_type": "markdown",
   "metadata": {}
  },
  {
   "cell_type": "code",
   "execution_count": 12,
   "metadata": {},
   "outputs": [
    {
     "output_type": "execute_result",
     "data": {
      "text/plain": [
       "'ccc'"
      ]
     },
     "metadata": {},
     "execution_count": 12
    }
   ],
   "source": [
    "writeFile('progString.txt', rf('longestWord.py'))\n",
    "writeFile('inString.txt', 'a bb ccc')\n",
    "ignoreInput('dddd')\n"
   ]
  },
  {
   "source": [
    "#### (c)\n",
    "- 命題：全ての文字列Iについて、len(ig(I)) = 3\n",
    "- 真偽：真\n",
    "\n",
    "\n",
    "- 命題：ig(I) = \"abcde\"となるような文字列Iが存在する\n",
    "- 真偽：偽"
   ],
   "cell_type": "markdown",
   "metadata": {}
  },
  {
   "source": [
    "### 6.6 (柴田)\n",
    "#### 問\n",
    "\"GAGA\"を含む遺伝子文字列の言語を認識するが判定しないPythonプログラムを書け."
   ],
   "cell_type": "markdown",
   "metadata": {}
  },
  {
   "source": [
    "from containsGAGA import containsGAGA\n",
    "def recContainsGAGA(inString):\n",
    "    val = containsGAGA(inString)\n",
    "    if val == 'yes':\n",
    "        return 'yes'\n",
    "    else:\n",
    "        while 1 == 1:\n",
    "            print('Umm, I\\'m thinking... It\\'s a difficult calculation...')\n"
   ],
   "cell_type": "code",
   "metadata": {},
   "execution_count": 13,
   "outputs": []
  },
  {
   "cell_type": "code",
   "execution_count": 14,
   "metadata": {},
   "outputs": [
    {
     "output_type": "stream",
     "name": "stdout",
     "text": [
      "yes\n"
     ]
    }
   ],
   "source": [
    "print(recContainsGAGA('GAGAGA'))"
   ]
  },
  {
   "cell_type": "code",
   "execution_count": 15,
   "metadata": {},
   "outputs": [],
   "source": [
    "#print(recContainsGAGA('GATAGA'))"
   ]
  },
  {
   "source": [
    "### 6.7（とくぷ）\n",
    "\n",
    "まず定義を確認する。\n",
    "\n",
    "#### 定義\n",
    "\n",
    "**認識する/認識可能**: 次の条件が満たされるとき,プログラム$P$は言語$L$\n",
    "を認識する。\n",
    "\n",
    "- すべての$I \\in L$に対し, $P(I) = \\text{'yes'}$である。\n",
    "- $I \\not\\in L$に対し、$P(I)$は未定義, または$P(I) = \\text{'no'}$である。\n",
    "\n",
    "言語Lは,それを認識するプログラムが存在するなら認識可能である。\n",
    "\n",
    "**$L_1 \\cap L_2$**: 言語に関する積集合, $L_1$と$L_2$の両方に含まれるすべての文字列による言語\n",
    "\n",
    "#### 問題文\n",
    "\n",
    "**$L_1$と$L_2$が認識可能言語なら, $L_1 \\cap L_2$も認識可能言語であることを証明せよ。**\n",
    "\n",
    "#### 解答\n",
    "\n",
    "$L_1, L_2$は認識可能言語なので、これらを認識するプログラム$P_1,P_2$が存在することに注意する。\n",
    "\n",
    "背理法により示す。　$L_1 \\cap L_2$が認識可能言語でないとする。\n",
    "すると任意のプログラムPは以下のいずれかの状況となる。\n",
    "\n",
    "1. ある $I \\in L_1 \\cap L_2$に対し, $P(I) \\not= \\text{'yes'}$である\n",
    "2. $I \\not\\in L_1 \\cap L_2$に対し、$P(I) = \\text{'yes'}$\n",
    "\n",
    "\n",
    "しかし第1のケースはありえない。$L_1 \\cap L_2 \\subset L_1$, $L_1 \\cap L_2 \\subset L_2$より, 任意の$I \\in L_1 \\cap L_2$に対して$P_1(I) = \\text{'yes'}$, $P_2(I) = \\text{'yes'}$が成立する。したがって矛盾。\n",
    "\n",
    "第2のケースも同様にありえない。3つの場合が存在する\n",
    "\n",
    "- ある$I \\in L_2 \\backslash L_1$が存在する。\n",
    "    このとき、$P_1(I)$は未定義もしくは$P_1(I)=\\text{'no'}$である。したがって矛盾。\n",
    "\n",
    "- ある$I \\in L_1 \\backslash L_2$が存在する。\n",
    "    このとき、$P_２(I)$は未定義もしくは$P_２(I)=\\text{'no'}$である。したがって矛盾。\n",
    "\n",
    "- $L_1 = L_2$\n",
    "    このとき、どのような$I \\not\\in L_1 \\cap L_2$に対しても,$P_1(I)$は未定義もしくは$P_1(I)=\\text{'no'}$,$P_2(I)$は未定義もしくは$P_2(I)=\\text{'no'}$となる。　したがってこのケースは起こり得ない。\n",
    "\n",
    "\n",
    "したがって、任意のプログラムにおいて条件1, 2のいずれかの状況となることはありえない。つまり$L_1 \\cap L_2$は認識可能言語である。\n"
   ],
   "cell_type": "markdown",
   "metadata": {}
  },
  {
   "source": [
    "### 6.8（冨田）\n",
    "問\n",
    " - $L_{\\rm CrashOnString}$が認識可能であることを証明せよ.\n",
    " - (復習) CrashOnString問題 = 「入力:S=ESS(P, I), 解:P(I)がPythonの例外を投げるなら\"yes\", そうでないなら\"no\"」\n",
    " \n",
    "答\n",
    " - 以下の`recCrashOnString.py`がCrashOnString問題を認識する. (`/problemsets/chapter6/recCrashOnString.py`参照.)\n",
    " \n",
    ">```\n",
    ">from utils import DESS\n",
    ">from universal import universal\n",
    ">\n",
    ">def recCrashOnString(inString):\n",
    ">    (progString, newInString) = DESS(inString)\n",
    ">    try:\n",
    ">        universal(progString, newInString)\n",
    ">    except:\n",
    ">        return 'yes'\n",
    ">    return 'no'\n",
    ">```\n",
    "\n",
    " - tryでP(I)を試し, 正インスタンスに対しては必ず例外が投げられるため\"yes\"を返す.\n",
    " - 負インスタンスに対しては, P(I)が無事終わるなら\"no\"を返すが, 場合によっては無限ループを起こすこともある.\n",
    "\n",
    " 以下は「100をinputされた数で割る」というプログラムPと, I=\"10\", \"0\", \"hoge\"についてrecCrashOnString(ESS(P, I))を試した."
   ],
   "cell_type": "markdown",
   "metadata": {}
  },
  {
   "cell_type": "code",
   "execution_count": 16,
   "metadata": {},
   "outputs": [
    {
     "output_type": "execute_result",
     "data": {
      "text/plain": [
       "'no'"
      ]
     },
     "metadata": {},
     "execution_count": 16
    }
   ],
   "source": [
    "divide_100_by = \\\n",
    "\"\"\"\n",
    "def divide_100_by(a):\n",
    "    a = int(a)\n",
    "    ans = 100 / a\n",
    "    return str(ans)\n",
    "\"\"\"\n",
    "\n",
    "from recCrashOnString import recCrashOnString\n",
    "recCrashOnString(ESS(divide_100_by, \"10\"))  #100/10は計算できるので\"no\"を返す"
   ]
  },
  {
   "cell_type": "code",
   "execution_count": 17,
   "metadata": {},
   "outputs": [
    {
     "output_type": "execute_result",
     "data": {
      "text/plain": [
       "'yes'"
      ]
     },
     "metadata": {},
     "execution_count": 17
    }
   ],
   "source": [
    "recCrashOnString(ESS(divide_100_by, \"0\"))  #100/0は\b\bエラーが出るので\"yes\"を返す"
   ]
  },
  {
   "cell_type": "code",
   "execution_count": 18,
   "metadata": {},
   "outputs": [
    {
     "output_type": "execute_result",
     "data": {
      "text/plain": [
       "'yes'"
      ]
     },
     "metadata": {},
     "execution_count": 18
    }
   ],
   "source": [
    "recCrashOnString(ESS(divide_100_by, \"hoge\"))  #\"hoge\"はintにできなくてエラーが出るので\"yes\"を返す"
   ]
  },
  {
   "source": [
    "### 6.9（柳本）\n",
    "入力文字列のZの数を数える`countZs`という関数を用いる。\n",
    "存在は前章の`countCs.tm`によって明らか。\n",
    "\n",
    "この時、以下の`recThreeZsOnEmpty`を考える。\n",
    ">```\n",
    ">from utils import universal\n",
    ">from somewhere import countZs\n",
    ">\n",
    ">def recThreeZsOnEmpty(progString):\n",
    ">    ε = ''\n",
    ">    val = universal(progString, ε)\n",
    ">    if countZs(val) >= 3:\n",
    ">        return 'yes'\n",
    ">    else:\n",
    ">        return 'no'\n",
    ">```\n",
    "\n",
    "$\\varepsilon$が$P$に対して、正のインスタンスであった場合、\n",
    "シミュレーションは必ず停止する。\n",
    "全てのプログラムの返り値はASCII文字列であるから、`countZs`に対する正のインスタンスであり、非負の整数の文字列を必ず返す。\n",
    "したがって、$P(\\varepsilon)$が3つ以上のZを含む時、必ず\"yes\"を返す。\n",
    "\n",
    "また、$P(\\varepsilon)$がたかだか2つのZしか含まない時は\"no\"を返し、シミュレーションが停止しない場合は未定義である。これらのことから、`recThreeZsOnEmpty`はThreeZsOnEmpty問題を認識する。"
   ],
   "cell_type": "markdown",
   "metadata": {}
  },
  {
   "source": [
    "### 6.10（吉川）\n",
    "\n",
    "- (問)　認識可能だが、決定不能なものの例を挙げよ\n",
    "- (答) \n",
    "\n",
    "（入力）プログラムPと入力IのASCII文字列\n",
    "\n",
    "（解）P(I)が定義されていて, P(I) $\\in L = \\{ json形式に沿っている \\}$ なら yes そうでないならno.\n",
    "\n",
    "```\n",
    "\n",
    "```\n"
   ],
   "cell_type": "markdown",
   "metadata": {}
  },
  {
   "cell_type": "code",
   "execution_count": 19,
   "metadata": {},
   "outputs": [],
   "source": [
    "from universal import universal\n",
    "from utils import DESS\n",
    "import json\n",
    "\n",
    "def recJsonOnString(inString):\n",
    "    (progString, newInString) = DESS(inString)\n",
    "    val = universal(progString, newInString)\n",
    "    if is_json(val) == True:\n",
    "        return \"yes\"\n",
    "\n",
    "    else:\n",
    "        return \"no\"\n",
    "\n",
    "def is_json(myjson):\n",
    "  try:\n",
    "    json_object = json.loads(myjson)\n",
    "  except ValueError as e:\n",
    "    return False\n",
    "  return True"
   ]
  },
  {
   "cell_type": "code",
   "execution_count": 20,
   "metadata": {},
   "outputs": [
    {
     "output_type": "execute_result",
     "data": {
      "text/plain": [
       "'no'"
      ]
     },
     "metadata": {},
     "execution_count": 20
    }
   ],
   "source": [
    "f = \\\n",
    "\"\"\"\n",
    "\n",
    "def function(x):\n",
    "    return str({'key':'aaa'})\n",
    "\"\"\"\n",
    "\n",
    "recJsonOnString(ESS(f, \"inString\"))"
   ]
  }
 ]
}