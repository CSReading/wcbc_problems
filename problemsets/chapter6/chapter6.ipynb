{
 "metadata": {
  "language_info": {
   "codemirror_mode": {
    "name": "ipython",
    "version": 3
   },
   "file_extension": ".py",
   "mimetype": "text/x-python",
   "name": "python",
   "nbconvert_exporter": "python",
   "pygments_lexer": "ipython3",
   "version": "3.8.6-final"
  },
  "orig_nbformat": 2,
  "kernelspec": {
   "name": "python3",
   "display_name": "Python 3",
   "language": "python"
  }
 },
 "nbformat": 4,
 "nbformat_minor": 2,
 "cells": [
  {
   "source": [
    "from utils import ESS, DESS, writeFile\n",
    "from universal import universal \n",
    "from ignoreInput import ignoreInput"
   ],
   "cell_type": "code",
   "metadata": {},
   "execution_count": 60,
   "outputs": []
  },
  {
   "cell_type": "code",
   "execution_count": 33,
   "metadata": {},
   "outputs": [],
   "source": [
    "# rf関数でprograms内のファイルを参照するように変更\n",
    "def rf(fileName):\n",
    "    fileContents = ''\n",
    "    with open(f'../../programs/{fileName}') as inputFile:\n",
    "        fileContents = inputFile.read()\n",
    "    return fileContents"
   ]
  },
  {
   "source": [
    "#### 6-1 (柴田)\n",
    "##### 問\n",
    "この章で示したすべての実験を実際に示せ.  \n",
    "(a) さまざまなPythonコードを対象としてexec()を試せ.  \n",
    "(b) universal.pyを使ってさまざま入力を与えたときにcountLines.pyの出力がどうなるか調べよ.  \n",
    "(c) alterGAGAtoTATA.pyとダウンロードファイルに含まれるalterGAGAtoTATA2.pyにさまざまな入力を与えて, 書き換えられたプログラムのシミュレートを行え."
   ],
   "cell_type": "markdown",
   "metadata": {}
  },
  {
   "cell_type": "code",
   "execution_count": 38,
   "metadata": {},
   "outputs": [
    {
     "output_type": "stream",
     "name": "stdout",
     "text": [
      "abc 7\n"
     ]
    }
   ],
   "source": [
    "# (a)\n",
    "command = \"print('abc', 5 + 2)\"\n",
    "exec(command)"
   ]
  },
  {
   "cell_type": "code",
   "execution_count": 46,
   "metadata": {},
   "outputs": [
    {
     "output_type": "stream",
     "name": "stdout",
     "text": [
      "yes\n1\n38\n7\n"
     ]
    }
   ],
   "source": [
    "# (b)\n",
    "print(universal(rf('containsGAGA.py'), 'GTTGAGA'))\n",
    "print(universal(rf('countLines.py'), 'GTTAA'))\n",
    "print(universal(rf('countLines.py'), rf('containsGAGA.py')))\n",
    "print(universal(rf('countLines.py'), rf('countLines.py')))"
   ]
  },
  {
   "cell_type": "code",
   "execution_count": 52,
   "metadata": {},
   "outputs": [
    {
     "output_type": "stream",
     "name": "stdout",
     "text": [
      "['-', '-', '-', '-', '-', '-', '-', '-', '-', '-', '-', '-', '-', '-', '-', '-', '-', '-', '-', '-', '-', '-', '-', '-', '-', '-', '-', '-', '-', '-', '-', '-', '-', '-', '-', '-', '-', '-', '-', 'G', '-', '-', '-', '-', '-', '-', '-', '-', '-', '-', '-', '-', '-', '-', '-', '-', '-', '-', '-', '-', '-', '-', '-', 'G']\n",
      "--------------------------------------GG----------------------GG\n",
      "-------------------------------------GGG---------------------GGG\n",
      "------------------------------------GG-G--------------------GG-G\n",
      "-----------------------------------GGGGG-------------------GGGGG\n",
      "----------------------------------GG---G------------------GG---G\n",
      "---------------------------------GGG--GG-----------------GGG--GG\n",
      "--------------------------------GG-G-GGG----------------GG-G-GGG\n",
      "-------------------------------GGGGGGG-G---------------GGGGGGG-G\n",
      "------------------------------GG-----GGG--------------GG-----GGG\n",
      "-----------------------------GGG----GG-G-------------GGG----GG-G\n",
      "----------------------------GG-G---GGGGG------------GG-G---GGGGG\n",
      "---------------------------GGGGG--GG---G-----------GGGGG--GG---G\n",
      "--------------------------GG---G-GGG--GG----------GG---G-GGG--GG\n",
      "-------------------------GGG--GGGG-G-GGG---------GGG--GGGG-G-GGG\n",
      "------------------------GG-G-GG--GGGGG-G--------GG-G-GG--GGGGG-G\n",
      "-----------------------GGGGGGGG-GG---GGG-------GGGGGGGG-GG---GGG\n",
      "----------------------GG------GGGG--GG-G------GG------GGGG--GG-G\n",
      "---------------------GGG-----GG--G-GGGGG-----GGG-----GG--G-GGGGG\n",
      "--------------------GG-G----GGG-GGGG---G----GG-G----GGG-GGGG---G\n",
      "-------------------GGGGG---GG-GGG--G--GG---GGGGG---GG-GGG--G--GG\n",
      "------------------GG---G--GGGGG-G-GG-GGG--GG---G--GGGGG-G-GG-GGG\n",
      "-----------------GGG--GG-GG---GGGGGGGG-G-GGG--GG-GG---GGGGGGGG-G\n",
      "----------------GG-G-GGGGGG--GG------GGGGG-G-GGGGGG--GG------GGG\n",
      "---------------GGGGGGG----G-GGG-----GG---GGGGG----G-GGG-----GG-G\n",
      "--------------GG-----G---GGGG-G----GGG--GG---G---GGGG-G----GGGGG\n",
      "-------------GGG----GG--GG--GGG---GG-G-GGG--GG--GG--GGG---GG---G\n",
      "------------GG-G---GGG-GGG-GG-G--GGGGGGG-G-GGG-GGG-GG-G--GGG--GG\n",
      "-----------GGGGG--GG-GGG-GGGGGG-GG-----GGGGG-GGG-GGGGGG-GG-G-GGG\n",
      "----------GG---G-GGGGG-GGG----GGGG----GG---GGG-GGG----GGGGGGGG-G\n",
      "---------GGG--GGGG---GGG-G---GG--G---GGG--GG-GGG-G---GG------GGG\n",
      "--------GG-G-GG--G--GG-GGG--GGG-GG--GG-G-GGGGG-GGG--GGG-----GG-G\n",
      "-------GGGGGGGG-GG-GGGGG-G-GG-GGGG-GGGGGGG---GGG-G-GG-G----GGGGG\n",
      "------GG------GGGGGG---GGGGGGGG--GGG-----G--GG-GGGGGGGG---GG---G\n",
      "-----GGG-----GG----G--GG------G-GG-G----GG-GGGGG------G--GGG--GG\n",
      "----GG-G----GGG---GG-GGG-----GGGGGGG---GGGGG---G-----GG-GG-G-GGG\n",
      "---GGGGG---GG-G--GGGGG-G----GG-----G--GG---G--GG----GGGGGGGGGG-G\n",
      "--GG---G--GGGGG-GG---GGG---GGG----GG-GGG--GG-GGG---GG--------GGG\n",
      "-GGG--GG-GG---GGGG--GG-G--GG-G---GGGGG-G-GGGGG-G--GGG-------GG-G\n",
      "GG-G-GGGGGG--GG--G-GGGGG-GGGGG--GG---GGGGG---GGG-GG-G------GGGGG\n"
     ]
    }
   ],
   "source": [
    "# p.115-116; ルール110\n",
    "from utils import tprint\n",
    "from rule110 import rule110\n",
    "zero = '-'\n",
    "one = 'G'\n",
    "stringLength = 64\n",
    "iterations = 40\n",
    "startString = [zero for x in range(stringLength)]\n",
    "oneLocations = [stringLength-25, stringLength-1]\n",
    "# put a single one at each specified location\n",
    "for location in oneLocations:\n",
    "    startString[location] = one\n",
    "\n",
    "tape = startString\n",
    "for i in range(iterations):\n",
    "    tprint(tape)\n",
    "    tape = rule110(tape)\n",
    "\n",
    "\n",
    "\n"
   ]
  },
  {
   "cell_type": "code",
   "execution_count": 61,
   "metadata": {},
   "outputs": [
    {
     "output_type": "execute_result",
     "data": {
      "text/plain": [
       "'no'"
      ]
     },
     "metadata": {},
     "execution_count": 61
    }
   ],
   "source": [
    "# p.118-119: ingoreInput\n",
    "writeFile('progString.txt', rf('containsGAGA.py'))\n",
    "writeFile('inString.txt', 'GGGGGGGTTT')\n",
    "ignoreInput('GAGAGA')"
   ]
  },
  {
   "cell_type": "code",
   "execution_count": 64,
   "metadata": {},
   "outputs": [
    {
     "output_type": "stream",
     "name": "stdout",
     "text": [
      "GAGA\nCACA\nTATA\nCACA\nTATA\nCACA\n"
     ]
    }
   ],
   "source": [
    "#(c)\n",
    "from alterGAGAtoTATA import alterGAGAtoTATA\n",
    "from alterGAGAtoTATA2 import alterGAGAtoTATA2\n",
    "print(universal(rf('repeatCAorGA.py'), 'GA'))\n",
    "print(universal(rf('repeatCAorGA.py'), 'CA'))\n",
    "print(alterGAGAtoTATA(ESS(rf('repeatCAorGA.py'), 'GA')))\n",
    "print(alterGAGAtoTATA(ESS(rf('repeatCAorGA.py'), 'CA')))\n",
    "print(alterGAGAtoTATA2(rf('repeatCAorGA.py'), 'GA'))\n",
    "print(alterGAGAtoTATA2(rf('repeatCAorGA.py'), 'CA'))"
   ]
  },
  {
   "source": [
    "#### 6-6 (柴田)\n",
    "##### 問\n",
    "\"GAGA\"を含む遺伝子文字列の言語を認識するが判定しないPythonプログラムを書け."
   ],
   "cell_type": "markdown",
   "metadata": {}
  },
  {
   "source": [
    "from containsGAGA import containsGAGA\n",
    "def recContainsGAGA(inString):\n",
    "    val = containsGAGA(inString)\n",
    "    if val == 'yes':\n",
    "        return 'yes'\n",
    "    else:\n",
    "        while 1 == 1:\n",
    "            print('Umm, I\\'m thinking... It\\'s a difficult calculation...')\n"
   ],
   "cell_type": "code",
   "metadata": {},
   "execution_count": 85,
   "outputs": []
  },
  {
   "cell_type": "code",
   "execution_count": 86,
   "metadata": {},
   "outputs": [
    {
     "output_type": "stream",
     "name": "stdout",
     "text": [
      "yes\n"
     ]
    }
   ],
   "source": [
    "print(recContainsGAGA('GAGAGA'))"
   ]
  },
  {
   "cell_type": "code",
   "execution_count": null,
   "metadata": {},
   "outputs": [],
   "source": [
    "#print(recContainsGAGA('GATAGA'))"
   ]
  }
 ]
}