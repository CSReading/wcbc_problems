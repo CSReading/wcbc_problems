{
 "metadata": {
  "language_info": {
   "codemirror_mode": {
    "name": "ipython",
    "version": 3
   },
   "file_extension": ".py",
   "mimetype": "text/x-python",
   "name": "python",
   "nbconvert_exporter": "python",
   "pygments_lexer": "ipython3",
   "version": "3.8.6-final"
  },
  "orig_nbformat": 2,
  "kernelspec": {
   "name": "python3",
   "display_name": "Python 3",
   "language": "python"
  }
 },
 "nbformat": 4,
 "nbformat_minor": 2,
 "cells": [
  {
   "source": [
    "from utils import rf, ESS, DESS\n",
    "from universal import universal "
   ],
   "cell_type": "code",
   "metadata": {},
   "execution_count": 1,
   "outputs": []
  },
  {
   "source": [
    "#### 6-1 (柴田)\n",
    "##### 問\n",
    "この章で示したすべての実験を実際に示せ.  \n",
    "(a) さまざまなPythonコードを対象としてexec()を試せ.  \n",
    "(b) universal.pyを使ってさまざま入力を与えたときにcountLines.pyの出力がどうなるか調べよ.  \n",
    "(c) alterGAGAtoTATA.pyとダウンロードファイルに含まれるalterGAGAtoTATA2.pyにさまざまな入力を与えて, 書き換えられたプログラムのシミュレートを行え."
   ],
   "cell_type": "markdown",
   "metadata": {}
  },
  {
   "cell_type": "code",
   "execution_count": 8,
   "metadata": {},
   "outputs": [
    {
     "output_type": "stream",
     "name": "stdout",
     "text": [
      "abc 7\n"
     ]
    },
    {
     "output_type": "error",
     "ename": "FileNotFoundError",
     "evalue": "[Errno 2] No such file or directory: 'containsGAGA.py'",
     "traceback": [
      "\u001b[0;31m---------------------------------------------------------------------------\u001b[0m",
      "\u001b[0;31mFileNotFoundError\u001b[0m                         Traceback (most recent call last)",
      "\u001b[0;32m<ipython-input-8-14241e46b70a>\u001b[0m in \u001b[0;36m<module>\u001b[0;34m\u001b[0m\n\u001b[1;32m      1\u001b[0m \u001b[0mcommand\u001b[0m \u001b[0;34m=\u001b[0m \u001b[0;34m\"print('abc', 5 + 2)\"\u001b[0m\u001b[0;34m\u001b[0m\u001b[0;34m\u001b[0m\u001b[0m\n\u001b[1;32m      2\u001b[0m \u001b[0mexec\u001b[0m\u001b[0;34m(\u001b[0m\u001b[0mcommand\u001b[0m\u001b[0;34m)\u001b[0m\u001b[0;34m\u001b[0m\u001b[0;34m\u001b[0m\u001b[0m\n\u001b[0;32m----> 3\u001b[0;31m \u001b[0muniversal\u001b[0m\u001b[0;34m(\u001b[0m\u001b[0mrf\u001b[0m\u001b[0;34m(\u001b[0m\u001b[0;34m'containsGAGA.py'\u001b[0m\u001b[0;34m)\u001b[0m\u001b[0;34m,\u001b[0m \u001b[0;34m'GTTGAGA'\u001b[0m\u001b[0;34m)\u001b[0m\u001b[0;34m\u001b[0m\u001b[0;34m\u001b[0m\u001b[0m\n\u001b[0m\u001b[1;32m      4\u001b[0m \u001b[0muniversal\u001b[0m\u001b[0;34m(\u001b[0m\u001b[0mrf\u001b[0m\u001b[0;34m(\u001b[0m\u001b[0;34m'containsGAGA.py'\u001b[0m\u001b[0;34m)\u001b[0m\u001b[0;34m,\u001b[0m \u001b[0;34m'GTTAA'\u001b[0m\u001b[0;34m)\u001b[0m\u001b[0;34m\u001b[0m\u001b[0;34m\u001b[0m\u001b[0m\n",
      "\u001b[0;32m~/work/programs/utils.py\u001b[0m in \u001b[0;36mreadFile\u001b[0;34m(fileName)\u001b[0m\n\u001b[1;32m    155\u001b[0m \u001b[0;34m\u001b[0m\u001b[0m\n\u001b[1;32m    156\u001b[0m     \u001b[0mfileContents\u001b[0m \u001b[0;34m=\u001b[0m \u001b[0;34m''\u001b[0m\u001b[0;34m\u001b[0m\u001b[0;34m\u001b[0m\u001b[0m\n\u001b[0;32m--> 157\u001b[0;31m     \u001b[0;32mwith\u001b[0m \u001b[0mopen\u001b[0m\u001b[0;34m(\u001b[0m\u001b[0mfileName\u001b[0m\u001b[0;34m)\u001b[0m \u001b[0;32mas\u001b[0m \u001b[0minputFile\u001b[0m\u001b[0;34m:\u001b[0m\u001b[0;34m\u001b[0m\u001b[0;34m\u001b[0m\u001b[0m\n\u001b[0m\u001b[1;32m    158\u001b[0m         \u001b[0mfileContents\u001b[0m \u001b[0;34m=\u001b[0m \u001b[0minputFile\u001b[0m\u001b[0;34m.\u001b[0m\u001b[0mread\u001b[0m\u001b[0;34m(\u001b[0m\u001b[0;34m)\u001b[0m\u001b[0;34m\u001b[0m\u001b[0;34m\u001b[0m\u001b[0m\n\u001b[1;32m    159\u001b[0m     \u001b[0;32mreturn\u001b[0m \u001b[0mfileContents\u001b[0m\u001b[0;34m\u001b[0m\u001b[0;34m\u001b[0m\u001b[0m\n",
      "\u001b[0;31mFileNotFoundError\u001b[0m: [Errno 2] No such file or directory: 'containsGAGA.py'"
     ]
    }
   ],
   "source": [
    "command = \"print('abc', 5 + 2)\"\n",
    "exec(command)\n",
    "\n",
    "universal(rf('containsGAGA.py'), 'GTTGAGA')\n",
    "universal(rf('countLines.py'), 'GTTAA')\n",
    "\n",
    "universal(rf('containsGAGA.py'), rf('containsGAGA.py'))\n",
    "\n",
    "rf('rule110.py')\n",
    "zero = '-'\n",
    "one = 'G'\n",
    "stringLength = 64\n",
    "iterations = 40\n",
    "startString = [zero for x in range(stringLength)]\n",
    "oneLocations = [stringLength-25, stringLength-1]\n",
    "# put a single one at each specified location\n",
    "for location in oneLocations:\n",
    "    startString[location] = one\n",
    "\n",
    "tape = startString\n",
    "for i in range(iterations):\n",
    "    utils.tprint(tape)\n",
    "    tape = rule110(tape)\n",
    "\n",
    "utils.writeFile('progString.txt', rf('containsGAGA.py'))\n",
    "utils.writeFile('inString.txt', rf('GGGGGGGTTT'))\n",
    "ignoreInput('GAGAGA')\n",
    "\n",
    "from alterGAGAtoTATA import alterGAGAtoTATA\n",
    "from alterGAGAtoTATA2 import alterGAGAtoTATA2\n",
    "alterGAGAtoTATA(ESS(rf('repeatCAorGA.py'), 'GA'))\n",
    "alterGAGAtoTATA(ESS(rf('repeatCAorGA.py'), 'GA'))\n",
    "\n"
   ]
  },
  {
   "cell_type": "code",
   "execution_count": null,
   "metadata": {},
   "outputs": [],
   "source": []
  },
  {
   "source": [
    "#### 6-6 (柴田)\n",
    "##### 問\n",
    "\"GAGA\"を含む遺伝子文字列の言語を認識するが判定しないPythonプログラムを書け."
   ],
   "cell_type": "markdown",
   "metadata": {}
  },
  {
   "cell_type": "code",
   "execution_count": null,
   "metadata": {},
   "outputs": [],
   "source": [
    "def recContainsGAGA(inString):\n",
    "    (progString, inString) = DESS(inString)\n",
    "    val = universal(progString, inString)\n",
    "    if val == 'yes':\n",
    "        return 'yes'\n",
    "    else:\n",
    "        return 'no'\n",
    "recContainsGAGA(ESS(rf('containsGAGA.py'), 'GA'))\n"
   ]
  }
 ]
}