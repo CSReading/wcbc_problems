{
 "metadata": {
  "language_info": {
   "codemirror_mode": {
    "name": "ipython",
    "version": 3
   },
   "file_extension": ".py",
   "mimetype": "text/x-python",
   "name": "python",
   "nbconvert_exporter": "python",
   "pygments_lexer": "ipython3",
   "version": "3.7.4"
  },
  "orig_nbformat": 2,
  "kernelspec": {
   "name": "python374jvsc74a57bd004519339525595c0aa580e2ce339b15b315f4363ec21d43e5f5b08aa35789ec4",
   "display_name": "Python 3.7.4 64-bit ('base': conda)"
  }
 },
 "nbformat": 4,
 "nbformat_minor": 2,
 "cells": [
  {
   "source": [
    "### 16-5\n",
    "#### BrokenBinAdLogi:BinAdLogic に次の推論規則を追加したもの.\n",
    "規則 1B: A=B なら A=1+B\n",
    "\n",
    "- 1=10を証明可能だが、偽の命題\n",
    "    - 1=1\n",
    "    - 1=1+1\n",
    "    - 1=10\n",
    "\n",
    "#### RestrictedBinAdLogic:BinAdLogic から規則 3 を取り除いたもの.\n",
    "- 1+1=10は真だが証明不能\n",
    "    - 1=1\n",
    "    - 1+1=1+1\n",
    "- 1+1を10に置き換えられないので証明不能"
   ],
   "cell_type": "markdown",
   "metadata": {}
  },
  {
   "source": [
    "### 16-10\n",
    "#### (a) \n",
    "- S'も定義より以下のように表せる.\n",
    "    - $1+b_kb_{k-1} \\dots b_20 (+ N)* = N (+N)*$\n",
    "- 推論規則３より, 以下が成り立つためSが得られる.\n",
    "    - $1+b_kb_{k-1} \\dots b_20 (+ N)* = N (+N)*$\n",
    "    - $b_kb_{k-1} \\dots b_21 (+ N)* = N (+N)*$\n",
    "#### (b)\n",
    "- Sは偶数を含むの命題である\n",
    "    - $b_kb_{k-1} \\dots b_20 (+ N)* = N (+N)*$\n",
    "- S'を以下のように表す\n",
    "    - $b_kb_{k-1} \\dots b_2 + b_kb_{k-1} \\dots b_2 (+ N)* = N (+N)*$\n",
    "- 推論規則2より, 以下が成り立つためSが得られる.\n",
    "    - $b_kb_{k-1} \\dots b_2 + b_kb_{k-1} \\dots b_2 (+ N)* = N (+N)*$\n",
    "    - $b_kb_{k-1} \\dots b_20 (+ N)* = N (+N)*$\n",
    "\n",
    "#### (c)\n",
    "- bより10は$1+1$を含む命題から$10$を含む命題は導くことができる.\n",
    "- 任意の$k$までの全ての整数について$1+1+ \\cdots+1$(1 は k 個ある)を含む命題から導くことができることできるとする.\n",
    "- k+1が奇数ならば, 以下の手続きで$1+1+ \\cdots+1$(1 は k+1 個ある)を含む命題から導くことができる\n",
    "    - $1+1+ \\cdots+1 (+ N)* = N (+N)*$\n",
    "    - $1 + k (+ N)* = N (+N)*$ (帰納法の仮定)\n",
    "    - $(k+1) (+ N)* = N (+N)*$ (推論規則2)\n",
    "- k+1が偶数ならば, 以下の手続きで$1+1+ \\cdots+1$(1 は k+1 個ある)を含む命題から導くことができる\n",
    "    - $1+1+ \\cdots+1 (+ N)* = N (+N)*$\n",
    "    - $(k+1)/2 + (k+1)/2 (+ N)* = N (+N)*$ (帰納法の仮定)\n",
    "    - $(k+1)(+ N)* = N (+N)*$ (推論規則3) \n",
    "\n",
    "#### (d)\n",
    "- 公理より$1=1$\n",
    "- よって, 推論規則１より, $1+1=1+1$\n",
    "- $1 + 1 \\cdots + 1 = 1 + 1 \\cdots + 1$が成り立つ時より, 推論規則1より両辺に1を加えたものも証明可能\n",
    "- よって数学的帰納法より問の形式の命題は証明可能\n",
    "\n",
    "#### (e)\n",
    "- 任意に命題Sを取る. $N(+ N)* = N (+N)*$\n",
    "- Sの全ての極大Nマッチは, cより, $1+1+ \\cdots +1$(1をN個含む)を含む同じ命題から導くことができる.\n",
    "- 全ての極大Nマッチに再起的にcを当てはめると, Sは$1+1\\cdots+1=1+1\\cdots+1$という形式の同じ命題から導くことができる\n",
    "- 命題が同じであることから, 上記命題を証明することでSを証明できる."
   ],
   "cell_type": "markdown",
   "metadata": {}
  },
  {
   "source": [
    "### 16-15\n",
    "- ペアノ算術が完全であると仮定する.　この時, 16-14よりYesOnString問題をペアノ算術で表すことが可能であるから, convertYesToPeano.pyは存在する.\n",
    "- この時, 以下のようにyesViaCompletePeanoを定義する.\n",
    "\n",
    "~~~\n",
    "from isPeanoProof import isPeanoProof\n",
    "from convertYesToPeano import convertYesToPeano\n",
    "\n",
    "def yesViaCompletePeano(inString):\n",
    "    yesInPeano = convertYesToPeano(inString)\n",
    "    notYesInPeano = \"NOT \" + yesInPeano\n",
    "    proofString = \"\"\n",
    "    while True:\n",
    "        if isPeanoProof(proofString, yesInPeano) == \"yes\":\n",
    "            return \"yes\"\n",
    "        if isPeanoProof(proofString, notYesInPeano) == \"yes\":\n",
    "            return \"no\"\n",
    "        proofString = utils.nextASCII(proofString)\n",
    "~~~\n",
    "\n",
    "- この時, yesInPeanoと notYesInPeanoのふたつの真の命題はどちらか一つであり, ペアノ算術は完全であると仮定しているため, どちらかの命題は証明可能である.\n",
    "- この時, 全ての可能なASCII文字列を反復処理しペアノ算術による証明を探索すると, yesInPeano, notYesInPeanoのどちらかが真であるためこの探索は停止する.\n",
    "- よって, yesOnString問題が決定可能となるためペアノ算術は不完全である."
   ],
   "cell_type": "markdown",
   "metadata": {}
  },
  {
   "cell_type": "code",
   "execution_count": null,
   "metadata": {},
   "outputs": [],
   "source": []
  }
 ]
}