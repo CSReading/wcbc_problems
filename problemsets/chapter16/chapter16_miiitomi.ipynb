{
 "metadata": {
  "language_info": {
   "codemirror_mode": {
    "name": "ipython",
    "version": 3
   },
   "file_extension": ".py",
   "mimetype": "text/x-python",
   "name": "python",
   "nbconvert_exporter": "python",
   "pygments_lexer": "ipython3",
   "version": "3.8.6"
  },
  "orig_nbformat": 2,
  "kernelspec": {
   "name": "python386jvsc74a57bd06e5262017548a2b455e3c33d8630dbac676c51a278f558e9b73cd2cf5fc8a1af",
   "display_name": "Python 3.8.6 64-bit ('base': conda)"
  }
 },
 "nbformat": 4,
 "nbformat_minor": 2,
 "cells": [
  {
   "source": [
    "## 16.3\n",
    "### 問.\n",
    "  長さが 4 の適切な形式の BinAd 命題は何個あるか.  \n",
    "\n",
    "### 答.\n",
    "  16個."
   ],
   "cell_type": "markdown",
   "metadata": {}
  },
  {
   "cell_type": "code",
   "execution_count": 1,
   "metadata": {},
   "outputs": [],
   "source": [
    "from binAd import isWellFormed\n",
    "from itertools import product\n",
    "\n",
    "def wellFormedProps(n):\n",
    "    \"\"\"\n",
    "    長さがnの適切な形式のBinAd命題のリストを返す.\n",
    "    \"\"\"\n",
    "    well_formed_props = []\n",
    "\n",
    "    for t in product('01+=', repeat=n):\n",
    "        s = ''.join(t)\n",
    "        \n",
    "        if isWellFormed(s):\n",
    "            well_formed_props.append(s)\n",
    "\n",
    "    return well_formed_props"
   ]
  },
  {
   "cell_type": "code",
   "execution_count": 2,
   "metadata": {},
   "outputs": [
    {
     "output_type": "stream",
     "name": "stdout",
     "text": [
      "['00=0', '00=1', '01=0', '01=1', '0=00', '0=01', '0=10', '0=11', '10=0', '10=1', '11=0', '11=1', '1=00', '1=01', '1=10', '1=11']\n長さ 4 の適切な形式のbinAd命題は 16 個.\n"
     ]
    }
   ],
   "source": [
    "well_formed_props = wellFormedProps(4)\n",
    "print(well_formed_props)\n",
    "print(f'長さ {4} の適切な形式のbinAd命題は {len(well_formed_props)} 個.')"
   ]
  },
  {
   "source": [
    "## 16.8\n",
    "### 問.\n",
    "次の集合の要素数を答えよ. 必要なら，binAd.py の関数を用いるプログラムを書いてもよい.\n",
    " \n",
    "### 答.\n",
    "(a) BinAd アルファベットの長さ 6 の文字列： 4^6 = 4096個.\n",
    "\n",
    "(b) 長さ 6 の適切な形式の BinAd 文字列：224個.\n",
    "\n",
    "(c) 長さ 6 の証明可能な BinAd 文字列：32個.\n",
    "\n",
    "(d) 長さ 6 の正しい BinAdLogic 文字列：32個."
   ],
   "cell_type": "markdown",
   "metadata": {}
  },
  {
   "source": [
    "# (a)\n",
    "print(4**6)"
   ],
   "cell_type": "code",
   "metadata": {},
   "execution_count": 3,
   "outputs": [
    {
     "output_type": "stream",
     "name": "stdout",
     "text": [
      "4096\n"
     ]
    }
   ]
  },
  {
   "cell_type": "code",
   "execution_count": 4,
   "metadata": {},
   "outputs": [
    {
     "output_type": "stream",
     "name": "stdout",
     "text": [
      "長さ 6 の適切な形式のbinAd命題は 224 個.\n"
     ]
    }
   ],
   "source": [
    "# (b)\n",
    "well_formed_props = wellFormedProps(6)\n",
    "print(f'長さ {6} の適切な形式のbinAd命題は {len(well_formed_props)} 個.')"
   ]
  },
  {
   "source": [
    "# (c) と (d)\n",
    "# BinAdLogicの整合性と完全性より, 証明可能なBinAd文字列と正しいBinAdLogicの文字列の数は一致する.\n",
    "# よってここではisTrue関数を用いて数える.\n",
    "\n",
    "from binAd import isTrue\n",
    "\n",
    "def countTrueProps(n):\n",
    "    \"\"\"\n",
    "    長さnの真なBinAdLogic命題の数を数える.\n",
    "    \"\"\"\n",
    "    counter = 0\n",
    "\n",
    "    for t in product('01+=', repeat=n):\n",
    "        s = ''.join(t)\n",
    "        \n",
    "        if isTrue(s):\n",
    "            counter += 1\n",
    "\n",
    "    return counter\n",
    "\n",
    "print(countTrueProps(6))"
   ],
   "cell_type": "code",
   "metadata": {},
   "execution_count": 5,
   "outputs": [
    {
     "output_type": "stream",
     "name": "stdout",
     "text": [
      "32\n"
     ]
    }
   ]
  },
  {
   "source": [
    "## 16.13\n",
    "### 問.\n",
    "主張 16.1(356 ページ)とよく似た論法を使って, 「プログラム P は多項式時間で実行できる」という命題をペアノ算術に翻訳する方法を説明せよ.  \n",
    "\n",
    "### 復習.\n",
    "**主張 16.1**\n",
    "P をコンピュータプログラム(例えばPythonプログラムやチューリングマシンとして表現されたもの)とする.\n",
    "すると,「 P は空入力に対して停止する」という命題 S は, 整数についての等価な命題 S' に翻訳でき,\n",
    "S' はペアノ算術で ASCII 文字列に書き下すことができる(ここで「等価」とは, S が正しいときかつそのときに限り S' が正しくなるという意味である).  \n",
    "\n",
    "**証明の概略**\n",
    "- P は標準チューリングマシンとする.\n",
    "- P の任意の実行時点において, その時点の状況は, 状態・テープの内容・ヘッドの位置の3要素によってASCII文字列で完全に記述できる（例：\"q3:AAG^TG\"）\n",
    "- ASCII文字列は, 等価な2進文字列に変換でき, それはさらに整数と解釈できる.\n",
    "- チューリングマシンの遷移関数は, 整数から整数への写像と解釈でき, これを $Step(\\cdot)$ と書く. \n",
    "- 空テープが与えられたときの初期の状況を表す整数を $m_0$ とする.\n",
    "- $N$ ステップ終了時の構成は $Step^N(m_0)$ となり, これはペアノ算術でかける.\n",
    "- Pの終了を判定する関数 $Done(\\cdot):\\mathbb{Z}\\to\\{0,1\\}$ も定義でき, これもペアノ算術でかける（$Done(m)=1 \\Leftrightarrow $ P は状況 $m$ において終了）.\n",
    "- よって命題 S は 「$Done(Step^N(m_0)) = 1$ となるような整数 $N$ が存在する.」というペアノ算術の命題に翻訳でき, これをASCII文字列で表したものが S' となる.\n",
    "\n",
    "### 答.\n",
    "- 関数 $Init:\\mathbb{Z} \\to \\{0,1\\}$ と $Length:\\mathbb{Z} \\to \\mathbb{Z}$ を以下のように定義する.\n",
    "    - $Init$の定義：整数 $m$ がある入力 $I$ に対する $P$ の初期状況を表すものであるとき, かつその時に限り, $Init(m) = 1$.\n",
    "    - $Length$の定義：$Init(m) = 1$ なら, $Length(m) =$(入力 $I$ の長さ). Otherwise, $Length(m) = 0$.\n",
    "- すると\n",
    "    $$ \\exists a, k, \\ \\ \\forall m,\\ \\ Init(m) = 1 \\Rightarrow Done(Step^{a\\cdot Length^k(m)}(m)) = 1$$\n",
    "という命題はペアノ算術で書くことができ, これは「プログラム P は多項式時間で実行できる」という命題と等価である."
   ],
   "cell_type": "markdown",
   "metadata": {}
  },
  {
   "source": [
    "## 16.18\n",
    "### 問.\n",
    "第1不完全性定理に対するゲーデルの最初の証明は, S =「Sは証明不能である」という嘘のように単純な命題を使ったものだった.  \n",
    "この証明の難しいところは, S が等価なペアノ算術の文に変換できることを示す部分だが, ここではその部分は省略する.  \n",
    "代わりに, S がペアノ算術で表現できることを仮定してよい.  \n",
    "S は正しいが証明不能であることを示せ.\n",
    "\n",
    "### 答.\n",
    "**ゲーデルの不完全性定理** ペアノ算術は不完全である, つまり正しいが証明不能な命題が存在する.\n",
    "\n",
    "**証明**\n",
    "- 命題 $S$ を, $S =$「$S$ は証明不能である」というものとすると, 仮定より $S$ と等価なペアノ算術の命題が存在する.\n",
    "- $S$ が正しいことを示す.\n",
    "    - $S$ が正しくないと仮定する.\n",
    "    - すると, $S$の否定命題「$S$ は証明可能である」は正しい.\n",
    "    - よって, $S$ は正しくないが証明可能であることになり, これはペアノ算術の健全性の仮定に反する.\n",
    "- よって $S$ は正しいので, $S$ は証明不能である."
   ],
   "cell_type": "markdown",
   "metadata": {}
  }
 ]
}