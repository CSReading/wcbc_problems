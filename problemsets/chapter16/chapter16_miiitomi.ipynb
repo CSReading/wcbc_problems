{
 "metadata": {
  "language_info": {
   "codemirror_mode": {
    "name": "ipython",
    "version": 3
   },
   "file_extension": ".py",
   "mimetype": "text/x-python",
   "name": "python",
   "nbconvert_exporter": "python",
   "pygments_lexer": "ipython3",
   "version": "3.8.6"
  },
  "orig_nbformat": 2,
  "kernelspec": {
   "name": "python386jvsc74a57bd098b0a9b7b4eaaa670588a142fd0a9b87eaafe866f1db4228be72b4211d12040f",
   "display_name": "Python 3.8.6 64-bit ('base': conda)"
  }
 },
 "nbformat": 4,
 "nbformat_minor": 2,
 "cells": [
  {
   "source": [
    "## 16.3\n",
    "### 問.\n",
    "  長さが 4 の適切な形式の BinAd 命題は何個あるか.  \n",
    "\n",
    "### 答.\n",
    "  16個."
   ],
   "cell_type": "markdown",
   "metadata": {}
  },
  {
   "cell_type": "code",
   "execution_count": 1,
   "metadata": {},
   "outputs": [],
   "source": [
    "from binAd import isWellFormed\n",
    "from itertools import product\n",
    "\n",
    "def wellFormedProps(n):\n",
    "    \"\"\"\n",
    "    長さがnの適切な形式のBinAd命題のリストを返す.\n",
    "    \"\"\"\n",
    "    well_formed_props = []\n",
    "\n",
    "    for t in product('01+=', repeat=n):\n",
    "        s = ''.join(t)\n",
    "        \n",
    "        if isWellFormed(s):\n",
    "            well_formed_props.append(s)\n",
    "\n",
    "    return well_formed_props"
   ]
  },
  {
   "cell_type": "code",
   "execution_count": 2,
   "metadata": {},
   "outputs": [
    {
     "output_type": "stream",
     "name": "stdout",
     "text": [
      "['00=0', '00=1', '01=0', '01=1', '0=00', '0=01', '0=10', '0=11', '10=0', '10=1', '11=0', '11=1', '1=00', '1=01', '1=10', '1=11']\n長さ 4 の適切な形式のbinAd命題は 16 個.\n"
     ]
    }
   ],
   "source": [
    "well_formed_props = wellFormedProps(4)\n",
    "print(well_formed_props)\n",
    "print(f'長さ {4} の適切な形式のbinAd命題は {len(well_formed_props)} 個.')"
   ]
  },
  {
   "source": [
    "## 16.8\n",
    "### 問.\n",
    "次の集合の要素数を答えよ. 必要なら，binAd.py の関数を用いるプログラムを書いてもよい.\n",
    " \n",
    "### 答.\n",
    "(a) BinAd アルファベットの長さ 6 の文字列： 4^6 = 4096個.\n",
    "\n",
    "(b) 長さ 6 の適切な形式の BinAd 文字列：224個.\n",
    "\n",
    "(c) 長さ 6 の証明可能な BinAd 文字列：32個.\n",
    "\n",
    "(d) 長さ 6 の正しい BinAdLogic 文字列：32個."
   ],
   "cell_type": "markdown",
   "metadata": {}
  },
  {
   "source": [
    "# (a)\n",
    "print(4**6)"
   ],
   "cell_type": "code",
   "metadata": {},
   "execution_count": 3,
   "outputs": [
    {
     "output_type": "stream",
     "name": "stdout",
     "text": [
      "4096\n"
     ]
    }
   ]
  },
  {
   "cell_type": "code",
   "execution_count": 4,
   "metadata": {},
   "outputs": [
    {
     "output_type": "stream",
     "name": "stdout",
     "text": [
      "長さ 6 の適切な形式のbinAd命題は 224 個.\n"
     ]
    }
   ],
   "source": [
    "# (b)\n",
    "well_formed_props = wellFormedProps(6)\n",
    "print(f'長さ {6} の適切な形式のbinAd命題は {len(well_formed_props)} 個.')"
   ]
  },
  {
   "source": [
    "# (c)と(d)\n",
    "# BinAdLogicの整合性と完全性より, 証明可能なBinAd文字列と正しいBinAdLogicの文字列の数は一致する.\n",
    "# isProvable関数を使うと時間がかかるので, isTrue関数を用いる.\n",
    "\n",
    "from binAd import isTrue\n",
    "\n",
    "def countTrueProps(n):\n",
    "    \"\"\"\n",
    "    長さnの真なBinAdLogic命題の数を数える.\n",
    "    \"\"\"\n",
    "    counter = 0\n",
    "\n",
    "    for t in product('01+=', repeat=n):\n",
    "        s = ''.join(t)\n",
    "        \n",
    "        if isTrue(s):\n",
    "            counter += 1\n",
    "\n",
    "    return counter\n",
    "\n",
    "print(countTrueProps(6))"
   ],
   "cell_type": "code",
   "metadata": {},
   "execution_count": 5,
   "outputs": [
    {
     "output_type": "stream",
     "name": "stdout",
     "text": [
      "32\n"
     ]
    }
   ]
  },
  {
   "source": [
    "## 16.13\n",
    "### 問.\n",
    "主張 16.1(356 ページ)とよく似た論法を使って，「プログラム P は実行に多項式時間かかる」と いう命題をペアノ算術に翻訳する方法を説明せよ.\n",
    "\n",
    "### 答.\n",
    "？"
   ],
   "cell_type": "markdown",
   "metadata": {}
  },
  {
   "source": [
    "## 16.18\n",
    "### 問.\n",
    "第1不完全性定理に対するゲーデルの最初の証明は, S =「Sは証明不能である」という嘘のように単純な命題を使ったものだった.  \n",
    "この証明の難しいところは, S が等価なペアノ算術の文に変換できることを示す部分だが, ここではその部分は省略する.  \n",
    "代わりに, S がペアノ算術で表現できることを仮定してよい.  \n",
    "S は正しいが証明不能であることを示せ.\n",
    "\n",
    "### 答.\n",
    "？"
   ],
   "cell_type": "markdown",
   "metadata": {}
  }
 ]
}