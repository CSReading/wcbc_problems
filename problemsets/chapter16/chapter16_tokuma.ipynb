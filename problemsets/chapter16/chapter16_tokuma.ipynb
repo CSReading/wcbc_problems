{
 "metadata": {
  "language_info": {
   "codemirror_mode": {
    "name": "ipython",
    "version": 3
   },
   "file_extension": ".py",
   "mimetype": "text/x-python",
   "name": "python",
   "nbconvert_exporter": "python",
   "pygments_lexer": "ipython3",
   "version": "3.9.2"
  },
  "orig_nbformat": 2,
  "kernelspec": {
   "name": "python3",
   "display_name": "Python 3.9.2 64-bit ('base': conda)"
  },
  "interpreter": {
   "hash": "98b0a9b7b4eaaa670588a142fd0a9b87eaafe866f1db4228be72b4211d12040f"
  }
 },
 "nbformat": 4,
 "nbformat_minor": 2,
 "cells": [
  {
   "source": [
    "## 16.2\n",
    "命題 “1+1+1=1+10” に1つの推論規則を適用すると`BinAd`命題を何個作ることができるか.2つの規則の組合せではどうか.\n",
    "- 1ステップで推論規則は1回のみ利用可能\n",
    "- 2つの異なる規則の組み合わせ\n",
    "- 重複なしで想定\n",
    "\n",
    "\n",
    "- 規則 1: $A=B$ なら　$1+A=1+B$\n",
    "- 規則 2: ...$N+N$...なら, ...$N0$... \n",
    "- 規則 3: ...$1+N0$...なら, ...$N1$..."
   ],
   "cell_type": "markdown",
   "metadata": {}
  },
  {
   "source": [
    "- 1つの推論規則利用: 4つ\n",
    "    - 規則1\n",
    "        - 1+1+1+1=1+1+10\n",
    "    - 規則2 \n",
    "        - 10+1=1+10\n",
    "        - 1+10=1+10\n",
    "    - 規則3\n",
    "        - 1+1+1=11\n",
    "\n",
    "- 2つの推論規則利用 重複を除いて8個\n",
    "    - ステップ1で規則1, ステップ2で規則2\n",
    "        - 10+1+1=1+1+10\n",
    "        - 1+10+1=1+1+10\n",
    "        - 1+1+10=1+1+10\n",
    "        - 1+1+1+1=10+10\n",
    "    - ステップ1で規則1, ステップ2で規則3\n",
    "        - 1+1+1+1=1+11\n",
    "    - ステップ1で規則2, ステップ2で規則1\n",
    "        - 1+10+1=1+1+10\n",
    "        - 1+1+10=1+1+10 \n",
    "    - ステップ1で規則2, ステップ2で規則3\n",
    "        - 10+1=11(なぜかこれは`binAd`ではでてこない。解答には問題無し)\n",
    "        - 11=1+10\n",
    "        - 1+10=11\n",
    "    - ステップ1で規則3, ステップ2で規則1\n",
    "        - 1+1+1+1=1+11\n",
    "    - ステップ1で規則3, ステップ2で規則2\n",
    "        - 10+1=11\n",
    "        - 1+10=11"
   ],
   "cell_type": "markdown",
   "metadata": {}
  },
  {
   "cell_type": "code",
   "execution_count": 1,
   "metadata": {},
   "outputs": [],
   "source": [
    "import binAd"
   ]
  },
  {
   "cell_type": "code",
   "execution_count": 2,
   "metadata": {},
   "outputs": [],
   "source": [
    "S = '1+1+1=1+10'"
   ]
  },
  {
   "cell_type": "code",
   "execution_count": 3,
   "metadata": {},
   "outputs": [
    {
     "output_type": "stream",
     "name": "stdout",
     "text": [
      "rule 1 {'1+1+1+1=1+1+10'}\nrule 2 {'1+10=1+10', '10+1=1+10'}\nrule 3 {'1+1+1=11'}\n"
     ]
    }
   ],
   "source": [
    "# 一種類のみの場合\n",
    "rule_one =binAd.applyRuleOne(S)\n",
    "rule_two =binAd.applyRuleTwo(S)\n",
    "rule_three =binAd.applyRuleThree(S)\n",
    "\n",
    "print('rule 1', rule_one)\n",
    "print('rule 2', rule_two)\n",
    "print('rule 3', rule_three)\n"
   ]
  },
  {
   "cell_type": "code",
   "execution_count": 4,
   "metadata": {},
   "outputs": [
    {
     "output_type": "stream",
     "name": "stdout",
     "text": [
      "1+1+1+1=1+1+10\nrule 1　to rule 2 {'1+1+1+1=10+10', '1+10+1=1+1+10', '10+1+1=1+1+10', '1+1+10=1+1+10'}\nrule 1　to rule 3 {'1+1+1+1=1+11'}\n1+10=1+10\nrule 2　to rule 1 {'1+1+10=1+1+10'}\nrule 2　to rule 3 {'11=1+10'}\n10+1=1+10\nrule 2　to rule 1 {'1+10+1=1+1+10'}\nrule 2　to rule 3 {'10+1=11'}\n1+1+1=11\nrule 3　to rule 1 {'1+1+1+1=1+11'}\nrule 3　to rule 2 {'1+10=11', '10+1=11'}\n"
     ]
    }
   ],
   "source": [
    "# 2種類の場合\n",
    "\n",
    "for item in rule_one:\n",
    "    print(item)\n",
    "    print('rule 1　to rule 2', binAd.applyRuleTwo(item))\n",
    "    print('rule 1　to rule 3', binAd.applyRuleThree(item))\n",
    "\n",
    "for item in rule_two:\n",
    "    print(item)\n",
    "    print('rule 2　to rule 1', binAd.applyRuleOne(item))\n",
    "    print('rule 2　to rule 3', binAd.applyRuleThree(item))\n",
    "\n",
    "for item in rule_three:\n",
    "    print(item)\n",
    "    print('rule 3　to rule 1', binAd.applyRuleOne(item))\n",
    "    print('rule 3　to rule 2', binAd.applyRuleTwo(item))"
   ]
  },
  {
   "source": [
    "## 16.7\n",
    "\n",
    "以下の命題のそれぞれについて，命題の真理値が真，偽，未定義のどれになるかを判定せよ.\n",
    "\n",
    "\n",
    "- (a) `BinAd`の“10+1=11\"\n",
    "\n",
    "    `BinAd`において、セマンティクスが加えられていないので、命題の真理値は未定義。\n",
    "\n",
    "- (b) `BinAdLogic`の“101+1=10+100”\n",
    "\n",
    "    101+1=10+100は公理と推論規則から作成可能であり、`BinAdLogic`は整合性が取れているので、この命題の真理値は真\n",
    "\n",
    "- (c) `BrokenBinAdLogic`の“100=10+10”\n",
    "\n",
    "    この命題は4=2+2と解釈でき、命題の真理値は真である。\n",
    "\n",
    "    なお100=10+10は公理と`BrokenBinAdLogic`で追加された規則以外の通常の3つの規則からなる証明可能な命題である。\n",
    "    1=1 → 1+1+1+1=1+1+1+1　→ 10+10=10+10→100=10+10\n",
    "\n",
    "- (d) `FixedBinAdLogic`の“100=10+10+10”\n",
    "\n",
    "    この命題は$4\\ge 2+2+2=6$と解釈されるため、命題の真理値は偽である。\n",
    "\n",
    "    なおこの命題は`FixedBinAdLogic`における推論規則をもちいて作成することはできないため、証明可能ではない。\n",
    "- (e) ペアノ算術の「すべての整数$x$について，$x - y^2 < 0$となるような整数$y$が存在する」という命題を適切に`ASCII`に符号化したもの\n",
    "\n",
    "    任意の$x$に対して$y \\ge \\lceil \\sqrt{x} \\rceil$となるように整数$y$を取れば、$x< y^2$が満たされる。したがって、この命題の真理値は真である。\n",
    "\n",
    "\n",
    "- (f) ペアノ算術の「$x^2=16$」という命題を適切に`ASCII`に符号化したもの\n",
    "\n",
    "    この命題は$x$に量化子がついていないので、閉じていない命題。したがって、命題の真理値は未定義。\n"
   ],
   "cell_type": "markdown",
   "metadata": {}
  },
  {
   "source": [
    "## 16.12\n",
    "\n",
    "`provableInPeano.py`と同じアプローチでプログラム`provableInBinAd.py`を書け\n",
    "\n",
    "このアプローチと`binAd.py`の`isProvable()`関数で使われているアプローチの主要な違いを説明せよ.\n",
    "\n",
    "どちらのアプローチも指数時間を必要とするが，どちらの方が効率的になりそうか.その理由を答えよ."
   ],
   "cell_type": "markdown",
   "metadata": {}
  },
  {
   "cell_type": "code",
   "execution_count": 5,
   "metadata": {},
   "outputs": [
    {
     "output_type": "stream",
     "name": "stdout",
     "text": [
      "import utils\nfrom binAd import isProof\n\n\ndef provableInBinAd(inString, maxString=1000):\n    proofString = ''\n    i =0\n\n    while True:\n        try:\n            res = isProof(proofString, inString)\n        except:\n            res = 'no'\n\n        if res == 'yes':\n            return res\n\n        proofString = utils.nextASCII(proofString)\n        i += 1\n\n        if i == maxString:\n            return 'Maximum reached'\n"
     ]
    }
   ],
   "source": [
    "!cat provableInBinAd.py"
   ]
  },
  {
   "source": [
    "- `isProvable`は公理から推論規則の適用を繰り返し、命題が証明可能かを判断する。\n",
    "- `provableInBinAd`はすべての`ASCII`文字列に対して命題が証明可能になっているのかを確かめる。\n",
    "\n",
    "\n",
    "`provableInBinAd`のほうが効率的であると考えられる。\n",
    "\n",
    "なぜなら`ASCII`文字列アプローチで見つけた解を`isProvable`アプローチで見つけるためにはその長さ以上に推論規則を適用する必要があるから。\n"
   ],
   "cell_type": "markdown",
   "metadata": {}
  },
  {
   "cell_type": "code",
   "execution_count": 6,
   "metadata": {},
   "outputs": [],
   "source": [
    "from provableInBinAd import provableInBinAd"
   ]
  },
  {
   "cell_type": "code",
   "execution_count": 7,
   "metadata": {},
   "outputs": [
    {
     "output_type": "execute_result",
     "data": {
      "text/plain": [
       "'Maximum reached'"
      ]
     },
     "metadata": {},
     "execution_count": 7
    }
   ],
   "source": [
    "S = '1000=1000'# '1+1=10'\n",
    "provableInBinAd(S)\n"
   ]
  },
  {
   "cell_type": "code",
   "execution_count": 8,
   "metadata": {},
   "outputs": [
    {
     "output_type": "execute_result",
     "data": {
      "text/plain": [
       "('not proved in first 109322 formulas generated', None)"
      ]
     },
     "metadata": {},
     "execution_count": 8
    }
   ],
   "source": [
    "binAd.isProvable(S)"
   ]
  },
  {
   "source": [
    "## 16.17 \n",
    " \n",
    "この問題は，ゲーデルの定理のさらに別の証明を作ろうというものである.\n",
    "基本的には,`Python`プログラムの代わりにチューリングマシンを使って演習問題$16.15$をもう一度解くことになる.\n",
    "\n",
    "「$M$ が受理しないことを証明できれば受理し，そうでなければ拒絶する」というアルゴリズムを実行するチューリングマシンを$M$とする.「$M$は受理しない」というペアノ算術の文を$S$とする. $S$は正しいが証明不能であることを示せ."
   ],
   "cell_type": "markdown",
   "metadata": {}
  },
  {
   "source": [
    "背理法により示す。$S$が証明可能だと仮定する。\n",
    "\n",
    "この時仮定より、チューリングマシン$M$は受理しないということが証明できる。\n",
    "しかし、チューリングマシン$M$は受理しないということを証明できるのであれば、ペアノ算術$S$ではチューリングマシン$M$は受理されるはずである。\n",
    "\n",
    "したがってペアノ算術の文$S$は矛盾するため、$S$は証明不能である。\n",
    "\n",
    "\n",
    "\n"
   ],
   "cell_type": "markdown",
   "metadata": {}
  },
  {
   "cell_type": "code",
   "execution_count": null,
   "metadata": {},
   "outputs": [],
   "source": []
  }
 ]
}