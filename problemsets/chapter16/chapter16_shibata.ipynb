{
 "metadata": {
  "language_info": {
   "codemirror_mode": {
    "name": "ipython",
    "version": 3
   },
   "file_extension": ".py",
   "mimetype": "text/x-python",
   "name": "python",
   "nbconvert_exporter": "python",
   "pygments_lexer": "ipython3",
   "version": "3.8.6"
  },
  "orig_nbformat": 2,
  "kernelspec": {
   "name": "python386jvsc74a57bd098b0a9b7b4eaaa670588a142fd0a9b87eaafe866f1db4228be72b4211d12040f",
   "display_name": "Python 3.8.6 64-bit ('base': conda)"
  }
 },
 "nbformat": 4,
 "nbformat_minor": 2,
 "cells": [
  {
   "source": [
    "## 16.1\n",
    "### 問\n",
    "BinAdの命題\"1+110+1=1000\"に適用できるBinAdの推論規則を答えよ\n",
    "### 答.\n",
    "規則1 (A=1+110+1, B=1000), 規則3 (N=11)"
   ],
   "cell_type": "markdown",
   "metadata": {}
  },
  {
   "cell_type": "code",
   "execution_count": 5,
   "metadata": {},
   "outputs": [
    {
     "output_type": "stream",
     "name": "stdout",
     "text": [
      "{'1+1+110+1=1+1000'}\n",
      "set()\n",
      "{'111+1=1000'}\n",
      "('not proved in first 109322 formulas generated', None)\n"
     ]
    }
   ],
   "source": [
    "import binAd\n",
    "print(binAd.applyRuleOne(\"1+110+1=1000\"))\n",
    "print(binAd.applyRuleTwo(\"1+110+1=1000\"))\n",
    "print(binAd.applyRuleThree(\"1+110+1=1000\"))\n",
    "###ちょっと脱線###\n",
    "\n",
    "print(binAd.isProvable(\"1+110+1=1000\"))"
   ]
  },
  {
   "source": [
    "## 16.6\n",
    "### 問.\n",
    "自分自身の論理系を作り, (a)正しいが証明不能な命題と(b)証明可能だが正しくない命題の例を挙げよ．\n",
    "### 答.\n",
    "- 証明系\n",
    "    - アルファベット: 0~9までの数字と\"/\"と\"->\"  \n",
    "    - 公理: \"2020/01/01->2020/01/02\" \n",
    "    - 推論規則: \n",
    "        1. 10進数に基づいて\"次の数字\"を定義する.\n",
    "        2. \"N->M\"であればN, Mのそれぞれ最後の2桁を次の数字にしたものに変換可能  \n",
    "            2-a. ただし, Mの真ん中の2桁が`(01|03|05|07|08|10)`で最後の2桁が`31`のとき, Mについては真ん中の2桁を次の数字に, 最後の2桁を`01`にしたものとする  \n",
    "            2-b. ただし, Mの真ん中の2桁が`02`で最後の2桁が`28`のとき, Mについては真ん中の2桁を次の数字に, 最後の2桁を`01`にしたものとする  \n",
    "            2-c. ただし, Mの真ん中の2桁が`(04|06|09|11)`で最後の2桁が`30`のとき, Mについては真ん中の2桁を次の数字に, 最後の2桁を`01`にしたものとする  \n",
    "            2-d. ただし, Mの真ん中の2桁が`12`で最後の2桁が`31`のとき, Mについては最初の4桁を次の数字に, 真ん中の2桁を`01`に, 最後の2桁を`01`にしたものとする  \n",
    "    - 適切な形式の命題を定義する規則: \"N->N\" ただし, Nは正規表現で`[0-9]{4}/[0-9]{2}/[0-9]{2}`を表す. 例\"2000/01/01->2000/03/01\"    \n",
    "- 真理値割り当て: \"N->M\"の形式でN, Mが西暦の日付を表し,かつNの翌日がMであれば真\n",
    "\n",
    "(a)正しいが証明不能な命題\n",
    "\"2020/02/28->2020/02/29\"\n",
    "\n",
    "(b)証明可能だが正しくない命題\n",
    "\"2020/02/28->2020/03/01\"\n",
    "\n"
   ],
   "cell_type": "markdown",
   "metadata": {}
  },
  {
   "source": [
    "## 16.11\n",
    "### 問.\n",
    "binAd.pyを出発点として論理系BrokenBinAdLogic, RestrictedBinAdLogic, FixedBinAdLogicを1つ以上実装せよ.不完全または不整合な論理系については, その不完全性, 不整合性を示す具体的なPythonコマンドを示せ．"
   ],
   "cell_type": "markdown",
   "metadata": {}
  },
  {
   "cell_type": "code",
   "execution_count": 11,
   "metadata": {},
   "outputs": [],
   "source": [
    "from binAd import *\n",
    "# 規則IBの実装\n",
    "def applyRuleOneB(f):\n",
    "    result = set()\n",
    "    if not isWellFormed(f):\n",
    "        return result\n",
    "    (lhs,rhs) = f.split('=')\n",
    "    # 右辺の'+1'を削除\n",
    "    newF = '1+' + lhs + '=' + rhs\n",
    "    result.add(newF)\n",
    "    return result\n",
    "\n",
    "# FixedBinAdLogicの真理値割り当ての実装\n",
    "def isTrueFixed(f):\n",
    "    if not isWellFormed(f):\n",
    "        return False\n",
    "    (lhs,rhs) = f.split('=')\n",
    "    leftSum = computeBinarySum(lhs)\n",
    "    rightSum = computeBinarySum(rhs)\n",
    "    # 不等号に変更\n",
    "    return (leftSum >= rightSum)\n",
    "\n",
    "# RestrictedBinAdLogicのisProvableの実装\n",
    "def applyRestrictedRules(f):\n",
    "    return applyRuleOne(f) | applyRuleTwo(f)\n",
    "\n",
    "def applyRestrictedRulesToFrontier(provedFormulas, frontierFormulas, predecessors = None):\n",
    "    assert frontierFormulas <= provedFormulas\n",
    "    newFrontier = set()\n",
    "    # the ``sorted'' below is not needed for correctness, but is\n",
    "    # needed to obtain same predecessors every time (there is\n",
    "    # otherwise ambiguity in the definition)\n",
    "    for f in sorted(frontierFormulas):\n",
    "        newFs = applyRestrictedRules(f)\n",
    "        newFrontier |= newFs\n",
    "        if predecessors:\n",
    "            # the ``sorted'' below is not needed for correctness, but is\n",
    "            # needed to obtain same predecessors every time (there is\n",
    "            # otherwise ambiguity in the definition)\n",
    "            for newF in sorted(newFs): \n",
    "                if newF not in predecessors:\n",
    "                    predecessors[newF] = f\n",
    "    alreadyProved = newFrontier & provedFormulas\n",
    "    newFrontier -= alreadyProved\n",
    "    provedFormulas |= newFrontier\n",
    "    return newFrontier\n",
    "\n",
    "def isRestrictedProvable(f, maxFormulas = 100000):\n",
    "    proof = None\n",
    "    if not isWellFormed(f):\n",
    "        result = 'not well-formed, therefore not provable'\n",
    "    else:\n",
    "        proved = set([theAxiom])\n",
    "        frontier = proved\n",
    "        predecessors = {theAxiom: ''}\n",
    "        while len(proved)<maxFormulas:\n",
    "            frontier = applyRestrictedRulesToFrontier(proved, frontier, predecessors)\n",
    "            if f in proved:\n",
    "                break\n",
    "        if f in proved:\n",
    "            result = 'provable'\n",
    "            proof = getProofFromPredecessors(f, predecessors)\n",
    "        else:\n",
    "            result = 'not proved in first ' + str(len(proved)) + ' formulas generated'\n",
    "    return (result, proof)"
   ]
  },
  {
   "cell_type": "code",
   "execution_count": 9,
   "metadata": {},
   "outputs": [
    {
     "output_type": "stream",
     "name": "stdout",
     "text": [
      "{'1+1=1'}\nFalse\n"
     ]
    }
   ],
   "source": [
    "# BrokenBinAdLogicは公理と規則1, 1B, 2, 3とisTrueの真理値割り当てからなり, 不整合である\n",
    "# 証明可能で偽である命題を示す.\n",
    "print(applyRuleOneB('1=1'))\n",
    "for i in applyRuleOneB('1=1'):\n",
    "    print(isTrue(i))\n",
    "\n"
   ]
  },
  {
   "cell_type": "code",
   "execution_count": 12,
   "metadata": {},
   "outputs": [
    {
     "output_type": "stream",
     "name": "stdout",
     "text": [
      "True\n",
      "('not proved in first 154639 formulas generated', None)\n"
     ]
    }
   ],
   "source": [
    "# RestrictedBinAdLogicは公理と規則1, 2とisTrueの真理値割り当てからなり, 不完全である\n",
    "# 証明不能で真である命題を示す.\n",
    "print(isTrue('1+10=11'))\n",
    "print(isRestrictedProvable('1+10=11'))"
   ]
  },
  {
   "source": [
    "## 16.16\n",
    "### 問.\n",
    "ゲーデルの不完全性定理に対する本書の証明は, 実際のPythonプログラムに大きく依存していた．本問と次問では, 自然言語の散文によるチューリングマシンの説明を使って証明を構成し直すための道筋を示す. まず, プログラム16.4のgodel.py のようなチューリングマシンMを定義する. マシンMは, 「Mが停止しないことを証明できるなら停止し, そうでなければループする」というアルゴリズムを実行する. 次に, godel.pyのnotHaltInPeanoのようなペアノ算術の文 S を定義する．S =「M は停止しない」とする. S は正しいが証明不能な命題であることを示せ．\n",
    "\n",
    "### 答.\n",
    "命題Sが証明可能であると仮定する. このとき, Mは停止するため, 命題Sと矛盾する. よってSは証明不能である."
   ],
   "cell_type": "markdown",
   "metadata": {}
  }
 ]
}