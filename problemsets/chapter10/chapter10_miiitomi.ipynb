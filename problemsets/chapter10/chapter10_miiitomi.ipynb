{
 "metadata": {
  "language_info": {
   "codemirror_mode": {
    "name": "ipython",
    "version": 3
   },
   "file_extension": ".py",
   "mimetype": "text/x-python",
   "name": "python",
   "nbconvert_exporter": "python",
   "pygments_lexer": "ipython3",
   "version": "3.7.4"
  },
  "orig_nbformat": 2,
  "kernelspec": {
   "name": "python374jvsc74a57bd05721b922fc6521e7ebfa2cf99c51c72652cb24998d0e8950a862fed8e3420f1f",
   "display_name": "Python 3.7.4 64-bit"
  }
 },
 "nbformat": 4,
 "nbformat_minor": 2,
 "cells": [
  {
   "source": [
    "## 10.2\n",
    "問. 以下の関数 $f_1, f_2, f_3, f_4$ について, $f_i \\in O(f_j), i \\ne j$ となる $(i, j)$ の対を全て答えよ.   \n",
    " - $f_1(n) = n (\\log n)^8$\n",
    " - $f_2(n) = 5n^2 + 4(n+6)^3 2^n$\n",
    " - $f_3(n) = n^3 2^n$\n",
    " - $f_4(n) = f_1(n)f_3(n)$\n",
    "\n",
    "答. $(1, 2), (1,3), (1,4), (2, 3), (2, 4), (3, 2), (3, 4)$.\n",
    "- まず各関数の支配項は, $DT(f_1) = n(\\log n)^8$, $DT(f_2) = DT(f_3) = n^3 2^n$, $DT(f_4) = n^4 2^n (\\log n)^8$.\n",
    "- $DT(f_1)$ は, $DT(f_2), DT(f_3), DT(f_4)$ に支配されるので, $f_1 \\in O(f_2), O(f_3), O(f_4)$.\n",
    "- $DT(f_2)$ は, $DT(f_3)$ と等しく, $DT(f_4)$ に支配されるので, $f_2 \\in O(f_3), O(f_4)$ .\n",
    "- $DT(f_3)$ は, $DT(f_2)$ と等しく, $DT(f_4)$ に支配されるので, $f_3 \\in O(f_2), O(f_4)$ .\n",
    "- $DT(f_4)$ は, $DT(f_1), DT(f_2), DT(f_3)$のいずれにも支配されない."
   ],
   "cell_type": "markdown",
   "metadata": {}
  },
  {
   "source": [
    "## 10.7\n",
    "問. `foo.py` は $O(n^4)$ のPythonプログラムとする.   \n",
    "次の計算モデルで `foo.py` をシミュレーションしたときの合理的な時間計算量を推計せよ（合理的な推計が得られない場合は, 理由を説明せよ）.   \n",
    "\n",
    "答.\n",
    "- (a) 標準チューリングマシン： $O(n^{24})$\n",
    "- (b) マルチテープチューリングマシン： $O(n^{12})$\n",
    "- (c) ランダムアクセスチューリングマシン： $O(n^4)$\n",
    "- (d) マルチテープ万能チューリングマシン： $O(n^{12} \\log n)$\n",
    "- (e) 量子コンピュータ： $O(n^4)$ 以下. 正確には推計できない.（古典的コンピュータで量子コンピュータをシミュレートしようとすると指数コストがかかると予想されているだけ）"
   ],
   "cell_type": "markdown",
   "metadata": {}
  },
  {
   "source": [
    "## 10.12\n",
    "問. $\\text{Mod7}$ は, 1個の整数$M$を入力とし, $M$を$7$で割った剰余を唯一解とする関数問題である. $\\text{Mod7} \\in \\text{Lin}$ を示せ.  \n",
    "\n",
    "答.   \n",
    "入力として与えられる整数$M$の桁数を$n$, 割る数を$a$, その桁数を$k$とする（ここでは $a = 7$ ）.   \n",
    "「$M$ 割る $a$」を筆算により計算することを考える.   \n",
    "筆算では, $M$の上から$k$桁or$k+1$桁を$a$で割ってその余りで置き換え, 位を一つ右にずらしてまた$k$桁or$k+1$桁を$a$で割ってその余りで置き換え, といったステップを繰り返していく.  \n",
    "この繰り返し回数は, $M$の桁数$n$の線形オーダー($O(n)$).   \n",
    "各ステップは, $k$or$k+1$桁の数と$a$（$k$桁）との割り算なので$O(k^2)$だが, $a, k$は定数なので$O(1)$とみなせる.   \n",
    "したがって, 桁数$k$の$M$を定数で割った剰余を求める関数問題は, 筆算により$O(n)$で解けるので, $\\text{Mod7} \\in \\text{Lin}$である.   \n",
    "   \n",
    "備考. 上の方針で$\\text{Mod7}$を解くプログラムも書いてみた."
   ],
   "cell_type": "markdown",
   "metadata": {}
  },
  {
   "cell_type": "code",
   "execution_count": 1,
   "metadata": {},
   "outputs": [],
   "source": [
    "def mod7(inString):\n",
    "    # 負数か否かメモし, 負数なら最初の'-'を除く. O(n).\n",
    "    negative = (inString[0] == '-')\n",
    "    if negative:\n",
    "        inString = inString[1:]\n",
    "\n",
    "    # 配列AにMを上の桁から順に入れていく（stringのままだと書き換えるのに毎回O(n)かかるため）. O(n).\n",
    "    A = [0] * len(inString)\n",
    "    for i in range(len(inString)):\n",
    "        A[i] = int(inString[i])\n",
    "\n",
    "    # 上から2桁ずつ, 7で割った余りにしていく. 各回O(1)で, 繰り返しO(n).\n",
    "    for i in range(1, len(A)):\n",
    "        A[i] = (10*A[i-1] + A[i]) % 7\n",
    "        A[i-1] = 0\n",
    "    \n",
    "    # 非負整数かどうかで場合分けして解を出力. O(1).\n",
    "    if not negative:\n",
    "        return str(A[-1] % 7)\n",
    "    else:\n",
    "        return str(-A[-1] % 7)"
   ]
  },
  {
   "cell_type": "code",
   "execution_count": 2,
   "metadata": {},
   "outputs": [
    {
     "output_type": "stream",
     "name": "stdout",
     "text": [
      "0 0\n5 5\n5 5\n3 3\n2 2\n1 1\n6 6\n2 2\n"
     ]
    }
   ],
   "source": [
    "# テスト\n",
    "print(mod7('0'), str(0 % 7))\n",
    "print(mod7('5'), str(5 % 7))\n",
    "print(mod7('19'), str(19 % 7))\n",
    "print(mod7('220'), str(220 % 7))\n",
    "print(mod7('1521'), str(1521 % 7))\n",
    "print(mod7('-6'), str(-6 % 7))\n",
    "print(mod7('-71'), str(-71 % 7))\n",
    "print(mod7('-453'), str(-453 % 7))"
   ]
  },
  {
   "cell_type": "code",
   "execution_count": 3,
   "metadata": {},
   "outputs": [],
   "source": [
    "# 計算時間テスト\n",
    "import random\n",
    "import time\n",
    "def test(n):\n",
    "    M = random.choice(['', '-'])\n",
    "    l = [f'{i}' for i in range(1, 10)]\n",
    "    for i in range(10 ** n):\n",
    "        M = M + random.choice(l)\n",
    "    t1 = time.time()\n",
    "    mod7(M)\n",
    "    t2 = time.time()\n",
    "    print(f'10**{n} 桁: {t2 - t1:f} [s]')"
   ]
  },
  {
   "cell_type": "code",
   "execution_count": 4,
   "metadata": {},
   "outputs": [
    {
     "output_type": "stream",
     "name": "stdout",
     "text": [
      "10**0 桁: 0.000010 [s]\n",
      "10**1 桁: 0.000024 [s]\n",
      "10**2 桁: 0.000261 [s]\n",
      "10**3 桁: 0.001303 [s]\n",
      "10**4 桁: 0.013942 [s]\n",
      "10**5 桁: 0.069864 [s]\n",
      "10**6 桁: 0.600532 [s]\n",
      "10**7 桁: 6.061359 [s]\n"
     ]
    }
   ],
   "source": [
    "for n in [ _ for _ in range(8)]:\n",
    "    test(n)"
   ]
  }
 ]
}