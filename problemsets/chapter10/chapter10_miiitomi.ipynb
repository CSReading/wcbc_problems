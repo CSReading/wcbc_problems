{
 "metadata": {
  "language_info": {
   "codemirror_mode": {
    "name": "ipython",
    "version": 3
   },
   "file_extension": ".py",
   "mimetype": "text/x-python",
   "name": "python",
   "nbconvert_exporter": "python",
   "pygments_lexer": "ipython3",
   "version": "3.7.4-final"
  },
  "orig_nbformat": 2,
  "kernelspec": {
   "name": "python3",
   "display_name": "Python 3",
   "language": "python"
  }
 },
 "nbformat": 4,
 "nbformat_minor": 2,
 "cells": [
  {
   "source": [
    "## 10.2\n",
    "問. 以下の関数 $f_1, f_2, f_3, f_4$ について, $f_i \\in O(f_j), i \\ne j$ となる $(i, j)$ の対を全て答えよ.   \n",
    " - $f_1(n) = n (\\log n)^8$\n",
    " - $f_2(n) = 5n^2 + 4(n+6)^3 2^n$\n",
    " - $f_3(n) = n^3 2^n$\n",
    " - $f_4(n) = f_1(n)f_3(n)$\n",
    "\n",
    "答. $(1, 2), (1,3), (1,4), (2, 3), (2, 4), (3, 2), (3, 4)$.\n",
    "- まず各関数の支配項は, $DT(f_1) = n(\\log n)^8$, $DT(f_2) = DT(f_3) = n^3 2^n$, $DT(f_4) = n^4 2^n (\\log n)^8$.\n",
    "- $DT(f_1)$ は, $DT(f_2), DT(f_3), DT(f_4)$ に支配されるので, $f_1 \\in O(f_2), O(f_3), O(f_4)$.\n",
    "- $DT(f_2)$ は, $DT(f_3)$ と等しく, $DT(f_4)$ に支配されるので, $f_2 \\in O(f_3), O(f_4)$ .\n",
    "- $DT(f_3)$ は, $DT(f_2)$ と等しく, $DT(f_4)$ に支配されるので, $f_3 \\in O(f_2), O(f_4)$ .\n",
    "- $DT(f_4)$ は, $DT(f_1), DT(f_2), DT(f_3)$のいずれにも支配されない."
   ],
   "cell_type": "markdown",
   "metadata": {}
  },
  {
   "source": [
    "## 10.7\n",
    "問. `foo.py` は $O(n^4)$ のPythonプログラムとする. 次の計算モデルで `foo.py` をシミュレーションしたときの合理的な時間計算量を推計せよ（合理的な推計が得られない場合は, 理由を説明せよ）.   \n",
    "\n",
    "答.\n",
    "- (a) 標準チューリングマシン： $O(n^{24})$\n",
    "- (b) マルチテープチューリングマシン： $O(n^{12})$\n",
    "- (c) ランダムアクセスチューリングマシン： $O(n^4)$\n",
    "- (d) マルチテープ万能チューリングマシン： $O(n^{12} \\log n)$\n",
    "- (e) 量子コンピュータ： $O(n^4)$ 以下. 正確には推計できない.（古典的コンピュータで量子コンピュータをシミュレートしようとすると指数コストがかかると予想されているだけ）"
   ],
   "cell_type": "markdown",
   "metadata": {}
  },
  {
   "source": [
    "## 10.12\n",
    "問. $\\text{Mod7}$ は, 1個の整数$M$を入力とし, $M$を$7$で割った剰余を唯一解とする関数問題である. $\\text{Mod7} \\in \\text{Lin}$ を示せ.  \n",
    "\n",
    "答. 以下のプログラムが $O(n)$ で $\\text{Mod7}$ を解く（$n$は入力$M$の桁数）.   "
   ],
   "cell_type": "markdown",
   "metadata": {}
  },
  {
   "cell_type": "code",
   "execution_count": 1,
   "metadata": {},
   "outputs": [],
   "source": [
    "def mod7(inString):\n",
    "    # 非負整数か否かメモ. O(1).\n",
    "    nonnegative = True\n",
    "    if inString[0] == '-':\n",
    "        nonnegative = False\n",
    "        inString = inString[1:]\n",
    "\n",
    "    # 配列AにMを上から入れていく（stringのままだと書き換えるのに毎回O(n)かかるため）. O(n).\n",
    "    A = [0] * len(inString)\n",
    "    for i in range(len(inString)):\n",
    "        A[i] = int(inString[i])\n",
    "\n",
    "    # 上から2桁ずつ, 7で割った余りにしていく. 各回O(1)で, 繰り返しO(n).\n",
    "    for i in range(1, len(A)):\n",
    "        A[i] = (10*A[i-1] + A[i]) % 7\n",
    "        A[i-1] = 0\n",
    "    \n",
    "    # 非負整数かどうかで場合分けして解を出力. O(1).\n",
    "    if nonnegative:\n",
    "        return str(A[-1] % 7)\n",
    "    else:\n",
    "        return str(-A[-1] % 7)"
   ]
  },
  {
   "cell_type": "code",
   "execution_count": 2,
   "metadata": {},
   "outputs": [
    {
     "output_type": "stream",
     "name": "stdout",
     "text": [
      "0\n5\n5\n3\n2\n1\n6\n"
     ]
    }
   ],
   "source": [
    "# テスト\n",
    "print(mod7('0'))\n",
    "print(mod7('5'))\n",
    "print(mod7('19'))\n",
    "print(mod7('220'))\n",
    "print(mod7('1521'))\n",
    "print(mod7('-6'))\n",
    "print(mod7('-71'))"
   ]
  }
 ]
}