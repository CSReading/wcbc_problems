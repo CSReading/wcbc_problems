{
 "metadata": {
  "language_info": {
   "codemirror_mode": {
    "name": "ipython",
    "version": 3
   },
   "file_extension": ".py",
   "mimetype": "text/x-python",
   "name": "python",
   "nbconvert_exporter": "python",
   "pygments_lexer": "ipython3",
   "version": "3.8.8"
  },
  "orig_nbformat": 2,
  "kernelspec": {
   "name": "python388jvsc74a57bd098b0a9b7b4eaaa670588a142fd0a9b87eaafe866f1db4228be72b4211d12040f",
   "display_name": "Python 3.8.8 64-bit ('base': conda)",
   "language": "python"
  }
 },
 "nbformat": 4,
 "nbformat_minor": 2,
 "cells": [
  {
   "source": [
    "## 1 それぞれの関数の支配項を示せ。\n",
    "\n",
    " (a) $f(n)=\\left(\\log _{10}(7 n+2)\\right)^{3}+9\\left(\\log _{2}\\left(n^{7}\\right)\\right)^{2}$\n",
    "\n",
    "\n",
    "第2項は$(\\log n )^2$が基本項であるが、第1項は$(\\log n)^3$が基本項である。\n",
    "\n",
    "したがって、この関数の支配項は$(\\log n)^3$である。\n",
    "\n",
    "\n",
    " (b) $f(n)=5 n^{7}+2^{3 n}$\n",
    "\n",
    "$n^7$よりも$2^{3n}$のほうがより高速に大きくなるので、支配項は$2^{3n}$\n",
    "\n",
    "\n",
    "\n",
    "(c) $g(n)=a n^{3} \\log _{2}(n)+b\\left(n \\log _{2}(n)\\right)^{3}$ ただし, $a, b$ は正の定数.\n",
    "\n",
    "第2項は$n^3 (\\log_{2} (n))^3$であるため、第一項を支配する。\n",
    "したがって、支配項は$n^3 (\\log_{2} (n))^3$である。\n",
    "\n",
    "\n",
    "\n",
    "\n",
    "(d) $f(n)=g(h(n))^{2},$ ただし, $h(n)=n^{2} \\log _{2} n, g(n)=3 n^{2}+5 n^{4}+6$\n",
    "\n",
    "\n",
    "まず$g(n)^{2}$を考えると、支配項は$n^8$となる。\n",
    "$h(n)$の支配項は$n^{2} \\log _{2} n$であるため、これらを組み合わせると\n",
    "支配項は$n^{16} (log(n))^8$である。\n"
   ],
   "cell_type": "markdown",
   "metadata": {}
  },
  {
   "source": [
    "## 6　合理的な時間計算量を推計せよ。\n",
    "\n",
    "\n",
    "### (a) `slower10thPower.py`\n",
    "\n",
    "整数、文字列変換は定数時間で実行可能なので無視可能。\n",
    "\n",
    "乗算の計算量は$O(n^2)$である。for文によってこの操作を繰り返しているが、これは計算量の定数倍になるので無視可能。\n",
    "\n",
    "したがって、この関数の時間計算量は$O(n^2)$である。\n",
    "\n",
    "\n",
    "### (b) `countLines.py`\n",
    "\n",
    "splitメソッドは$O(n)$で実行可能である。　\n",
    "\n",
    "その他の部分は定数時間で実行されるため、このプログラムの時間計算量は$O(n)$である。\n",
    "\n",
    "\n",
    "### (c) `pythonSort.py`\n",
    "\n",
    "- splitメソッドは$O(n)$で実行可能である。\n",
    "- pythonの`sorted`関数はTimSortと呼ばれるアルゴリズムが利用されており、TimeSortの時間計算量は$O(n\\log(n))$である。\n",
    "\n",
    "それぞれのプロセスはネストされているわけではなく、独立に行われるものである。\n",
    "したがって、このプログラムの時間計算量は$O(n\\log(n))$である。\n",
    "\n",
    "\n",
    "### (d) `containsNANA.py`\n",
    "\n",
    "p218より `s in t`の時間計算量は$O(n)$である。\n",
    "GAGA, CACA, TATA, AAAAについて行っているが、これは上記の処理は4回繰り返すだけある。\n",
    "したがってこのプログラムの時間計算量は$O(n)$\n",
    "\n",
    "\n",
    "### (e) `listEvens.py`\n",
    "\n",
    "\n",
    "\n",
    "この関数は`factor.py`と同様の構造を持つことに注意。\n",
    "\n",
    "まず9行目のループは$O(10^{n})$回実行される。\n",
    "またifブロックにおいて各ステップにおいて$O(n^2)$かかる除算が行われている。\n",
    "\n",
    "したがって、プログラム全体の計算量は$O(10^{n} n^2)$である。\n",
    "\n",
    "### (f) `mysteryMultiply.py`\n",
    "\n",
    "整数変換、文字列変換は定数時間なので無視できる.\n",
    "\n",
    "時間計算量は、入力の長さの関数であることに注意する。\n",
    "\n",
    "入力のコピーを連結する操作は抜粋10.1より$O(len(M n))$の計算量である。\n",
    "\n",
    "整数に変換した際、その桁数は$M n$である。\n",
    "2回の乗算の計算量は$O(n^2)$であること、$O(M) = O(10^n)$であることから、このプログラムの計算量は\n",
    "$O(n^2 10^{2n})$である。\n",
    "\n",
    "\n",
    "\n",
    "\n"
   ],
   "cell_type": "markdown",
   "metadata": {}
  },
  {
   "cell_type": "code",
   "execution_count": 1,
   "metadata": {},
   "outputs": [],
   "source": [
    "from mysteryMultiply import mysteryMultiply"
   ]
  },
  {
   "cell_type": "code",
   "execution_count": 2,
   "metadata": {},
   "outputs": [
    {
     "output_type": "stream",
     "name": "stdout",
     "text": [
      "2.48 ms ± 221 µs per loop (mean ± std. dev. of 7 runs, 100 loops each)\n"
     ]
    }
   ],
   "source": [
    "%timeit mysteryMultiply('1000')"
   ]
  },
  {
   "cell_type": "code",
   "execution_count": 3,
   "metadata": {},
   "outputs": [
    {
     "output_type": "stream",
     "name": "stdout",
     "text": [
      "344 ms ± 23.7 ms per loop (mean ± std. dev. of 7 runs, 1 loop each)\n"
     ]
    }
   ],
   "source": [
    "%timeit mysteryMultiply('10000')"
   ]
  },
  {
   "source": [
    "## 11\n",
    "\n",
    "`MultBy496`は，1個の整数`M`を入力とし，496`M`を唯一解とする関数問題であるとする. `MultBy496 `$\\in Lin$を証明せよ\n",
    "\n",
    "\n",
    "\n",
    "### 解答\n",
    "\n",
    "\n",
    "`MultBy496`は496という整数定数を入力を回数だけ足し合わせることに相当する。\n",
    "\n",
    "加算の時間計算量は$O(n)$であることから、`MultBy496`は Lin$クラスに含まれる。"
   ],
   "cell_type": "markdown",
   "metadata": {}
  },
  {
   "cell_type": "code",
   "execution_count": null,
   "metadata": {},
   "outputs": [],
   "source": []
  }
 ]
}