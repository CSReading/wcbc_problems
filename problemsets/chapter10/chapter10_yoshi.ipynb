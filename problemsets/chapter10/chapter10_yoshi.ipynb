{
 "metadata": {
  "language_info": {
   "codemirror_mode": {
    "name": "ipython",
    "version": 3
   },
   "file_extension": ".py",
   "mimetype": "text/x-python",
   "name": "python",
   "nbconvert_exporter": "python",
   "pygments_lexer": "ipython3",
   "version": "3.8.6"
  },
  "orig_nbformat": 2,
  "kernelspec": {
   "name": "python386jvsc74a57bd098b0a9b7b4eaaa670588a142fd0a9b87eaafe866f1db4228be72b4211d12040f",
   "display_name": "Python 3.8.6 64-bit ('base': conda)"
  }
 },
 "nbformat": 4,
 "nbformat_minor": 2,
 "cells": [
  {
   "source": [
    "## 10.4\n",
    "### (a)\n",
    "\n",
    "#### (i) n=0の時\n",
    "- 0個の要素からなる集合の部分集合は空集合のみ, よって $N(0) = 1$ \n",
    "- 1個の要素からなる集合の部分集合は空集合と全体集合のみ, よって $N(1) = 2$\n",
    "- よって, N(1) = 2N(0)\n",
    "\n",
    "#### (ii) n=kの時\n",
    "- 集合Kを要素数k個の集合とし, その部分集合の集合を2^Kとする.\n",
    "- この時$x \\notin K$ となるようなxをKに加えた集合の部分集合は, 2^Kの要素である集合にxを加えるか加えないものである.\n",
    "- よって $N(k+1) = 2N(k)$\n",
    "- よってN(k) = 2^k\n",
    "\n",
    "\n",
    "### (b)\n",
    "- k個の集合からs個ちょうど選ぶ組み合わせは $kCs = \\frac{k!}{(k-s)!s!} \\in O(k^s)$\n",
    "\n",
    "### (c)\n",
    "- k個の集合からたかだかs個を選ぶ組み合わせの総数は $\\sum_{i = 0}^s kCi \\in O(k^s)$\n",
    "\n",
    "### (d)\n",
    "- (b)と(c)の集合の差分は,$\\sum_{i = 0}^{s-1} kCi$である.\n",
    "\n",
    "- この時, この集合族の要素数のオーダーはO(k^{s-1})であり, k個の集合からs個ちょうど選ぶ部分集合の要素数に支配される.\n",
    "\n",
    "### (e)\n",
    "- 完全グラフを考える. \n",
    "- 始点を固定した際のpathの取り方は(k-1)!\n",
    "- 同一の頂点に対して閉路は2回pathをカウントしているから, ハミルトン閉路の数は$\\frac{(n-1)!}{2}$\n",
    "- よって, ハミルトン閉路の数は$O(k!)$\n",
    "\n",
    "### (f)\n",
    "- 完全グラフを考える.\n",
    "- 選択された始点と終点に対してpathの選びかたは$(k-2)!$通り.\n",
    "- ハミルトン路の数は$O(k!)$"
   ],
   "cell_type": "markdown",
   "metadata": {}
  },
  {
   "source": [
    "### 10.9\n",
    "#### (a)\n",
    "- Lin, LogLin, Quad\n",
    "\n",
    "#### (b)\n",
    "- Const, Lin, LogLin, Quad\n",
    "\n",
    "#### (c)\n",
    "- Quad ?\n",
    "\n",
    "- S用とT用のListを用意する.\n",
    "- 分割した文字列の先頭文字列をみて, SならばSのlistに, TならばTのlistに加える.\n",
    "- SとTのlistから先頭の文字列を取り出して$(w_i, w_j)$の形に結合して返し, どちらかのlistに文字列がなければnoを返す.\n",
    "\n",
    "#### (d)\n",
    "- Lin, LogLin Quad \n",
    "\n",
    "- 文字列をsplitする\n",
    "- 1つ目の文字列をtempに入れる\n",
    "- 2つめの文字列のi文字目とtempのi文字目を比較する\n",
    "- 2つ目の文字列を比較し終えたらtempに2つ目の文字列を挿入して, 3文字目へ\n",
    "- 比較する回数はたかだかn回で抑える\n",
    "\n",
    "#### (e)\n",
    "- (Lin), LogLin, Quad ?\n",
    "\n",
    "- Sortなので少なくともLogLin\n",
    "- 最初に桁数を数えて基数ソートをかければO(n)?\n",
    "\n",
    "#### (f)\n",
    "- (Const), Lin, LogLin, Quad\n",
    "- 末尾の文字列をO(1)で取得できるならばCONST\n",
    "\n",
    "#### (g)\n",
    "- Lin, LogLin, Quad\n",
    "    - Alphabetのkeyとするdictをもち, valueを全て0とする\n",
    "    - 入力文字列を1文字ずつ見て, その値をkeyとするvalueに1を加える\n",
    "    - dictの値のvalueを見て, 2以上の値があればyes, そうでなければno"
   ],
   "cell_type": "markdown",
   "metadata": {}
  },
  {
   "cell_type": "code",
   "execution_count": 1,
   "metadata": {},
   "outputs": [],
   "source": [
    "def radixSort(array, maxDigit, base=10):\n",
    "    bucket =  [[] for i in range(base)]\n",
    "\n",
    "    # m桁分バケットソート\n",
    "    for digit in range(maxDigit):\n",
    "        for val in array:\n",
    "            # d桁目の値を取り出す\n",
    "            key = int(val / (base ** digit)) % base\n",
    "\n",
    "            # バケットに追加(カウント)\n",
    "            bucket[key].append(val)\n",
    "\n",
    "        # バケツの中身を取り出して結合\n",
    "        i = 0\n",
    "        for values in bucket:\n",
    "            for val in values:\n",
    "                array[i] = val\n",
    "                i += 1\n",
    "\n",
    "        # バケットの中身を初期化\n",
    "        bucket =  [[] for i in range(base)]\n",
    "\n",
    "    return array\n",
    "   "
   ]
  },
  {
   "cell_type": "code",
   "execution_count": 2,
   "metadata": {},
   "outputs": [
    {
     "output_type": "stream",
     "name": "stdout",
     "text": [
      "[1, 5, 32, 40, 100]\n[1, 5, 32, 40, 100]\n"
     ]
    }
   ],
   "source": [
    "l = [1, 40, 5, 32, 100]\n",
    "print(sorted(l))\n",
    "print(radixSort(l, 3))"
   ]
  },
  {
   "cell_type": "code",
   "execution_count": 3,
   "metadata": {},
   "outputs": [],
   "source": [
    "from random import randint"
   ]
  },
  {
   "cell_type": "code",
   "execution_count": 4,
   "metadata": {},
   "outputs": [
    {
     "output_type": "stream",
     "name": "stdout",
     "text": [
      "189 µs ± 14.4 µs per loop (mean ± std. dev. of 7 runs, 1000 loops each)\n"
     ]
    }
   ],
   "source": [
    "%%timeit\n",
    "l = [randint(1, 999) for x in range(100) ]\n",
    "sorted(l)"
   ]
  },
  {
   "cell_type": "code",
   "execution_count": 5,
   "metadata": {},
   "outputs": [
    {
     "output_type": "stream",
     "name": "stdout",
     "text": [
      "348 µs ± 7.93 µs per loop (mean ± std. dev. of 7 runs, 1000 loops each)\n"
     ]
    }
   ],
   "source": [
    "%%timeit\n",
    "l = [randint(1, 999) for x in range(100) ]\n",
    "radixSort(l, 3)"
   ]
  },
  {
   "cell_type": "code",
   "execution_count": 6,
   "metadata": {},
   "outputs": [
    {
     "output_type": "stream",
     "name": "stdout",
     "text": [
      "17.1 ms ± 783 µs per loop (mean ± std. dev. of 7 runs, 10 loops each)\n"
     ]
    }
   ],
   "source": [
    "%%timeit\n",
    "l = [randint(1, 99999) for x in range(10000) ]\n",
    "sorted(l)"
   ]
  },
  {
   "cell_type": "code",
   "execution_count": 7,
   "metadata": {},
   "outputs": [
    {
     "output_type": "stream",
     "name": "stdout",
     "text": [
      "48.8 ms ± 1.88 ms per loop (mean ± std. dev. of 7 runs, 10 loops each)\n"
     ]
    }
   ],
   "source": [
    "%%timeit\n",
    "l = [randint(1, 99999) for x in range(10000) ]\n",
    "radixSort(l, 5)"
   ]
  },
  {
   "cell_type": "code",
   "execution_count": 8,
   "metadata": {},
   "outputs": [
    {
     "output_type": "stream",
     "name": "stdout",
     "text": [
      "2.12 s ± 196 ms per loop (mean ± std. dev. of 7 runs, 1 loop each)\n"
     ]
    }
   ],
   "source": [
    "%%timeit\n",
    "l = [randint(1, 99999999) for x in range(1000000) ]\n",
    "sorted(l)"
   ]
  },
  {
   "cell_type": "code",
   "execution_count": 9,
   "metadata": {},
   "outputs": [
    {
     "output_type": "stream",
     "name": "stdout",
     "text": [
      "8.16 s ± 158 ms per loop (mean ± std. dev. of 7 runs, 1 loop each)\n"
     ]
    }
   ],
   "source": [
    "%%timeit\n",
    "l = [randint(1, 99999999) for x in range(1000000) ]\n",
    "radixSort(l, 8)"
   ]
  },
  {
   "source": [
    "- いまいちO(nlogn)とO(n)っぽい感じの実行時間になってない気がする..."
   ],
   "cell_type": "markdown",
   "metadata": {}
  }
 ]
}