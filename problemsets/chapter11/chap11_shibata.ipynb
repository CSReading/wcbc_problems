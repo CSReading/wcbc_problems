{
 "metadata": {
  "language_info": {
   "codemirror_mode": {
    "name": "ipython",
    "version": 3
   },
   "file_extension": ".py",
   "mimetype": "text/x-python",
   "name": "python",
   "nbconvert_exporter": "python",
   "pygments_lexer": "ipython3",
   "version": "3.8.6"
  },
  "orig_nbformat": 2,
  "kernelspec": {
   "name": "python386jvsc74a57bd098b0a9b7b4eaaa670588a142fd0a9b87eaafe866f1db4228be72b4211d12040f",
   "display_name": "Python 3.8.6 64-bit ('base': conda)"
  }
 },
 "nbformat": 4,
 "nbformat_minor": 2,
 "cells": [
  {
   "cell_type": "code",
   "execution_count": 3,
   "metadata": {},
   "outputs": [],
   "source": [
    "import networkx as nx\n",
    "import matplotlib.pyplot as plt\n",
    "from time import time"
   ]
  },
  {
   "source": [
    "## 11.4\n",
    "### 問 \n",
    "次の問題インスタンスのそれぞれについて解を答えよ.  \n",
    " (a) TSP(\"a,b,3 b,c,2 c,d,1 d,e,2 e,a,1 b,d,5\")  \n",
    " (b) TSPPATH(\"a,b,3 b,c,2 c,d,1 d,e,2 e,a,1 b,d,5 ; a c\")  \n",
    " (c) SHORTESTPATH(\"a,b,3 b,c,2 c,d,1 d,e,2 e,a,1 b,d,5 ; a c\")  \n",
    " (d) TSPPATH(\"a,b,3 b,c,2 c,d,1 d,e,2 e,a,1 b,d,5 ; a d\")  \n",
    "\n",
    "### 答\n",
    " (a) a, b, c, d, e  \n",
    " (b) a, e, d, b, c  \n",
    " (c) a, e, d, c  \n",
    " (d) no \n",
    "\n"
   ],
   "cell_type": "markdown",
   "metadata": {}
  },
  {
   "cell_type": "code",
   "execution_count": 14,
   "metadata": {},
   "outputs": [
    {
     "output_type": "display_data",
     "data": {
      "text/plain": "<Figure size 432x288 with 1 Axes>",
      "image/svg+xml": "<?xml version=\"1.0\" encoding=\"utf-8\" standalone=\"no\"?>\n<!DOCTYPE svg PUBLIC \"-//W3C//DTD SVG 1.1//EN\"\n  \"http://www.w3.org/Graphics/SVG/1.1/DTD/svg11.dtd\">\n<svg height=\"231.84pt\" version=\"1.1\" viewBox=\"0 0 349.2 231.84\" width=\"349.2pt\" xmlns=\"http://www.w3.org/2000/svg\" xmlns:xlink=\"http://www.w3.org/1999/xlink\">\n <metadata>\n  <rdf:RDF xmlns:cc=\"http://creativecommons.org/ns#\" xmlns:dc=\"http://purl.org/dc/elements/1.1/\" xmlns:rdf=\"http://www.w3.org/1999/02/22-rdf-syntax-ns#\">\n   <cc:Work>\n    <dc:type rdf:resource=\"http://purl.org/dc/dcmitype/StillImage\"/>\n    <dc:date>2021-04-23T18:54:32.322998</dc:date>\n    <dc:format>image/svg+xml</dc:format>\n    <dc:creator>\n     <cc:Agent>\n      <dc:title>Matplotlib v3.4.1, https://matplotlib.org/</dc:title>\n     </cc:Agent>\n    </dc:creator>\n   </cc:Work>\n  </rdf:RDF>\n </metadata>\n <defs>\n  <style type=\"text/css\">*{stroke-linecap:butt;stroke-linejoin:round;}</style>\n </defs>\n <g id=\"figure_1\">\n  <g id=\"patch_1\">\n   <path d=\"M 0 231.84 \nL 349.2 231.84 \nL 349.2 0 \nL 0 0 \nz\n\" style=\"fill:none;\"/>\n  </g>\n  <g id=\"axes_1\">\n   <g id=\"patch_2\">\n    <path d=\"M 7.2 224.64 \nL 342 224.64 \nL 342 7.2 \nL 7.2 7.2 \nz\n\" style=\"fill:#ffffff;\"/>\n   </g>\n   <g id=\"LineCollection_1\">\n    <path clip-path=\"url(#p809f8d0f74)\" d=\"M 274.049606 214.756364 \nL 154.031367 149.512189 \n\" style=\"fill:none;stroke:#000000;\"/>\n    <path clip-path=\"url(#p809f8d0f74)\" d=\"M 274.049606 214.756364 \nL 326.781818 17.083636 \n\" style=\"fill:none;stroke:#000000;\"/>\n    <path clip-path=\"url(#p809f8d0f74)\" d=\"M 154.031367 149.512189 \nL 22.418182 97.076145 \n\" style=\"fill:none;stroke:#000000;\"/>\n    <path clip-path=\"url(#p809f8d0f74)\" d=\"M 154.031367 149.512189 \nL 179.146333 33.727436 \n\" style=\"fill:none;stroke:#000000;\"/>\n    <path clip-path=\"url(#p809f8d0f74)\" d=\"M 22.418182 97.076145 \nL 179.146333 33.727436 \n\" style=\"fill:none;stroke:#000000;\"/>\n    <path clip-path=\"url(#p809f8d0f74)\" d=\"M 179.146333 33.727436 \nL 326.781818 17.083636 \n\" style=\"fill:none;stroke:#000000;\"/>\n   </g>\n   <g id=\"text_1\">\n    <g id=\"patch_3\">\n     <path clip-path=\"url(#p809f8d0f74)\" d=\"M 208.808806 188.782642 \nL 214.921414 190.548266 \nQ 217.803586 191.38078 218.636101 188.498607 \nL 221.321826 179.200598 \nQ 222.154341 176.318425 219.272168 175.485911 \nL 213.15956 173.720287 \nQ 210.277387 172.887772 209.444873 175.769945 \nL 206.759147 185.067955 \nQ 205.926633 187.950128 208.808806 188.782642 \nz\n\" style=\"fill:#ffffff;stroke:#ffffff;stroke-linejoin:miter;\"/>\n    </g>\n    <g clip-path=\"url(#p809f8d0f74)\">\n     <!-- 3 -->\n     <g transform=\"translate(210.218443 183.902463)rotate(-343.888664)scale(0.1 -0.1)\">\n      <defs>\n       <path d=\"M 2597 2516 \nQ 3050 2419 3304 2112 \nQ 3559 1806 3559 1356 \nQ 3559 666 3084 287 \nQ 2609 -91 1734 -91 \nQ 1441 -91 1130 -33 \nQ 819 25 488 141 \nL 488 750 \nQ 750 597 1062 519 \nQ 1375 441 1716 441 \nQ 2309 441 2620 675 \nQ 2931 909 2931 1356 \nQ 2931 1769 2642 2001 \nQ 2353 2234 1838 2234 \nL 1294 2234 \nL 1294 2753 \nL 1863 2753 \nQ 2328 2753 2575 2939 \nQ 2822 3125 2822 3475 \nQ 2822 3834 2567 4026 \nQ 2313 4219 1838 4219 \nQ 1578 4219 1281 4162 \nQ 984 4106 628 3988 \nL 628 4550 \nQ 988 4650 1302 4700 \nQ 1616 4750 1894 4750 \nQ 2613 4750 3031 4423 \nQ 3450 4097 3450 3541 \nQ 3450 3153 3228 2886 \nQ 3006 2619 2597 2516 \nz\n\" id=\"DejaVuSans-33\" transform=\"scale(0.015625)\"/>\n      </defs>\n      <use xlink:href=\"#DejaVuSans-33\"/>\n     </g>\n    </g>\n   </g>\n   <g id=\"text_2\">\n    <g id=\"patch_4\">\n     <path clip-path=\"url(#p809f8d0f74)\" d=\"M 305.99404 122.280308 \nL 308.848784 116.594198 \nQ 310.194833 113.913125 307.51376 112.567077 \nL 298.864506 108.224668 \nQ 296.183433 106.878619 294.837384 109.559692 \nL 291.98264 115.245802 \nQ 290.636591 117.926875 293.317664 119.272923 \nL 301.966918 123.615332 \nQ 304.647991 124.961381 305.99404 122.280308 \nz\n\" style=\"fill:#ffffff;stroke:#ffffff;stroke-linejoin:miter;\"/>\n    </g>\n    <g clip-path=\"url(#p809f8d0f74)\">\n     <!-- 1 -->\n     <g transform=\"translate(301.454368 120.001139)rotate(-63.34079)scale(0.1 -0.1)\">\n      <defs>\n       <path d=\"M 794 531 \nL 1825 531 \nL 1825 4091 \nL 703 3866 \nL 703 4441 \nL 1819 4666 \nL 2450 4666 \nL 2450 531 \nL 3481 531 \nL 3481 0 \nL 794 0 \nL 794 531 \nz\n\" id=\"DejaVuSans-31\" transform=\"scale(0.015625)\"/>\n      </defs>\n      <use xlink:href=\"#DejaVuSans-31\"/>\n     </g>\n    </g>\n   </g>\n   <g id=\"text_3\">\n    <g id=\"patch_5\">\n     <path clip-path=\"url(#p809f8d0f74)\" d=\"M 83.488997 130.304421 \nL 89.713552 131.622119 \nQ 92.648509 132.243431 93.26982 129.308474 \nL 95.274197 119.840181 \nQ 95.895509 116.905224 92.960552 116.283912 \nL 86.735997 114.966214 \nQ 83.80104 114.344903 83.179729 117.279859 \nL 81.175352 126.748153 \nQ 80.554041 129.68311 83.488997 130.304421 \nz\n\" style=\"fill:#ffffff;stroke:#ffffff;stroke-linejoin:miter;\"/>\n    </g>\n    <g clip-path=\"url(#p809f8d0f74)\">\n     <!-- 2 -->\n     <g transform=\"translate(84.54102 125.334867)rotate(-348.047317)scale(0.1 -0.1)\">\n      <defs>\n       <path d=\"M 1228 531 \nL 3431 531 \nL 3431 0 \nL 469 0 \nL 469 531 \nQ 828 903 1448 1529 \nQ 2069 2156 2228 2338 \nQ 2531 2678 2651 2914 \nQ 2772 3150 2772 3378 \nQ 2772 3750 2511 3984 \nQ 2250 4219 1831 4219 \nQ 1534 4219 1204 4116 \nQ 875 4013 500 3803 \nL 500 4441 \nQ 881 4594 1212 4672 \nQ 1544 4750 1819 4750 \nQ 2544 4750 2975 4387 \nQ 3406 4025 3406 3419 \nQ 3406 3131 3298 2873 \nQ 3191 2616 2906 2266 \nQ 2828 2175 2409 1742 \nQ 1991 1309 1228 531 \nz\n\" id=\"DejaVuSans-32\" transform=\"scale(0.015625)\"/>\n      </defs>\n      <use xlink:href=\"#DejaVuSans-32\"/>\n     </g>\n    </g>\n   </g>\n   <g id=\"text_4\">\n    <g id=\"patch_6\">\n     <path clip-path=\"url(#p809f8d0f74)\" d=\"M 172.644109 97.527865 \nL 175.048812 91.637296 \nQ 176.18266 88.859817 173.405181 87.725969 \nL 164.444918 84.068128 \nQ 161.667439 82.93428 160.533591 85.711759 \nL 158.128889 91.602329 \nQ 156.995041 94.379808 159.77252 95.513656 \nL 168.732782 99.171496 \nQ 171.510261 100.305344 172.644109 97.527865 \nz\n\" style=\"fill:#ffffff;stroke:#ffffff;stroke-linejoin:miter;\"/>\n    </g>\n    <g clip-path=\"url(#p809f8d0f74)\">\n     <!-- 5 -->\n     <g transform=\"translate(167.941201 95.608001)rotate(-67.793284)scale(0.1 -0.1)\">\n      <defs>\n       <path d=\"M 691 4666 \nL 3169 4666 \nL 3169 4134 \nL 1269 4134 \nL 1269 2991 \nQ 1406 3038 1543 3061 \nQ 1681 3084 1819 3084 \nQ 2600 3084 3056 2656 \nQ 3513 2228 3513 1497 \nQ 3513 744 3044 326 \nQ 2575 -91 1722 -91 \nQ 1428 -91 1123 -41 \nQ 819 9 494 109 \nL 494 744 \nQ 775 591 1075 516 \nQ 1375 441 1709 441 \nQ 2250 441 2565 725 \nQ 2881 1009 2881 1497 \nQ 2881 1984 2565 2268 \nQ 2250 2553 1709 2553 \nQ 1456 2553 1204 2497 \nQ 953 2441 691 2322 \nL 691 4666 \nz\n\" id=\"DejaVuSans-35\" transform=\"scale(0.015625)\"/>\n      </defs>\n      <use xlink:href=\"#DejaVuSans-35\"/>\n     </g>\n    </g>\n   </g>\n   <g id=\"text_5\">\n    <g id=\"patch_7\">\n     <path clip-path=\"url(#p809f8d0f74)\" d=\"M 99.31797 73.734084 \nL 105.538624 72.398092 \nQ 108.471741 71.768154 107.841804 68.835037 \nL 105.8096 59.372677 \nQ 105.179662 56.439559 102.246545 57.069497 \nL 96.025891 58.405489 \nQ 93.092773 59.035426 93.722711 61.968544 \nL 95.754915 71.430904 \nQ 96.384853 74.364021 99.31797 73.734084 \nz\n\" style=\"fill:#ffffff;stroke:#ffffff;stroke-linejoin:miter;\"/>\n    </g>\n    <g clip-path=\"url(#p809f8d0f74)\">\n     <!-- 1 -->\n     <g transform=\"translate(98.251342 68.767643)rotate(-12.121129)scale(0.1 -0.1)\">\n      <use xlink:href=\"#DejaVuSans-31\"/>\n     </g>\n    </g>\n   </g>\n   <g id=\"text_6\">\n    <g id=\"patch_8\">\n     <path clip-path=\"url(#p809f8d0f74)\" d=\"M 250.25725 33.420793 \nL 256.608366 33.040351 \nQ 259.602998 32.860968 259.423615 29.866335 \nL 258.844916 20.205527 \nQ 258.665533 17.210895 255.670901 17.390279 \nL 249.319785 17.770721 \nQ 246.325153 17.950105 246.504536 20.944737 \nL 247.083235 30.605545 \nQ 247.262618 33.600177 250.25725 33.420793 \nz\n\" style=\"fill:#ffffff;stroke:#ffffff;stroke-linejoin:miter;\"/>\n    </g>\n    <g clip-path=\"url(#p809f8d0f74)\">\n     <!-- 2 -->\n     <g transform=\"translate(249.953513 28.350195)rotate(-3.428016)scale(0.1 -0.1)\">\n      <use xlink:href=\"#DejaVuSans-32\"/>\n     </g>\n    </g>\n   </g>\n   <g id=\"matplotlib.axis_1\">\n    <g id=\"xtick_1\"/>\n    <g id=\"xtick_2\"/>\n    <g id=\"xtick_3\"/>\n    <g id=\"xtick_4\"/>\n    <g id=\"xtick_5\"/>\n    <g id=\"xtick_6\"/>\n    <g id=\"xtick_7\"/>\n    <g id=\"xtick_8\"/>\n   </g>\n   <g id=\"matplotlib.axis_2\">\n    <g id=\"ytick_1\"/>\n    <g id=\"ytick_2\"/>\n    <g id=\"ytick_3\"/>\n    <g id=\"ytick_4\"/>\n    <g id=\"ytick_5\"/>\n   </g>\n   <g id=\"PathCollection_1\">\n    <defs>\n     <path d=\"M 0 8.660254 \nC 2.296726 8.660254 4.499694 7.747755 6.123724 6.123724 \nC 7.747755 4.499694 8.660254 2.296726 8.660254 0 \nC 8.660254 -2.296726 7.747755 -4.499694 6.123724 -6.123724 \nC 4.499694 -7.747755 2.296726 -8.660254 0 -8.660254 \nC -2.296726 -8.660254 -4.499694 -7.747755 -6.123724 -6.123724 \nC -7.747755 -4.499694 -8.660254 -2.296726 -8.660254 0 \nC -8.660254 2.296726 -7.747755 4.499694 -6.123724 6.123724 \nC -4.499694 7.747755 -2.296726 8.660254 0 8.660254 \nz\n\" id=\"mc9f9d35024\" style=\"stroke:#1f78b4;\"/>\n    </defs>\n    <g clip-path=\"url(#p809f8d0f74)\">\n     <use style=\"fill:#1f78b4;stroke:#1f78b4;\" x=\"274.049606\" xlink:href=\"#mc9f9d35024\" y=\"214.756364\"/>\n     <use style=\"fill:#1f78b4;stroke:#1f78b4;\" x=\"154.031367\" xlink:href=\"#mc9f9d35024\" y=\"149.512189\"/>\n     <use style=\"fill:#1f78b4;stroke:#1f78b4;\" x=\"22.418182\" xlink:href=\"#mc9f9d35024\" y=\"97.076145\"/>\n     <use style=\"fill:#1f78b4;stroke:#1f78b4;\" x=\"179.146333\" xlink:href=\"#mc9f9d35024\" y=\"33.727436\"/>\n     <use style=\"fill:#1f78b4;stroke:#1f78b4;\" x=\"326.781818\" xlink:href=\"#mc9f9d35024\" y=\"17.083636\"/>\n    </g>\n   </g>\n   <g id=\"patch_9\">\n    <path d=\"M 7.2 224.64 \nL 7.2 7.2 \n\" style=\"fill:none;stroke:#000000;stroke-linecap:square;stroke-linejoin:miter;stroke-width:0.8;\"/>\n   </g>\n   <g id=\"patch_10\">\n    <path d=\"M 342 224.64 \nL 342 7.2 \n\" style=\"fill:none;stroke:#000000;stroke-linecap:square;stroke-linejoin:miter;stroke-width:0.8;\"/>\n   </g>\n   <g id=\"patch_11\">\n    <path d=\"M 7.2 224.64 \nL 342 224.64 \n\" style=\"fill:none;stroke:#000000;stroke-linecap:square;stroke-linejoin:miter;stroke-width:0.8;\"/>\n   </g>\n   <g id=\"patch_12\">\n    <path d=\"M 7.2 7.2 \nL 342 7.2 \n\" style=\"fill:none;stroke:#000000;stroke-linecap:square;stroke-linejoin:miter;stroke-width:0.8;\"/>\n   </g>\n   <g id=\"text_7\">\n    <g clip-path=\"url(#p809f8d0f74)\">\n     <!-- a -->\n     <g transform=\"translate(270.372731 218.067614)scale(0.12 -0.12)\">\n      <defs>\n       <path d=\"M 2194 1759 \nQ 1497 1759 1228 1600 \nQ 959 1441 959 1056 \nQ 959 750 1161 570 \nQ 1363 391 1709 391 \nQ 2188 391 2477 730 \nQ 2766 1069 2766 1631 \nL 2766 1759 \nL 2194 1759 \nz\nM 3341 1997 \nL 3341 0 \nL 2766 0 \nL 2766 531 \nQ 2569 213 2275 61 \nQ 1981 -91 1556 -91 \nQ 1019 -91 701 211 \nQ 384 513 384 1019 \nQ 384 1609 779 1909 \nQ 1175 2209 1959 2209 \nL 2766 2209 \nL 2766 2266 \nQ 2766 2663 2505 2880 \nQ 2244 3097 1772 3097 \nQ 1472 3097 1187 3025 \nQ 903 2953 641 2809 \nL 641 3341 \nQ 956 3463 1253 3523 \nQ 1550 3584 1831 3584 \nQ 2591 3584 2966 3190 \nQ 3341 2797 3341 1997 \nz\n\" id=\"DejaVuSans-61\" transform=\"scale(0.015625)\"/>\n      </defs>\n      <use xlink:href=\"#DejaVuSans-61\"/>\n     </g>\n    </g>\n   </g>\n   <g id=\"text_8\">\n    <g clip-path=\"url(#p809f8d0f74)\">\n     <!-- b -->\n     <g transform=\"translate(150.222305 152.823439)scale(0.12 -0.12)\">\n      <defs>\n       <path d=\"M 3116 1747 \nQ 3116 2381 2855 2742 \nQ 2594 3103 2138 3103 \nQ 1681 3103 1420 2742 \nQ 1159 2381 1159 1747 \nQ 1159 1113 1420 752 \nQ 1681 391 2138 391 \nQ 2594 391 2855 752 \nQ 3116 1113 3116 1747 \nz\nM 1159 2969 \nQ 1341 3281 1617 3432 \nQ 1894 3584 2278 3584 \nQ 2916 3584 3314 3078 \nQ 3713 2572 3713 1747 \nQ 3713 922 3314 415 \nQ 2916 -91 2278 -91 \nQ 1894 -91 1617 61 \nQ 1341 213 1159 525 \nL 1159 0 \nL 581 0 \nL 581 4863 \nL 1159 4863 \nL 1159 2969 \nz\n\" id=\"DejaVuSans-62\" transform=\"scale(0.015625)\"/>\n      </defs>\n      <use xlink:href=\"#DejaVuSans-62\"/>\n     </g>\n    </g>\n   </g>\n   <g id=\"text_9\">\n    <g clip-path=\"url(#p809f8d0f74)\">\n     <!-- c -->\n     <g transform=\"translate(19.119119 100.387395)scale(0.12 -0.12)\">\n      <defs>\n       <path d=\"M 3122 3366 \nL 3122 2828 \nQ 2878 2963 2633 3030 \nQ 2388 3097 2138 3097 \nQ 1578 3097 1268 2742 \nQ 959 2388 959 1747 \nQ 959 1106 1268 751 \nQ 1578 397 2138 397 \nQ 2388 397 2633 464 \nQ 2878 531 3122 666 \nL 3122 134 \nQ 2881 22 2623 -34 \nQ 2366 -91 2075 -91 \nQ 1284 -91 818 406 \nQ 353 903 353 1747 \nQ 353 2603 823 3093 \nQ 1294 3584 2113 3584 \nQ 2378 3584 2631 3529 \nQ 2884 3475 3122 3366 \nz\n\" id=\"DejaVuSans-63\" transform=\"scale(0.015625)\"/>\n      </defs>\n      <use xlink:href=\"#DejaVuSans-63\"/>\n     </g>\n    </g>\n   </g>\n   <g id=\"text_10\">\n    <g clip-path=\"url(#p809f8d0f74)\">\n     <!-- d -->\n     <g transform=\"translate(175.33727 37.038686)scale(0.12 -0.12)\">\n      <defs>\n       <path d=\"M 2906 2969 \nL 2906 4863 \nL 3481 4863 \nL 3481 0 \nL 2906 0 \nL 2906 525 \nQ 2725 213 2448 61 \nQ 2172 -91 1784 -91 \nQ 1150 -91 751 415 \nQ 353 922 353 1747 \nQ 353 2572 751 3078 \nQ 1150 3584 1784 3584 \nQ 2172 3584 2448 3432 \nQ 2725 3281 2906 2969 \nz\nM 947 1747 \nQ 947 1113 1208 752 \nQ 1469 391 1925 391 \nQ 2381 391 2643 752 \nQ 2906 1113 2906 1747 \nQ 2906 2381 2643 2742 \nQ 2381 3103 1925 3103 \nQ 1469 3103 1208 2742 \nQ 947 2381 947 1747 \nz\n\" id=\"DejaVuSans-64\" transform=\"scale(0.015625)\"/>\n      </defs>\n      <use xlink:href=\"#DejaVuSans-64\"/>\n     </g>\n    </g>\n   </g>\n   <g id=\"text_11\">\n    <g clip-path=\"url(#p809f8d0f74)\">\n     <!-- e -->\n     <g transform=\"translate(323.089943 20.394886)scale(0.12 -0.12)\">\n      <defs>\n       <path d=\"M 3597 1894 \nL 3597 1613 \nL 953 1613 \nQ 991 1019 1311 708 \nQ 1631 397 2203 397 \nQ 2534 397 2845 478 \nQ 3156 559 3463 722 \nL 3463 178 \nQ 3153 47 2828 -22 \nQ 2503 -91 2169 -91 \nQ 1331 -91 842 396 \nQ 353 884 353 1716 \nQ 353 2575 817 3079 \nQ 1281 3584 2069 3584 \nQ 2775 3584 3186 3129 \nQ 3597 2675 3597 1894 \nz\nM 3022 2063 \nQ 3016 2534 2758 2815 \nQ 2500 3097 2075 3097 \nQ 1594 3097 1305 2825 \nQ 1016 2553 972 2059 \nL 3022 2063 \nz\n\" id=\"DejaVuSans-65\" transform=\"scale(0.015625)\"/>\n      </defs>\n      <use xlink:href=\"#DejaVuSans-65\"/>\n     </g>\n    </g>\n   </g>\n  </g>\n </g>\n <defs>\n  <clipPath id=\"p809f8d0f74\">\n   <rect height=\"217.44\" width=\"334.8\" x=\"7.2\" y=\"7.2\"/>\n  </clipPath>\n </defs>\n</svg>\n",
      "image/png": "[encoded data removed]"
     },
     "metadata": {}
    }
   ],
   "source": [
    "g = nx.Graph()\n",
    "g.add_weighted_edges_from(\n",
    "    [(\"a\", \"b\", 3), (\"b\", \"c\", 2), (\"c\", \"d\", 1), (\"d\", \"e\", 2), (\"e\", \"a\", 1), (\"b\", \"d\", 5)]\n",
    "    )\n",
    "edge_labels = {(i, j): w['weight'] for i, j, w in g.edges(data=True)} \n",
    "\n",
    "pos = nx.spring_layout(g)\n",
    "nx.draw_networkx_edge_labels(g, pos, edge_labels = edge_labels)\n",
    "nx.draw_networkx(g, pos)\n",
    "plt.show()"
   ]
  },
  {
   "cell_type": "code",
   "execution_count": 12,
   "metadata": {},
   "outputs": [
    {
     "output_type": "stream",
     "name": "stdout",
     "text": [
      "(a):  a,b,c,d,e\n(b):  a,e,d,b,c\n(c):  4\n(d):  no\n"
     ]
    }
   ],
   "source": [
    "from tsp import tsp\n",
    "from shortestPath import shortestPath\n",
    "from tspPath_rev import tspPath\n",
    "\n",
    "print(\"(a): \", tsp(\"a,b,3 b,c,2 c,d,1 d,e,2 e,a,1 b,d,5\"))\n",
    "print(\"(b): \", tspPath(\"a,b,3 b,c,2 c,d,1 d,e,2 e,a,1 b,d,5 ; a ; c\"))\n",
    "print(\"(c): \", shortestPath(\"a,b,3 b,c,2 c,d,1 d,e,2 e,a,1 b,d,5 ; a ; c\"))\n",
    "print(\"(d): \", tspPath(\"a,b,3 b,c,2 c,d,1 d,e,2 e,a,1 b,d,5 ; a ; d \"))"
   ]
  },
  {
   "source": [
    "## 11.9\n",
    "### 問 \n",
    "FIRD問題をFactorInRange問題の判定問題バージョンとする.  \n",
    " (a) FIRD問題を解くプログラムfird.pyを書け.  \n",
    " (b) 仮にfird.pyが多項式時間で実行されるものとする. この仮定のもとで, FactorInRange問題を多項式時間で解くプログラムFactorInRange.pyをかけ.  \n",
    " (c) Factor問題について同じ手順を踏むとどうなるか. つまり, Factor問題の判定問題バージョンを解く仮説的な多項式時間プログラムfactorD.pyが与えられたとき, 同じテクニックを使って非判定問題バージョンのFactor問題を多項式時間で解けるプログラムが得られるか."
   ],
   "cell_type": "markdown",
   "metadata": {}
  },
  {
   "cell_type": "code",
   "execution_count": 2,
   "metadata": {},
   "outputs": [],
   "source": [
    "from utils import WcbcException\n",
    "\n",
    "def fird(inString):\n",
    "    split = inString.split()\n",
    "\n",
    "    if len(split) != 3:\n",
    "        raise WcbcException(\"input must be composed of 3 numbers\")\n",
    "\n",
    "    M, a, b = int(split[0]), int(split[1]), int(split[2])\n",
    "    \n",
    "    if a > b:\n",
    "        raise WcbcException(\"a must be equal to or smaller than b\")\n",
    "    \n",
    "    for i in range(a, b + 1):\n",
    "        if M % i == 0:\n",
    "            return \"yes\"\n",
    "    \n",
    "    return \"no\""
   ]
  },
  {
   "cell_type": "code",
   "execution_count": 4,
   "metadata": {},
   "outputs": [
    {
     "output_type": "stream",
     "name": "stdout",
     "text": [
      "yes\nyes\nyes\nno\nyes\n"
     ]
    }
   ],
   "source": [
    "print(fird(\"55 9 20\"))\n",
    "print(fird(\"55 9 12\"))\n",
    "print(fird(\"55 9 11\"))\n",
    "print(fird(\"55 9 10\"))\n",
    "print(fird(\"55 11 11\"))\n"
   ]
  },
  {
   "cell_type": "code",
   "execution_count": 6,
   "metadata": {},
   "outputs": [],
   "source": [
    "from fird import fird\n",
    "# firdは多項式時間で実行されると仮定\n",
    "\n",
    "def FactorInRange(inString):\n",
    "    split = inString.split()\n",
    "\n",
    "    if len(split) != 3:\n",
    "        raise WcbcException(\"input must be composed of 3 numbers\")\n",
    "\n",
    "    M, a, b = int(split[0]), int(split[1]), int(split[2])\n",
    "    \n",
    "    if a > b:\n",
    "        raise WcbcException(\"a must be equal to or smaller than b\")\n",
    "    \n",
    "    # 入力文字数をnとするとrange(a, b + 1)における繰り返しの回数はたかだかlog(n)回\n",
    "    # firdが多項式時間で解けるため, このループも多項式時間で解ける\n",
    "    for i in range(a, b + 1):\n",
    "        if fird(str(M) + \" \" + str(i) +  \" \" + str(i)) == \"yes\":\n",
    "            return i\n",
    "    \n",
    "    return \"no\""
   ]
  },
  {
   "cell_type": "code",
   "execution_count": 7,
   "metadata": {},
   "outputs": [
    {
     "output_type": "stream",
     "name": "stdout",
     "text": [
      "11\n11\n11\nno\n11\n"
     ]
    }
   ],
   "source": [
    "print(FactorInRange(\"55 9 20\"))\n",
    "print(FactorInRange(\"55 9 12\"))\n",
    "print(FactorInRange(\"55 9 11\"))\n",
    "print(FactorInRange(\"55 9 10\"))\n",
    "print(FactorInRange(\"55 11 11\"))"
   ]
  },
  {
   "source": [
    "(c) FactorD問題では因数を絞り込めないので同じ手順では多項式時間で解けるプログラムが構築できない."
   ],
   "cell_type": "markdown",
   "metadata": {}
  },
  {
   "source": [
    "## 11.14\n",
    "### 問 \n",
    "```factor('10000019')```と```factorUnary(10000019*'1')```の実行時間を計測せよ.\n",
    "絶対実行時間と入力1文字あたりの実行時間を比較せよ.\n",
    "どちらのプログラムの方が計算量が小さいか.\n",
    "あなたの考えではどちらのプログラムが「効率的」か.\n",
    "\n",
    "### 答\n",
    "絶対実行時間はほとんど変わらないが, 入力1文字あたりの実行時間はfactorUnaryの方が速い.  \n",
    "計算量はfactorは$O(n^2 10^n)$に対し, factorUnaryは$O((\\log(n))^2 n)$である.  \n",
    "本質的に解きたい問題に対して同程度の時間がかかっているため, 特に優劣はつけにくいが, 今回の例に関して言えばコードの作りがよりシンプルなfactorの方が効率的に感じる.\n"
   ],
   "cell_type": "markdown",
   "metadata": {}
  },
  {
   "cell_type": "code",
   "execution_count": 5,
   "metadata": {},
   "outputs": [
    {
     "output_type": "stream",
     "name": "stdout",
     "text": [
      "factor:  0.7120635509490967\nfactorUnary:  0.7157924175262451\n\nfactor per input length:  0.08900794386863708\nfactorUnary per input length:  7.157910575232358e-08\n"
     ]
    }
   ],
   "source": [
    "from factor import factor\n",
    "from factorUnary import factorUnary\n",
    "\n",
    "start_factor = time()\n",
    "factor('10000019')\n",
    "time_factor = time() - start_factor\n",
    "\n",
    "start_factorUnary = time()\n",
    "factorUnary(10000019*'1')\n",
    "time_factorUnary = time() - start_factorUnary\n",
    "\n",
    "print(\"factor: \", time_factor)\n",
    "print(\"factorUnary: \", time_factorUnary)\n",
    "print()\n",
    "print(\"factor per input length: \", time_factor/len('10000019'))\n",
    "print(\"factorUnary per input length: \", time_factorUnary/10000019)"
   ]
  },
  {
   "source": [],
   "cell_type": "markdown",
   "metadata": {}
  }
 ]
}