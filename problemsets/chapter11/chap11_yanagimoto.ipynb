{
 "metadata": {
  "language_info": {
   "codemirror_mode": {
    "name": "ipython",
    "version": 3
   },
   "file_extension": ".py",
   "mimetype": "text/x-python",
   "name": "python",
   "nbconvert_exporter": "python",
   "pygments_lexer": "ipython3",
   "version": 3
  },
  "orig_nbformat": 2
 },
 "nbformat": 4,
 "nbformat_minor": 2,
 "cells": [
  {
   "source": [
    "## 11.3\n",
    "(a) $_{10} C_3 = 120$ <br>\n",
    "(b) $2^{10} = 1024$"
   ],
   "cell_type": "markdown",
   "metadata": {}
  },
  {
   "source": [
    "## 11.8\n",
    "(a)-(c) に関しては、$a = 0, b = M$を代入すると、Factor問題と等価より、多項式時間を必要とするかわかっていない。\n",
    "\n",
    "### (d) $a = 0, b = \\text{floor}(\\sqrt{M})$\n",
    "多項式時間で解けると仮定すると、\n",
    "- 解が存在する場合、Factor問題も解けている\n",
    "- 解が存在しない場合、$[\\sqrt{M}, M]$の間にも非自明因数が存在しないことは自明\n",
    "従って、Factor問題が多項式時間で解けるとこととなり、現状矛盾。\n",
    "### (e) $a = 0, b = \\text{floor}(M/2)$\n",
    "$[0, \\sqrt{M}]$ の非自明な因数$k$を見つけることは、$[\\sqrt{M}, M/2]$の中の$M/k$と見つけることと等価である。したがってこの問題は(d)と等価であり、多項式時間で解けるかわかっていない。\n",
    "### (f) $a = \\text{floor}(M/2), b=M$\n",
    "$\\text{floor}(M/2)$以外の非自明因数は存在しえないので、$2$による除算を調べればよく、多項式時間で解ける\n"
   ],
   "cell_type": "markdown",
   "metadata": {}
  },
  {
   "source": [
    "### 11.13\n",
    "#### 超多項式時間\n",
    "汎化将棋（面白い例を思いついたら書き換えます）\n",
    "#### 多項式時間\n",
    "$n$人のじゃんけんにおいて、あるプレイヤーが勝利しているかを判定する問題を考える。$n$人の手を見ることで判定できるため、多項式時間で解ける。"
   ],
   "cell_type": "markdown",
   "metadata": {}
  }
 ]
}