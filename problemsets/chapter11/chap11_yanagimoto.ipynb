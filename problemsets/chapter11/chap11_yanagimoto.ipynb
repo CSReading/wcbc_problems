{
 "metadata": {
  "language_info": {
   "codemirror_mode": {
    "name": "ipython",
    "version": 3
   },
   "file_extension": ".py",
   "mimetype": "text/x-python",
   "name": "python",
   "nbconvert_exporter": "python",
   "pygments_lexer": "ipython3",
   "version": 3
  },
  "orig_nbformat": 2
 },
 "nbformat": 4,
 "nbformat_minor": 2,
 "cells": [
  {
   "source": [
    "## 11.3\n",
    "(a) $_{10} C_3 = 120$ <br>\n",
    "(b) $2^{10} = 1024$"
   ],
   "cell_type": "markdown",
   "metadata": {}
  },
  {
   "source": [
    "## 11.8\n",
    "FactorInRange 問題は端点を含む$[a, b]$の範囲内に含まれる一つの非自明因数を求める問題である。そのため、(b), (c), (f)は明らかに$M$が因数であることから、定数時間で解ける。\n",
    "### (a) $a = 0$\n",
    "多項式時間で解けると仮定すると、任意の$a, b$に対して、FactorInRange(\"M 0 a\")とFactorInRange(\"M 0 b\")が多項式時間で解ける。これらの結果を合わせると、FactorInRange問題が多項式時間で解けることとなり、矛盾する。\n",
    "### (d) $a = 0, b = \\text{floor}(\\sqrt{M})$\n",
    "Factor 問題と自明に等しいので、超多項式時間を必要とする。\n",
    "### (e) $a = 0, b = \\text{floor}(M/2)$\n",
    "$[0, \\sqrt{M}]$ の非自明な因数$k$を見つけることは、$[\\sqrt{M}, M/2]$の中の$M/k$と見つけることと等価である。したがってこの問題は(d)と等価であり、超多項式時間を必要とする。"
   ],
   "cell_type": "markdown",
   "metadata": {}
  },
  {
   "source": [
    "### 11.13\n",
    "#### 超多項式時間\n",
    "汎化将棋（面白い例を思いついたら書き換えます）\n",
    "#### 多項式時間\n",
    "$n$人のじゃんけんに置いてあるプレイヤーが勝利しているかを判定する問題を考える。$n$人の手を見ることで判定できるため、多項式時間で解ける。"
   ],
   "cell_type": "markdown",
   "metadata": {}
  },
  {
   "cell_type": "code",
   "execution_count": null,
   "metadata": {},
   "outputs": [],
   "source": []
  }
 ]
}