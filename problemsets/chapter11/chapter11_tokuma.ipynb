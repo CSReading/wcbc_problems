{
 "metadata": {
  "language_info": {
   "codemirror_mode": {
    "name": "ipython",
    "version": 3
   },
   "file_extension": ".py",
   "mimetype": "text/x-python",
   "name": "python",
   "nbconvert_exporter": "python",
   "pygments_lexer": "ipython3",
   "version": "3.9.2"
  },
  "orig_nbformat": 2,
  "kernelspec": {
   "name": "python392jvsc74a57bd098b0a9b7b4eaaa670588a142fd0a9b87eaafe866f1db4228be72b4211d12040f",
   "display_name": "Python 3.9.2 64-bit ('conda': virtualenv)",
   "language": "python"
  }
 },
 "nbformat": 4,
 "nbformat_minor": 2,
 "cells": [
  {
   "source": [
    "## 11.1 対数多項式関数\n",
    "\n",
    "\n",
    "対数多項式関数: $p$を何らかの多項式として，$p(\\log n)$という形式になる関数\n",
    "- $6(\\log n)^3 + 3 \\log n+7$ は対数多項式関数\n",
    "\n",
    "`PolyLogTime`: 多重対数時間のプログラムで溶ける計算問題の集合\n",
    "\n",
    "\n"
   ],
   "cell_type": "markdown",
   "metadata": {}
  },
  {
   "source": [
    "(a) `PolyLogTime`はクラス`Poly`の部分集合か？\n",
    "\n",
    "A. 部分集合である。\n",
    "\n",
    "\n",
    "任意のプログラム$q \\in$ `PolyLogTime`をとる。　このプログラムの計算時間は$p(\\log n)$の定数倍である。今$p$は多項式なので、もっとも次数の高いものを$(\\log n)^{l}$とする。\n",
    "\n",
    "このときこの関数は多項式に支配されるので、$q \\in $ `Poly`. したがって、`PolyLogTime`は部分集合である。"
   ],
   "cell_type": "markdown",
   "metadata": {}
  },
  {
   "source": [
    "(b) `PolyLogTime`はクラス`Poly`の**真**部分集合か？\n",
    "\n",
    "A. 真部分集合である。\n",
    "\n",
    "ALL3SETS問題は`Poly`クラスに属する。この問題の実行時間の下界が多項式であることを示す。\n",
    "\n",
    "要素が3個の部分集合は$nC3 = \\frac{n(n-1)(n-2)}{6}$個存在する。したがってこの問題の実行時間の下界も多項式である。\n",
    "\n",
    "\n",
    "よってALL3SETS$\\not\\in$`PolyLogTime`であり、`PolyLogTime`は`Poly`の真部分集合である。"
   ],
   "cell_type": "markdown",
   "metadata": {}
  },
  {
   "source": [
    "## 11.6 ALLPERMUTATIONS\n",
    "\n",
    "入力 I は ASCII 文字列で，解は I の文字のすべての順列を改行文字で区切ったものである\n",
    "\n",
    "\n",
    "(a), (b) \n",
    "\n",
    "ALLPERMUTATIONS問題を解くPythonプログラムをかけ"
   ],
   "cell_type": "markdown",
   "metadata": {}
  },
  {
   "cell_type": "code",
   "execution_count": 1,
   "metadata": {},
   "outputs": [],
   "source": [
    "import itertools"
   ]
  },
  {
   "cell_type": "code",
   "execution_count": 4,
   "metadata": {},
   "outputs": [],
   "source": [
    "def all_permutations(inString):\n",
    "    # instringの順列イテレータを作成しその要素を結合してリスト作成\n",
    "    text_list = map(''.join, itertools.permutations(inString))\n",
    "    \n",
    "    # setにしてかぶりを取り除き、リストに直す\n",
    "    text_list = list(set(text_list))\n",
    "\n",
    "    return '\\n'.join(text_list)"
   ]
  },
  {
   "cell_type": "code",
   "execution_count": 6,
   "metadata": {},
   "outputs": [
    {
     "output_type": "stream",
     "name": "stdout",
     "text": [
      "CASE: cat\natc\nact\ntca\ncta\ncat\ntac\n\n\nCASE: bee\nbee\nebe\neeb\n\n\nCASE: abcd\ncdba\nadcb\nbadc\ndbac\ncadb\ncbad\nabcd\nbdac\nbcda\ncdab\ncbda\nbcad\nabdc\ndcab\ndacb\nacdb\nbacd\ndabc\nbdca\nacbd\nadbc\ndcba\ncabd\ndbca\n\n\nCASE: eee\neee\n\n\n"
     ]
    }
   ],
   "source": [
    "test_cases = ['cat', 'bee', 'abcd', 'eee']\n",
    "\n",
    "for test in test_cases:\n",
    "    print(f'CASE: {test}')\n",
    "    print(all_permutations(test))\n",
    "    print('\\n')\n",
    "\n"
   ]
  },
  {
   "source": [
    "(c) 実行時間の合理的な推計を示せ\n",
    "\n",
    "文字列に対して順列を計算するにはn!通りの組み合わせを考える必要がある。\n",
    "\n",
    "10章の抜粋10.1より各組み合わせから文字列を作成する計算量は$O(n)$である。\n",
    "\n",
    "したがって、3行目の時間計算量は$O(n×n!)$である。\n",
    "\n",
    "list, setの作成は組み合わせに対して実施しているので$O(n!)$で可能である。したがって、このプログラムの最終的な時間計算量は$O(n \\times n!)$\n"
   ],
   "cell_type": "markdown",
   "metadata": {}
  },
  {
   "source": [
    "(d) \n",
    "\n",
    "\n",
    "`Expo`の定義は計算時間が$O(2^{p(n)})$の\n",
    "Pythonプログラムで溶ける問題の集合である。$p(n)$は何らかの多項式である。\n",
    "\n",
    "\n",
    "前述の通りこの問題の合理的な計算時間推計は$O(n \\times n!)$であるが、$n \\times n!$は$2^{n^2}$に支配される。\n",
    "\n",
    "したがって`Expo`の定義より`ALLPERMUTATION`は`Expo`クラスに属する。\n",
    "\n"
   ],
   "cell_type": "markdown",
   "metadata": {}
  },
  {
   "source": [
    "(e)\n",
    "\n",
    "`Poly`の定義は実行時間は$O(n^k)$のpythonプログラムで解ける問題の集合である。\n",
    "\n",
    "最悪の場合重複を含む順列を含む並べ方はnの階乗/ ((n/128)!)^{128}であり、これは多項式ではないと思われる。\n",
    "\n",
    "したがって`ALLPERMUTATION`は`Poly`クラスには属さない。\n",
    "\n",
    "\n"
   ],
   "cell_type": "markdown",
   "metadata": {}
  },
  {
   "cell_type": "code",
   "execution_count": null,
   "metadata": {},
   "outputs": [],
   "source": []
  },
  {
   "source": [
    "## 11.11\n",
    "$p$ を何らかの多項式として，時間計算量が $O(2^{p(\\log n)})$のプログラムで解けるすべての問 題の集合を計算量クラス QuasiPoly と定義する.クラス QuasiPoly に属するが，クラス Poly に属さない判定問題の例を挙げ，その主張の証明の概略を示せ.\n",
    "\n",
    "\n",
    "QuasiPolyのステップ数だけ、チューリングマシンを動かす\n",
    "チューリングマシン動かした回数は明らかにquasi polyでpolyではないので、判定問題に属さない"
   ],
   "cell_type": "markdown",
   "metadata": {}
  },
  {
   "source": [
    "def haltExQuasi():\n",
    "\n",
    "    for i in range(2 ** math.log(len(inString)**2))^2:\n",
    "        sim.step()\n",
    "    \n",
    "    if sim.halted:\n",
    "        return 'yes'\n",
    "\n",
    "return 'no'\n",
    "        "
   ],
   "cell_type": "markdown",
   "metadata": {}
  },
  {
   "cell_type": "code",
   "execution_count": null,
   "metadata": {},
   "outputs": [],
   "source": []
  }
 ]
}