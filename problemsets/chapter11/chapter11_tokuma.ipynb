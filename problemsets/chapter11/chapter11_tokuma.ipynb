{
 "metadata": {
  "language_info": {
   "codemirror_mode": {
    "name": "ipython",
    "version": 3
   },
   "file_extension": ".py",
   "mimetype": "text/x-python",
   "name": "python",
   "nbconvert_exporter": "python",
   "pygments_lexer": "ipython3",
   "version": "3.8.8"
  },
  "orig_nbformat": 2,
  "kernelspec": {
   "name": "python388jvsc74a57bd098b0a9b7b4eaaa670588a142fd0a9b87eaafe866f1db4228be72b4211d12040f",
   "display_name": "Python 3.8.8 64-bit ('base': conda)",
   "language": "python"
  }
 },
 "nbformat": 4,
 "nbformat_minor": 2,
 "cells": [
  {
   "source": [
    "## 11.1 対数多項式関数\n",
    "\n",
    "\n",
    "対数多項式関数: $p$を何らかの多項式として，$p(\\log n)$という形式になる関数\n",
    "- $6(\\log n)^3 + 3 \\log n+7$ は対数多項式関数\n",
    "\n",
    "`PolyLogTime`: 多重対数時間のプログラムで溶ける計算問題の集合\n",
    "\n",
    "\n"
   ],
   "cell_type": "markdown",
   "metadata": {}
  },
  {
   "source": [
    "(a) `PolyLogTime`はクラス`Poly`の部分集合か？\n",
    "\n",
    "A. 部分集合である。\n",
    "\n",
    "\n",
    "任意のプログラム$q \\in$ `PolyLogTime`をとる。　このプログラムの計算時間は$p(\\log n)$の定数倍である。今$p$は多項式なので、もっとも次数の高いものを$(\\log n)^{l}$とする。\n",
    "\n",
    "このときこの関数は多項式に支配されるので、$q \\in $ `Poly`. したがって、`PolyLogTime`は部分集合である。"
   ],
   "cell_type": "markdown",
   "metadata": {}
  },
  {
   "source": [
    "(b) `PolyLogTime`はクラス`Poly`の**真**部分集合か？\n",
    "\n",
    "A. 真部分集合である。\n",
    "\n",
    "ALL3SETS問題は`Poly`クラスに属する。この問題の実行時間の下界が多項式であることを示す。\n",
    "\n",
    "要素が3個の部分集合は$nC3 = \\frac{n(n-1)(n-2)}{6}$個存在する。したがってこの問題の実行時間の下界も多項式である。\n",
    "\n",
    "\n",
    "よってALL3SETS$\\not\\in$`PolyLogTime`であり、`PolyLogTime`は`Poly`の真部分集合である。"
   ],
   "cell_type": "markdown",
   "metadata": {}
  },
  {
   "source": [
    "## 11.6 ALLPERMUTATIONS\n",
    "\n",
    "入力 I は ASCII 文字列で，解は I の文字のすべての順列を改行文字で区切ったものである\n",
    "\n",
    "\n",
    "(a), (b) \n",
    "\n",
    "ALLPERMUTATIONS問題を解くPythonプログラムをかけ"
   ],
   "cell_type": "markdown",
   "metadata": {}
  },
  {
   "cell_type": "code",
   "execution_count": 1,
   "metadata": {},
   "outputs": [],
   "source": [
    "import itertools"
   ]
  },
  {
   "cell_type": "code",
   "execution_count": 2,
   "metadata": {},
   "outputs": [],
   "source": [
    "def all_permutations(inString):\n",
    "    # instringの順列イテレータを作成しその要素を結合してリスト作成\n",
    "    text_list = map(''.join, itertools.permutations(inString))\n",
    "    \n",
    "    # setにしてかぶりを取り除き、リストに直す\n",
    "    text_list = list(set(text_list))\n",
    "\n",
    "    return '\\n'.join(text_list)"
   ]
  },
  {
   "cell_type": "code",
   "execution_count": 3,
   "metadata": {},
   "outputs": [
    {
     "output_type": "stream",
     "name": "stdout",
     "text": [
      "CASE: cat\ntac\nact\ncat\natc\ncta\ntca\n\n\nCASE: bee\nbee\neeb\nebe\n\n\nCASE: abcd\nbacd\ncbda\ndabc\nadcb\nbadc\ndacb\ncadb\ncdab\nabcd\nadbc\ncabd\nabdc\nbdac\ndcba\nbdca\nbcda\nbcad\ncdba\ndcab\nacbd\nacdb\ncbad\ndbca\ndbac\n\n\n"
     ]
    }
   ],
   "source": [
    "test_cases = ['cat', 'bee', 'abcd']\n",
    "\n",
    "for test in test_cases:\n",
    "    print(f'CASE: {test}')\n",
    "    print(all_permutations(test))\n",
    "    print('\\n')\n",
    "\n"
   ]
  },
  {
   "source": [
    "(c) 実行時間の合理的な推計を示せ\n",
    "\n",
    "文字列に対して順列を計算するにはn!通りの組み合わせを考える必要がある。\n",
    "\n",
    "10章の抜粋10.1より各組み合わせから文字列を作成する計算量は$O(n)$である。\n",
    "\n",
    "したがって、3行目の時間計算量は$O(n×n!)$である。\n",
    "\n",
    "list, setの作成は$O(n)$で可能であるから、このプログラムの最終的な時間計算量は$O(n \\times n!)$\n"
   ],
   "cell_type": "markdown",
   "metadata": {}
  },
  {
   "source": [
    "(d) \n",
    "\n",
    "\n",
    "`Expo`の定義は計算時間が$O(2^{p(n)})$の\n",
    "Pythonプログラムで溶ける問題の集合である。$p(n)$は何らかの多項式である。\n",
    "\n",
    "\n",
    "前述の通りこの問題の合理的な計算時間推計は$O(n \\times n!)$であるが、$n \\times n!$は$2^{n^2}$に支配される。\n",
    "\n",
    "したがって`Expo`の定義より`ALLPERMUTATION`は`Expo`クラスに属する。\n",
    "\n"
   ],
   "cell_type": "markdown",
   "metadata": {}
  },
  {
   "source": [
    "(e)\n",
    "\n",
    "`Poly`の定義は実行時間は$O(n^k)$のpythonプログラムで解ける問題の集合である。\n",
    "\n",
    "しかし10章より$n^k$は$n!$に支配される。したがって`ALLPERMUTATION`は`Poly`クラスには属さない。\n"
   ],
   "cell_type": "markdown",
   "metadata": {}
  },
  {
   "cell_type": "code",
   "execution_count": null,
   "metadata": {},
   "outputs": [],
   "source": []
  },
  {
   "source": [
    "## 11.11\n",
    "$p$ を何らかの多項式として，時間計算量が $O(2^{p(\\log n)})$のプログラムで解けるすべての問 題の集合を計算量クラス QuasiPoly と定義する.クラス QuasiPoly に属するが，クラス Poly に属 さない判定問題の例を挙げ，その主張の証明の概略を示せ."
   ],
   "cell_type": "markdown",
   "metadata": {}
  },
  {
   "source": [
    "明確なものを作れず…"
   ],
   "cell_type": "markdown",
   "metadata": {}
  },
  {
   "cell_type": "code",
   "execution_count": null,
   "metadata": {},
   "outputs": [],
   "source": []
  }
 ]
}