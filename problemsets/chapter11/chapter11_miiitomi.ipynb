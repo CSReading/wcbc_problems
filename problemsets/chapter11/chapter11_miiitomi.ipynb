{
 "metadata": {
  "language_info": {
   "codemirror_mode": {
    "name": "ipython",
    "version": 3
   },
   "file_extension": ".py",
   "mimetype": "text/x-python",
   "name": "python",
   "nbconvert_exporter": "python",
   "pygments_lexer": "ipython3",
   "version": 3
  },
  "orig_nbformat": 2
 },
 "nbformat": 4,
 "nbformat_minor": 2,
 "cells": [
  {
   "source": [
    "## 11.2\n",
    "### 問.\n",
    "$p, q$ を何らかの多項式として，$O(p(n)q(\\log n))$ という時間計算量のプログラムで解ける計算問題の集合を, $\\text{PolyPolyLog}$ (多項式対数多項式)計算クラスと定義する.   \n",
    "クラス $\\text{Poly}$ と $\\text{PolyPolyLog}$ は同じ計算量クラスであることを証明せよ.\n",
    "\n",
    "### 答.\n",
    "$(\\text{Poly} \\subset \\text{PolyPolyLog})$:\n",
    "- $\\text{Poly}$ に属す計算問題を任意に1つとり, これを $F$ とする.\n",
    "- $\\text{Poly}$ の定義より, ある非負整数 $k$ が存在して, $F$ はなんらかのPythonプログラムによって実行時間 $O(n^k)$ で解ける.\n",
    "- $p, q$ を $p(x) = x^k, \\ q(x) = 1$ なる多項式とすると, $F$ はなんらかのPythonプログラムによって実行時間 $O(n^k) = O(p(n)q(\\log n))$ で解ける.\n",
    "- したがって, $F \\in \\text{PolyPolyLog}$.\n",
    "\n",
    "$(\\text{PolyPolyLog} \\subset \\text{Poly})$:\n",
    "- $\\text{PolyPolyLog}$ に属す計算問題を任意に1つとり, これを $F$ とする.\n",
    "- $\\text{PolyPolyLog}$ の定義より, 多項式 $p, q$ が存在して, $F$ はなんらかのPythonプログラムによって実行時間 $O(p(n)q(\\log n))$ で解ける.\n",
    "- $p, q$ を, $p(x) = a_k x^k + a_{k-1} x^{k-1} + ... + a_1 x + a_0$, $q(x) = b_\\ell x^\\ell + b_{\\ell-1} x^{\\ell - 1} + ... + b_1 x + b_0$ として表す($k, \\ell \\in \\mathbb{Z}_{\\ge 0}, \\ a_k,...a_0,b_\\ell,...,b_0 \\in \\mathbb{R}$).\n",
    "- $p(n) q(\\log n)$ の支配項は $n^k (\\log n)^\\ell$ となり, これは $n^{k+1}$ に支配される.\n",
    "- よって $F$ は $O(n^{k + 1})$ で解けるので, $F \\in \\text{Poly}$."
   ],
   "cell_type": "markdown",
   "metadata": {}
  },
  {
   "source": [
    "## 11.7\n",
    "### 問.\n",
    "次の問題のそれぞれについて，その問題がクラス $\\text{Poly}, \\ \\text{Expo}$ に属すかどうかについて現在わかっていることを説明せよ.\n",
    "\n",
    "(例) $\\text{Factor}$ 問題:\n",
    " - $\\text{Expo}$ には属す.\n",
    " - クラス $\\text{Poly}$ には属さないと広く考えられているが，それは証明されてはいない.\n",
    "\n",
    "### 答.\n",
    "(a) $\\text{FactorInRange}$ 問題\n",
    " - $\\text{Expo}$ には属す.\n",
    " - クラス $\\text{Poly}$ には属さないと広く考えられているが，それは証明されてはいない.\n",
    "\n",
    "(b) $\\text{IsComposite}$ 問題\n",
    " - $\\text{Poly}$, $\\text{Expo}$ に属す.\n",
    "\n",
    "\n",
    "(c) $\\text{FactorUnderOneMillion}$ 問題   \n",
    " - $\\text{Poly}$, $\\text{Expo}$ に属す.\n",
    " - インプット $M$ (桁数 $n$) に対し, $100$万未満の数で$1$回割る操作は $O(n)$.\n",
    " - これを $2$ から $100$万$-1$ まで繰り返せばよいので $O(n)$ で解けるはず.\n",
    "\n",
    "(d) $\\text{FactorLessThan1Percent}$ 問題\n",
    " - $\\text{Expo}$ には属す.\n",
    " - 愚直に $2$ から $0.01 * M \\ (\\approx 0.01 * 10^n)$ 試していく方法だと指数時間かかる.\n",
    " - $\\text{Factor}, \\text{FactorInRange}$ と同様に $\\text{Poly}$ かどうかはわかっていなさそう.\n",
    "\n",
    "(e) $\\text{HaltsInCubicTime}$ 問題 \n",
    " - $\\text{Poly}, \\ \\text{Expo}$ に属す.\n",
    " - p.251の `haltExTrung.py` でシミュレート回数を $n^3$ とすれば多項式時間で解ける.\n",
    "\n",
    "(f) $\\text{HaltsIn10ToNTime}$ 問題 \n",
    " - $\\text{Expo}$ に属す. \n",
    " - p.251の `haltExTrung.py` でシミュレート回数を $10^n$ とすれば指数時間で解ける.  \n",
    " - $\\text{HaltsInExpTime}$ 問題と同様の議論により $\\text{Poly}$ には属さない.\n",
    "\n",
    "(g) $\\text{Power}$ 問題\n",
    " - $\\text{Poly}$ には属さない. $\\text{Expo}$ には属す.\n",
    " - $M_1, M_2$ の桁数を $n_1, n_2$ とし, $n = n_1 + n_2$ とする.\n",
    " - 解の桁数は $\\log_{10} M_1^{M_2} = M_2 \\log_{10} M_1 \\approx 10^{n_2} \\log_{10} 10^{n_1} = 10^{n_2} n_1$ となり多項式時間では解けない. $\\therefore \\text{Power} \\notin \\text{Poly}$.\n",
    " - $M_1$ を $M_2$ 回かける操作をすると, 繰り返し回数は $M_2 \\approx 10^{n_2} \\le 10^n$.\n",
    " - 計算する数の桁数は高々 $\\log_{10} M_1^{M_2} \\le 10^{n_2} n_1 \\le n 10^n$なので, 一回の掛け算の計算量は高々 $O(n^2 10^{2n})$.\n",
    " - したがって, $O(n^2 10^{2n + 1})$ で解けるので $\\text{Power} \\in \\text{Expo}$."
   ],
   "cell_type": "markdown",
   "metadata": {}
  },
  {
   "source": [
    "## 11.12\n",
    "### 問.\n",
    "クラス $\\text{Expo}$ に属さない決定可能な判定問題の例を示せ.   \n",
    "その例がクラス $\\text{Expo}$ に属さない理由を説明せよ. 厳密に証明する必要はない.\n",
    "\n",
    "### 答.\n",
    " - $\\text{HaltsInDoubleExpTime}$:\n",
    "    - 入力：プログラム $P$ と文字列 $I$.\n",
    "    - 解：$P$ に $I$ を与えたとき, 停止するまでの計算ステップ数が $2^{2^n}$ よりも少なければ\"yes\", そうでなければ\"no\".\n",
    "- p.251の `haltExTuring.py` でシミュレート回数を $2^{2^n}$ とすれば解けるので決定可能.\n",
    "- $\\text{HaltsInExpTime}$ 問題の議論において, 「多項式時間」/「指数時間」/「$2^n$」 のところをそれぞれ 「指数時間」/「二重指数時間」/「$2^{2^n}$」 で置き換えて `weirdH.py` を作れば同じようにして矛盾が導けるため, これは $\\text{Expo}$　に属さない."
   ],
   "cell_type": "markdown",
   "metadata": {}
  }
 ]
}