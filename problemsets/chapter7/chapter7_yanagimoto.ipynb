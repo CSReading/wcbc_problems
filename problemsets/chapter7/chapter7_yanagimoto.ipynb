{
 "metadata": {
  "language_info": {
   "codemirror_mode": {
    "name": "ipython",
    "version": 3
   },
   "file_extension": ".py",
   "mimetype": "text/x-python",
   "name": "python",
   "nbconvert_exporter": "python",
   "pygments_lexer": "ipython3",
   "version": 3
  },
  "orig_nbformat": 2
 },
 "nbformat": 4,
 "nbformat_minor": 2,
 "cells": [
  {
   "source": [
    "## 7.3\n",
    "- **計算可能**: $F_1, F_2, F_3$\n",
    "- **計算不能**: $F_5, \\dots, F_10$\n",
    "- **わからない**: $F_4$\n",
    "### 証明\n",
    "- 主張7.2(a)と$F_3$が計算可能より、$F_2$が計算可能。同様に、$F_1$も計算可能\n",
    "- 主張7.2(b)と$F_5$が計算不能より、$F_6$が計算不能。以下同様に、$F_7, \\dots, F_{10}$も計算不能\n",
    "- $F_4$が計算可能である時、$F_3$が計算可能であり$F_5$が計算不能であることと、主張7.2は矛盾しない\n",
    "- $F_4$が計算不能である時、$F_3$が計算可能であり$F_5$が計算不能であることと、主張7.2は矛盾しない"
   ],
   "cell_type": "markdown",
   "metadata": {}
  },
  {
   "source": [
    "## 7.8\n",
    "ASCII文字列をASCII文字列に写像する関数の中で、不動文字列をもつ関数の集合を$S$とする。\n",
    "この時、$\\text{HasFixedString}$問題は$\\text{ComputesOneOf}_S$問題である。\n",
    "Sは少なくとも一つの計算可能関数（例えば、全ての入力$I$に対し、$I$を出力する関数）を含み、\n",
    "少なくとも1つの計算可能関数（例えば、全ての入力$I$に対し、終端に文字列':)'を加える関数）を含まない。\n",
    "ゆえに、ライスの定理から、HasFixedString問題は決定不能である。"
   ],
   "cell_type": "markdown",
   "metadata": {}
  },
  {
   "source": [
    "## 7.13\n",
    "(a) 入力文字列の長さの5倍を計算する問題 <br>\n",
    "(b) IsEven問題"
   ],
   "cell_type": "markdown",
   "metadata": {}
  },
  {
   "source": [
    "## 7.18\n",
    "### (a) 負のインスタンス\n",
    "どのようなタイル並べ方に対しても、任意の位置の、上の文字と下の文字の組み合わせは、四種類のタイルのうちの一つである。\n",
    "この四種類のタイルは上下の文字が一致するものがないため、どのような並べ方に対しても上の文字列と下の文字列は一致しない。\n",
    "\n",
    "### (b) 負のインスタンス\n",
    "上の文字列の文字数と下の文字列の文字数は一致することが必要条件であるが、それを満たすことができない。\n",
    "\n",
    "### (c)　正のインスタンス\n",
    "| C   | GAT | CG  | C   | G   | \n",
    "| :-: | :-: | :-: | :-: | :-: | \n",
    "| CG  | A   | T   | CG  | CG  | \n"
   ],
   "cell_type": "markdown",
   "metadata": {}
  }
 ]
}