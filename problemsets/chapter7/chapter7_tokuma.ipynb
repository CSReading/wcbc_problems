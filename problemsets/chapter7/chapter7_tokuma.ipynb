{
 "metadata": {
  "language_info": {
   "codemirror_mode": {
    "name": "ipython",
    "version": 3
   },
   "file_extension": ".py",
   "mimetype": "text/x-python",
   "name": "python",
   "nbconvert_exporter": "python",
   "pygments_lexer": "ipython3",
   "version": "3.8.6-final"
  },
  "orig_nbformat": 2,
  "kernelspec": {
   "name": "python3",
   "display_name": "Python 3.8.6 64-bit ('conda': virtualenv)",
   "metadata": {
    "interpreter": {
     "hash": "98b0a9b7b4eaaa670588a142fd0a9b87eaafe866f1db4228be72b4211d12040f"
    }
   }
  }
 },
 "nbformat": 4,
 "nbformat_minor": 2,
 "cells": [
  {
   "cell_type": "code",
   "execution_count": 5,
   "metadata": {},
   "outputs": [],
   "source": [
    "from isOdd import isOdd\n",
    "from lastDigitIsEven import lastDigitIsEven"
   ]
  },
  {
   "source": [
    "## 7.1 \n",
    "\n",
    "`LastDigitIsEven`を`IsOdd`に還元する。"
   ],
   "cell_type": "markdown",
   "metadata": {}
  },
  {
   "cell_type": "code",
   "execution_count": 6,
   "metadata": {},
   "outputs": [],
   "source": [
    "def lastDigitIsEvenViaReduction(inString):\n",
    "\n",
    "    inStringPlusOne = str(int(inString) + 1)\n",
    "\n",
    "    return isOdd(inStringPlusOne)"
   ]
  },
  {
   "cell_type": "code",
   "execution_count": 11,
   "metadata": {},
   "outputs": [
    {
     "output_type": "stream",
     "name": "stdout",
     "text": [
      "0 is Even?: yes\n1 is Even?: no\n2 is Even?: yes\n3 is Even?: no\n4 is Even?: yes\n5 is Even?: no\n6 is Even?: yes\n7 is Even?: no\n8 is Even?: yes\n9 is Even?: no\n10 is Even?: yes\n"
     ]
    }
   ],
   "source": [
    "for i in range(11):\n",
    "    print(f'{i} is Even?: {lastDigitIsEvenViaReduction(i)}')"
   ]
  },
  {
   "source": [
    "## 7.6  \n",
    "\n",
    "\n",
    "`INTONALLINTS`\n",
    "\n",
    "- 入力: 単一文字列$P$\n",
    "\n",
    "$I$が非負整数なら$P(I)$が必ず非負整数になる場合に\"yes\"を返す。\n",
    "\n",
    "\n",
    "`INTONALLINTS`が決定不能であることを証明せよ。\n"
   ],
   "cell_type": "markdown",
   "metadata": {}
  },
  {
   "source": [
    "## 解答 1. 還元レシピ & pythonプログラムによる還元\n",
    "\n",
    "`YESONSTRING`から`INTONALLINTS`への還元を考える。\n",
    "\n",
    "\n"
   ],
   "cell_type": "markdown",
   "metadata": {}
  },
  {
   "source": [
    "```\n",
    "from INTONALLINTS import INTONALLINTS\n",
    "\n",
    "def yesViaINT(progString, intString):\n",
    "\n",
    "    utils.writeFile('progString.txt', progString)\n",
    "    utisl.writeFile('inString.txt' inString)\n",
    "\n",
    "    return INTONALLINTS(rf('ignoreInput.py'))\n",
    "```\n"
   ],
   "cell_type": "markdown",
   "metadata": {}
  },
  {
   "source": [
    "## 3. ライスの定理の適用"
   ],
   "cell_type": "markdown",
   "metadata": {}
  },
  {
   "cell_type": "code",
   "execution_count": null,
   "metadata": {},
   "outputs": [],
   "source": []
  }
 ]
}