{
 "metadata": {
  "language_info": {
   "codemirror_mode": {
    "name": "ipython",
    "version": 3
   },
   "file_extension": ".py",
   "mimetype": "text/x-python",
   "name": "python",
   "nbconvert_exporter": "python",
   "pygments_lexer": "ipython3",
   "version": "3.8.6-final"
  },
  "orig_nbformat": 2,
  "kernelspec": {
   "name": "python3",
   "display_name": "Python 3.8.6 64-bit ('conda': virtualenv)",
   "metadata": {
    "interpreter": {
     "hash": "98b0a9b7b4eaaa670588a142fd0a9b87eaafe866f1db4228be72b4211d12040f"
    }
   }
  }
 },
 "nbformat": 4,
 "nbformat_minor": 2,
 "cells": [
  {
   "cell_type": "code",
   "execution_count": 5,
   "metadata": {},
   "outputs": [],
   "source": [
    "from isOdd import isOdd\n",
    "from lastDigitIsEven import lastDigitIsEven"
   ]
  },
  {
   "source": [
    "## 7.1 \n",
    "\n",
    "`LastDigitIsEven`を`IsOdd`に還元する。"
   ],
   "cell_type": "markdown",
   "metadata": {}
  },
  {
   "cell_type": "code",
   "execution_count": 6,
   "metadata": {},
   "outputs": [],
   "source": [
    "def lastDigitIsEvenViaReduction(inString):\n",
    "\n",
    "    inStringPlusOne = str(int(inString) + 1)\n",
    "\n",
    "    return isOdd(inStringPlusOne)"
   ]
  },
  {
   "cell_type": "code",
   "execution_count": 11,
   "metadata": {},
   "outputs": [
    {
     "output_type": "stream",
     "name": "stdout",
     "text": [
      "0 is Even?: yes\n1 is Even?: no\n2 is Even?: yes\n3 is Even?: no\n4 is Even?: yes\n5 is Even?: no\n6 is Even?: yes\n7 is Even?: no\n8 is Even?: yes\n9 is Even?: no\n10 is Even?: yes\n"
     ]
    }
   ],
   "source": [
    "for i in range(11):\n",
    "    print(f'{i} is Even?: {lastDigitIsEvenViaReduction(i)}')"
   ]
  },
  {
   "source": [
    "## 7.6  \n",
    "\n",
    "\n",
    "`INTONALLINTS`\n",
    "\n",
    "- 入力: 単一文字列$P$\n",
    "\n",
    "$I$が非負整数なら$P(I)$が必ず非負整数になる場合に\"yes\"を返す。\n",
    "\n",
    "\n",
    "`INTONALLINTS`が決定不能であることを証明せよ。\n"
   ],
   "cell_type": "markdown",
   "metadata": {}
  },
  {
   "source": [
    "## 解答 1. 還元レシピ & pythonプログラムによる還元\n",
    "\n",
    "`YESONSTRING`から`INTONALLINTS`への還元を考える。\n",
    "\n",
    "\n"
   ],
   "cell_type": "markdown",
   "metadata": {}
  },
  {
   "source": [
    "```\n",
    "from INTONALLINTS import INTONALLINTS\n",
    "\n",
    "def yesViaINT(progString, intString):\n",
    "\n",
    "    utils.writeFile('progString.txt', progString)\n",
    "    utisl.writeFile('inString.txt' inString)\n",
    "\n",
    "    return INTONALLINTS(rf('ignoreInput.py'))\n",
    "```\n"
   ],
   "cell_type": "markdown",
   "metadata": {}
  },
  {
   "source": [
    "## 3. ライスの定理の適用\n",
    "\n",
    "\n",
    "決定問題を考える\n",
    "`ALLINTS`\n",
    "\n",
    "- 入力: 単一文字列$I$\n",
    "\n",
    "$I$が非負整数なら非負整数を返す。そうでなければ、`no`を返す。\n",
    "\n",
    "`INTONALLINTS`は$\\text{COMPUTES}_{\\text{ALLINTS}}$と同じ構造である。\n",
    "\n",
    "したがって、`INTONALLINTS`は計算不能である。\n",
    "\n",
    "\n",
    "\n"
   ],
   "cell_type": "markdown",
   "metadata": {}
  },
  {
   "source": [
    "## 7.11\n",
    "\n",
    "### 問題\n",
    "`alterYesToNumChars.py`の12行目で戻り値が`xx`となっているが、この部分は他の値でも問題ない。\n",
    "\n",
    "戻り値として他に何が使えるか、以下のケースを検討せよ。\n",
    "\n",
    "- `a`\n",
    "- `aa`\n",
    "- `aaa`\n",
    "- `aaaa`\n",
    "\n",
    "\n",
    "### 解答\n",
    "\n",
    "`aaa`かそれ以外で考える。\n",
    "\n",
    "- `aaa`のとき\n",
    "\n",
    "`alterYesToNumChars`の戻り値の長さはどのような場合においても3となる。\n",
    "したがって、`yesViaNumChars`が`P(I)`が定義されていて`yes`なら`yes`を返す。\n",
    "そうでなければ`no`を返すという要件の後者を満たさなくなる。\n",
    "\n",
    "よって、このケースは不適。\n",
    "\n",
    "- それ以外のとき\n",
    "\n",
    "P(I)が`yes`を返さないときの、戻り値の長さが3以外なので、`yesViaNumChars`は問題なく`yesOnString`と同じ挙動をする。\n",
    "\n"
   ],
   "cell_type": "markdown",
   "metadata": {}
  },
  {
   "source": [
    "## 7.16\n",
    "\n",
    "以下の判定問題を考える。\n",
    "\n",
    "`TMTENSTEPSONALL`\n",
    "\n",
    "- 入力: チューリングマシン`M`のASCII記述\n",
    "- 出力\n",
    "    - `yes`: `M`がすべての入力に対して10ステップ以上を実行するとき\n",
    "    - `no`: そうでないとき\n",
    "\n",
    "\n",
    "この決定問題が決定可能か説明せよ。\n",
    "\n",
    "\n",
    "## 解答\n",
    "\n",
    "\n",
    "決定可能。\n",
    "`HALTSBEFORE100`と同様の構造になっている。\n",
    "\n",
    "アルファベットの要素数をKとする。\n",
    "\n",
    "入力`I`は無限個存在する。\n",
    "\n",
    "しかしチューリングマシンのヘッドはたかだか1セルしか動かず、最初の10ステップでは10セルまでを考えるだけで良い。\n",
    "\n",
    "そのため、問題として考えるのは$K^{10}$の範囲で十分。\n",
    "\n",
    "\n",
    "この組み合わせに対してシミュレートし、チューリングマシンが停止しないかどうか判定することができる。"
   ],
   "cell_type": "markdown",
   "metadata": {}
  },
  {
   "cell_type": "code",
   "execution_count": null,
   "metadata": {},
   "outputs": [],
   "source": []
  }
 ]
}