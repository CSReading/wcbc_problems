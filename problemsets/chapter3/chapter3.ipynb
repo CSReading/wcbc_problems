{
 "metadata": {
  "language_info": {
   "codemirror_mode": {
    "name": "ipython",
    "version": 3
   },
   "file_extension": ".py",
   "mimetype": "text/x-python",
   "name": "python",
   "nbconvert_exporter": "python",
   "pygments_lexer": "ipython3",
   "version": "3.8.6-final"
  },
  "orig_nbformat": 2,
  "kernelspec": {
   "name": "python3",
   "display_name": "Python 3",
   "language": "python"
  }
 },
 "nbformat": 4,
 "nbformat_minor": 2,
 "cells": [
  {
   "cell_type": "code",
   "execution_count": 11,
   "metadata": {},
   "outputs": [],
   "source": [
    "from utils import rf\n",
    "dir_proj = '/home/jovyan/work'\n",
    "dir_prog = f'{dir_proj}/programs'\n",
    "dir_ch3 = f'{dir_proj}/problemsets/chapter3'"
   ]
  },
  {
   "cell_type": "code",
   "execution_count": 36,
   "metadata": {},
   "outputs": [],
   "source": [
    "#ソースコードそのものを参照するため\n",
    "pys = ['longerThan1K.py', 'maybeLoop.py', 'containsGAGA.py', 'yes.py']\n",
    "for py in pys:\n",
    "    os.symlink(f'{dir_prog}/{py}', f'{dir_ch3}/tmp_link')\n",
    "    os.rename(f'{dir_ch3}/tmp_link', f'{dir_ch3}/{py}')"
   ]
  },
  {
   "source": [
    "## 3.1\n",
    "Skip"
   ],
   "cell_type": "markdown",
   "metadata": {}
  },
  {
   "source": [
    "## 3.2\n",
    "### (a)"
   ],
   "cell_type": "markdown",
   "metadata": {}
  },
  {
   "cell_type": "code",
   "execution_count": 1,
   "metadata": {},
   "outputs": [
    {
     "output_type": "stream",
     "name": "stdout",
     "text": [
      "Writing countChars.py\n"
     ]
    }
   ],
   "source": [
    "%%writefile countChars.py\n",
    "def countChars(inString):\n",
    "    return len(inString)"
   ]
  },
  {
   "cell_type": "code",
   "execution_count": 20,
   "metadata": {},
   "outputs": [
    {
     "output_type": "execute_result",
     "data": {
      "text/plain": [
       "5"
      ]
     },
     "metadata": {},
     "execution_count": 20
    }
   ],
   "source": [
    "from countChars import *\n",
    "countChars('CATTG')"
   ]
  },
  {
   "source": [
    "### (b)"
   ],
   "cell_type": "markdown",
   "metadata": {}
  },
  {
   "cell_type": "code",
   "execution_count": 4,
   "metadata": {},
   "outputs": [
    {
     "output_type": "execute_result",
     "data": {
      "text/plain": [
       "50"
      ]
     },
     "metadata": {},
     "execution_count": 4
    }
   ],
   "source": [
    "countChars(rf('countChars.py'))"
   ]
  },
  {
   "source": [
    "### (c)"
   ],
   "cell_type": "markdown",
   "metadata": {}
  },
  {
   "cell_type": "code",
   "execution_count": 38,
   "metadata": {},
   "outputs": [],
   "source": [
    "text = rf('countChars.py') + ' '\n",
    "with open('countCharsB.py', 'w') as f:\n",
    "    f.write(text)"
   ]
  },
  {
   "cell_type": "code",
   "execution_count": 39,
   "metadata": {},
   "outputs": [
    {
     "output_type": "execute_result",
     "data": {
      "text/plain": [
       "51"
      ]
     },
     "metadata": {},
     "execution_count": 39
    }
   ],
   "source": [
    "import countCharsB\n",
    "countCharsB.countChars(rf('countCharsB.py'))"
   ]
  },
  {
   "source": [
    "### (d)\n",
    "プログラムが等価とは全ての同じ入力に対し同じ出力を返すことであり、\n",
    "```countChars('countChars.py')``` と  ```countCharsB('countChars.py')``` または、```countChars('countCharsB.py')``` と ```countCharsB('countCharsB.py')``` の結果が等しいことを導く。\n",
    "しかし、入力が異なる```countChars('countChars.py')``` と　```countCharsB('countCharsB.py')```の結果が同じであることは意味しない。"
   ],
   "cell_type": "markdown",
   "metadata": {}
  },
  {
   "source": [
    "## 3.3"
   ],
   "cell_type": "markdown",
   "metadata": {}
  },
  {
   "cell_type": "code",
   "execution_count": 7,
   "metadata": {},
   "outputs": [
    {
     "output_type": "stream",
     "name": "stdout",
     "text": [
      "Overwriting containsGA_GA.py\n"
     ]
    }
   ],
   "source": [
    "%%writefile containsGA_GA.py\n",
    "def containsGA_GA(inString):\n",
    "    if 'GAG' in inString:\n",
    "        idx = inString.find('GAG')\n",
    "        if inString[idx+3] == 'A':\n",
    "            return 'yes'\n",
    "        else:\n",
    "            return 'no'\n",
    "    else:\n",
    "        return 'no'"
   ]
  },
  {
   "cell_type": "code",
   "execution_count": 19,
   "metadata": {},
   "outputs": [
    {
     "output_type": "stream",
     "name": "stdout",
     "text": [
      "no\nno\n"
     ]
    }
   ],
   "source": [
    "from containsGAGA import *\n",
    "from containsGA_GA import *\n",
    "print(containsGA_GA(rf('containsGA_GA.py')))\n",
    "print(containsGAGA(rf('containsGA_GA.py')))"
   ]
  },
  {
   "source": [
    "## 3.4"
   ],
   "cell_type": "markdown",
   "metadata": {}
  },
  {
   "cell_type": "code",
   "execution_count": 18,
   "metadata": {},
   "outputs": [
    {
     "output_type": "stream",
     "name": "stdout",
     "text": [
      "(a) no\n(b) no\n(c) no\n(d) no\n"
     ]
    }
   ],
   "source": [
    "from yesOnStringApprox import *\n",
    "from yesOnSelfApprox import *\n",
    "from notYesOnSelfApprox import *\n",
    "\n",
    "print('(a) ' + yesOnStringApprox(rf('longerThan1K.py'), rf('longerThan1K.py')))\n",
    "print('(b) ' + yesOnStringApprox(rf('maybeLoop.py'), rf('maybeLoop.py')))\n",
    "print('(c) ' + yesOnSelfApprox(rf('longerThan1K.py')))\n",
    "print('(d) ' + notYesOnSelfApprox(rf('containsGAGA.py')))"
   ]
  },
  {
   "source": [
    "## 3.5"
   ],
   "cell_type": "markdown",
   "metadata": {}
  },
  {
   "cell_type": "code",
   "execution_count": 21,
   "metadata": {},
   "outputs": [
    {
     "output_type": "stream",
     "name": "stdout",
     "text": [
      "Writing noOnStringApprox.py\n"
     ]
    }
   ],
   "source": [
    "%%writefile noOnStringApprox.py\n",
    "import utils; from utils import rf\n",
    "from containsGAGA import *\n",
    "from longerThan1K import *\n",
    "from maybeLoop import *\n",
    "from yes import *\n",
    "def noOnStringApprox(progString, inString):   \n",
    "    if progString == rf('containsGAGA.py'):\n",
    "        return 'yes' if containsGAGA(inString) == 'no' else 'no'\n",
    "    elif progString == rf('longerThan1K.py'):\n",
    "        return 'yes' if longerThan1K(inString) == 'no' else 'no'\n",
    "    elif progString == rf('yes.py'):\n",
    "        return 'yes' if yes(inString) == 'no' else 'no'\n",
    "    elif progString == rf('maybeLoop.py'):\n",
    "        if not 'secret sauce' in inString: \n",
    "            return 'no'\n",
    "        else:\n",
    "            return 'yes' if maybeLoop(inString) == 'no' else 'no'\n",
    "    else:\n",
    "        return 'unknown' "
   ]
  },
  {
   "cell_type": "code",
   "execution_count": 23,
   "metadata": {},
   "outputs": [
    {
     "output_type": "execute_result",
     "data": {
      "text/plain": [
       "'yes'"
      ]
     },
     "metadata": {},
     "execution_count": 23
    }
   ],
   "source": [
    "from noOnStringApprox import *\n",
    "noOnStringApprox(rf('longerThan1K.py'), rf('longerThan1K.py'))"
   ]
  },
  {
   "cell_type": "code",
   "execution_count": 24,
   "metadata": {},
   "outputs": [
    {
     "output_type": "execute_result",
     "data": {
      "text/plain": [
       "'yes'"
      ]
     },
     "metadata": {},
     "execution_count": 24
    }
   ],
   "source": [
    "noOnStringApprox(rf('maybeLoop.py'), rf('maybeLoop.py'))"
   ]
  },
  {
   "source": [
    "## 3.6"
   ],
   "cell_type": "markdown",
   "metadata": {}
  },
  {
   "cell_type": "code",
   "execution_count": 25,
   "metadata": {},
   "outputs": [
    {
     "output_type": "stream",
     "name": "stdout",
     "text": [
      "Writing noOnSelfApprox.py\n"
     ]
    }
   ],
   "source": [
    "%%writefile noOnSelfApprox.py\n",
    "import utils; from utils import rf\n",
    "from noOnStringApprox import noOnStringApprox \n",
    "def noOnSelfApprox(progString):   \n",
    "    return noOnStringApprox(progString, progString) \n"
   ]
  },
  {
   "source": [
    "## 3.7\n",
    "### (a)\n",
    "- 内側のnoOnSelf(noOnSelf) = 'yes' のとき、外側は'no'を返す。矛盾。\n",
    "- 内側が'no'のとき、外側は'yes'を返す。矛盾。\n",
    "- 内側が未定義の時、外側は'no'を返す。矛盾。\n",
    "### (b)\n",
    "- yesOnSelf(yesOnSelf) = 'no' のとき、出力は'yes'\n",
    "- それ以外のとき、出力は'no'\n",
    "### (c)\n",
    "- noOnSelf(noOnself) = 'yes' のとき、出力は'yes'\n",
    "- それ以外の時、出力は'no'"
   ],
   "cell_type": "markdown",
   "metadata": {}
  },
  {
   "source": [
    "## 3.8\n",
    "両方、elseになるような入力で挙動が違う。例えば、文字列'not a program'.\n",
    "- notYesOnSelf('not a program') = 'yes'\n",
    "- noOnSelf('not a program') = 'no'"
   ],
   "cell_type": "markdown",
   "metadata": {}
  },
  {
   "source": [
    "## 3.9\n",
    "Skip"
   ],
   "cell_type": "markdown",
   "metadata": {}
  },
  {
   "source": [
    "## 3.10\n",
    "notDefinedOnSelf(P): P(P)が定義されていれば未定義、そうでなければ'yes'\n",
    "\n",
    "notDefinedOnSelf(notDefinedOnSelf)を考える。\n",
    "- 内側のnotDefinedOnSelf(notDefinedOnSelf)='yes'なら、定義されているので外側は未定義。矛盾。\n",
    "- 内側が未定義なら、定義されていないので'yes'。矛盾。"
   ],
   "cell_type": "markdown",
   "metadata": {}
  },
  {
   "source": [
    "## 3.11\n",
    "notlongerThan10(P): P(P)が10文字以上なら'hoge'、それ以外なら'hogehogehoge'\n",
    "\n",
    "notlongerThan10(notlongerThan10)を考える。\n",
    "- 内側のnotlongerThan10(notlongerThan10)が'hoge'なら外側は'hogehogehoge'。矛盾。\n",
    "- 内側が'hogehogehoge'なら外側は'hoge'。矛盾。\n",
    "\n",
    "\n"
   ],
   "cell_type": "markdown",
   "metadata": {}
  },
  {
   "source": [
    "## 3.12\n",
    "Skip"
   ],
   "cell_type": "markdown",
   "metadata": {}
  },
  {
   "source": [
    "## 3.13\n",
    "englishOnString(P, I): P(I)が英語なら'yes'。そうでなければ'no'を返す。\n",
    "\n",
    "**証明**<br>\n",
    "notEnglishOnSelf(P): P(P)が英語なら'いいえ'。そうでなければ、'yes'を返す。\n",
    "- 内側のnotEnglishOnSelf(notEnglishOnSelf)が'yes'なら、外側は'いいえ'。矛盾\n",
    "- 内側が'いいえ'なら、外側は'yes'。矛盾"
   ],
   "cell_type": "markdown",
   "metadata": {}
  },
  {
   "source": [
    "## 3.14\n",
    "wierdCountLines.pyが入力の行数を数えるプログラムであることが示されていないので、矛盾は起きていない。"
   ],
   "cell_type": "markdown",
   "metadata": {}
  },
  {
   "source": [
    "## 3.15\n",
    "任意のプログラムの全てのバグを発見するプログラムは存在しないが、ある特定の(Best Game Ever)プログラムの全てのバグを発見するプログラムが存在しないことは証明されていない。"
   ],
   "cell_type": "markdown",
   "metadata": {}
  }
 ]
}