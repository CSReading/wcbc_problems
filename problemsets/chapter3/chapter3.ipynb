{
 "metadata": {
  "language_info": {
   "codemirror_mode": {
    "name": "ipython",
    "version": 3
   },
   "file_extension": ".py",
   "mimetype": "text/x-python",
   "name": "python",
   "nbconvert_exporter": "python",
   "pygments_lexer": "ipython3",
   "version": "3.8.6-final"
  },
  "orig_nbformat": 2,
  "kernelspec": {
   "name": "python3",
   "display_name": "Python 3",
   "language": "python"
  }
 },
 "nbformat": 4,
 "nbformat_minor": 2,
 "cells": [
  {
   "cell_type": "code",
   "execution_count": 1,
   "metadata": {},
   "outputs": [],
   "source": [
    "from utils import rf\n",
    "from containsGAGA import containsGAGA\n"
   ]
  },
  {
   "source": [
    "## 3.1\n",
    "Skip"
   ],
   "cell_type": "markdown",
   "metadata": {}
  },
  {
   "source": [
    "## 3.2\n",
    "### (a)"
   ],
   "cell_type": "markdown",
   "metadata": {}
  },
  {
   "cell_type": "code",
   "execution_count": 28,
   "metadata": {},
   "outputs": [
    {
     "output_type": "stream",
     "name": "stdout",
     "text": [
      "Overwriting countChars.py\n"
     ]
    }
   ],
   "source": [
    "%%writefile countChars.py\n",
    "def countChars(inString):\n",
    "    return len(inString)"
   ]
  },
  {
   "cell_type": "code",
   "execution_count": 2,
   "metadata": {},
   "outputs": [
    {
     "output_type": "execute_result",
     "data": {
      "text/plain": [
       "5"
      ]
     },
     "metadata": {},
     "execution_count": 2
    }
   ],
   "source": [
    "from countChars import countChars\n",
    "countChars('CATTG')"
   ]
  },
  {
   "source": [
    "### (b)"
   ],
   "cell_type": "markdown",
   "metadata": {}
  },
  {
   "cell_type": "code",
   "execution_count": 3,
   "metadata": {},
   "outputs": [
    {
     "output_type": "execute_result",
     "data": {
      "text/plain": [
       "50"
      ]
     },
     "metadata": {},
     "execution_count": 3
    }
   ],
   "source": [
    "countChars(rf('countChars.py'))"
   ]
  },
  {
   "source": [
    "### (c)"
   ],
   "cell_type": "markdown",
   "metadata": {}
  },
  {
   "cell_type": "code",
   "execution_count": 4,
   "metadata": {},
   "outputs": [],
   "source": [
    "text = rf('countChars.py') + '  '\n",
    "with open('countCharsB.py', 'w') as f:\n",
    "    print(text, file=f)"
   ]
  },
  {
   "cell_type": "code",
   "execution_count": 5,
   "metadata": {},
   "outputs": [
    {
     "output_type": "execute_result",
     "data": {
      "text/plain": [
       "53"
      ]
     },
     "metadata": {},
     "execution_count": 5
    }
   ],
   "source": [
    "import countCharsB\n",
    "countCharsB.countChars(rf('countCharsB.py'))"
   ]
  },
  {
   "source": [
    "### (d)\n",
    "?"
   ],
   "cell_type": "markdown",
   "metadata": {}
  },
  {
   "source": [
    "## 3.3"
   ],
   "cell_type": "markdown",
   "metadata": {}
  },
  {
   "cell_type": "code",
   "execution_count": 6,
   "metadata": {},
   "outputs": [
    {
     "output_type": "stream",
     "name": "stdout",
     "text": [
      "Overwriting containsGA_GA.py\n"
     ]
    }
   ],
   "source": [
    "%%writefile containsGA_GA.py\n",
    "def containsGA_GA(inString):\n",
    "    if 'GAG' in inString:\n",
    "        idx = inString.find('GAG')\n",
    "        if inString[idx+3] == 'A':\n",
    "            return 'yes'\n",
    "        else:\n",
    "            return 'no'\n",
    "    else:\n",
    "        return 'no'"
   ]
  },
  {
   "cell_type": "code",
   "execution_count": 7,
   "metadata": {},
   "outputs": [
    {
     "output_type": "stream",
     "name": "stdout",
     "text": [
      "no\nno\n"
     ]
    }
   ],
   "source": [
    "from containsGA_GA import containsGA_GA\n",
    "print(containsGA_GA(rf('containsGA_GA.py')))\n",
    "print(containsGAGA(rf('containsGA_GA.py')))"
   ]
  },
  {
   "source": [
    "## 3.5"
   ],
   "cell_type": "markdown",
   "metadata": {}
  },
  {
   "cell_type": "code",
   "execution_count": 8,
   "metadata": {},
   "outputs": [
    {
     "output_type": "error",
     "ename": "NameError",
     "evalue": "name 'dir_mod' is not defined",
     "traceback": [
      "\u001b[0;31m---------------------------------------------------------------------------\u001b[0m",
      "\u001b[0;31mNameError\u001b[0m                                 Traceback (most recent call last)",
      "\u001b[0;32m<ipython-input-8-fe3c5f7cb9a3>\u001b[0m in \u001b[0;36m<module>\u001b[0;34m\u001b[0m\n\u001b[0;32m----> 1\u001b[0;31m \u001b[0mos\u001b[0m\u001b[0;34m.\u001b[0m\u001b[0mchdir\u001b[0m\u001b[0;34m(\u001b[0m\u001b[0mdir_mod\u001b[0m\u001b[0;34m)\u001b[0m\u001b[0;34m\u001b[0m\u001b[0;34m\u001b[0m\u001b[0m\n\u001b[0m\u001b[1;32m      2\u001b[0m \u001b[0;32mfrom\u001b[0m \u001b[0myesOnStringApprox\u001b[0m \u001b[0;32mimport\u001b[0m \u001b[0myesOnStringApprox\u001b[0m\u001b[0;34m\u001b[0m\u001b[0;34m\u001b[0m\u001b[0m\n\u001b[1;32m      3\u001b[0m \u001b[0;32mfrom\u001b[0m \u001b[0myesOnSelfApprox\u001b[0m \u001b[0;32mimport\u001b[0m \u001b[0myesOnSelfApprox\u001b[0m\u001b[0;34m\u001b[0m\u001b[0;34m\u001b[0m\u001b[0m\n\u001b[1;32m      4\u001b[0m \u001b[0mprint\u001b[0m\u001b[0;34m(\u001b[0m\u001b[0;34m'(a) '\u001b[0m \u001b[0;34m+\u001b[0m \u001b[0myesOnStringApprox\u001b[0m\u001b[0;34m(\u001b[0m\u001b[0mrf\u001b[0m\u001b[0;34m(\u001b[0m\u001b[0;34m'longerThan1K.py'\u001b[0m\u001b[0;34m)\u001b[0m\u001b[0;34m,\u001b[0m \u001b[0mrf\u001b[0m\u001b[0;34m(\u001b[0m\u001b[0;34m'longerThan1K.py'\u001b[0m\u001b[0;34m)\u001b[0m\u001b[0;34m)\u001b[0m\u001b[0;34m)\u001b[0m\u001b[0;34m\u001b[0m\u001b[0;34m\u001b[0m\u001b[0m\n\u001b[1;32m      5\u001b[0m \u001b[0mprint\u001b[0m\u001b[0;34m(\u001b[0m\u001b[0;34m'(b) '\u001b[0m \u001b[0;34m+\u001b[0m \u001b[0myesOnStringApprox\u001b[0m\u001b[0;34m(\u001b[0m\u001b[0mrf\u001b[0m\u001b[0;34m(\u001b[0m\u001b[0;34m'maybeLoop.py'\u001b[0m\u001b[0;34m)\u001b[0m\u001b[0;34m,\u001b[0m \u001b[0mrf\u001b[0m\u001b[0;34m(\u001b[0m\u001b[0;34m'maybeLoop.py'\u001b[0m\u001b[0;34m)\u001b[0m\u001b[0;34m)\u001b[0m\u001b[0;34m)\u001b[0m\u001b[0;34m\u001b[0m\u001b[0;34m\u001b[0m\u001b[0m\n",
      "\u001b[0;31mNameError\u001b[0m: name 'dir_mod' is not defined"
     ]
    }
   ],
   "source": [
    "from yesOnStringApprox import yesOnStringApprox\n",
    "from yesOnSelfApprox import yesOnSelfApprox\n",
    "print('(a) ' + yesOnStringApprox(rf('longerThan1K.py'), rf('longerThan1K.py')))\n",
    "print('(b) ' + yesOnStringApprox(rf('maybeLoop.py'), rf('maybeLoop.py')))\n",
    "print('(c) ' + yesOnSelfApprox(rf('longerThan1K.py')))\n",
    "print('(d) ' + yesOnSelfApprox(rf('containsGAGA.py')))"
   ]
  },
  {
   "source": [
    "## 3.6-3.9\n",
    "?"
   ],
   "cell_type": "markdown",
   "metadata": {}
  },
  {
   "source": [
    "## 3.8\n",
    "両方、elseになるような入力で挙動が違う。例えば、文字列'not a program'."
   ],
   "cell_type": "markdown",
   "metadata": {}
  },
  {
   "source": [
    "## 3.10\n",
    "?"
   ],
   "cell_type": "markdown",
   "metadata": {}
  },
  {
   "source": [
    "## 3.11\n",
    "?\n",
    "\n",
    "\n"
   ],
   "cell_type": "markdown",
   "metadata": {}
  },
  {
   "source": [
    "## 3.14\n",
    "wierdCountLines.pyが入力の行数を数えるプログラムであることが示されていないので、矛盾は起きていない。"
   ],
   "cell_type": "markdown",
   "metadata": {}
  },
  {
   "source": [
    "## 3.15\n",
    "Best Game Everはコンピュータープログラムではないから、証明されていない？"
   ],
   "cell_type": "markdown",
   "metadata": {}
  },
  {
   "cell_type": "code",
   "execution_count": null,
   "metadata": {},
   "outputs": [],
   "source": []
  }
 ]
}