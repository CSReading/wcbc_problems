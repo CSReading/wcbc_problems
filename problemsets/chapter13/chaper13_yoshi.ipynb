{
 "metadata": {
  "language_info": {
   "codemirror_mode": {
    "name": "ipython",
    "version": 3
   },
   "file_extension": ".py",
   "mimetype": "text/x-python",
   "name": "python",
   "nbconvert_exporter": "python",
   "pygments_lexer": "ipython3",
   "version": 3
  },
  "orig_nbformat": 2
 },
 "nbformat": 4,
 "nbformat_minor": 2,
 "cells": [
  {
   "source": [
    "### 13.1\n",
    "#### $A \\leq_{p} B$から言えることは\n",
    "- (b) $B \\in Poly$ なら，$A \\in Poly$\n",
    "- (d)A が指数時間を必要とするなら，B も指数時間を必要とする."
   ],
   "cell_type": "markdown",
   "metadata": {}
  },
  {
   "source": [
    "### 13.6\n"
   ],
   "cell_type": "markdown",
   "metadata": {}
  },
  {
   "cell_type": "code",
   "execution_count": null,
   "metadata": {},
   "outputs": [],
   "source": [
    "def convertUHCtoDHC(inString):\n",
    "    # G is the original instance\n",
    "    G = Graph(inString, weighted = False, directed = False)\n",
    "    # newG is the converted instance -- create an empty graph using empty string\n",
    "    newG = Graph('', weighted = False, directed = True)\n",
    "    # add all nodes of G to newG\n",
    "    for node in G:\n",
    "        newG.addNode(node)\n",
    "\n",
    "    undirectedEdges = G.getEdgesAsSet()\n",
    "    # special case: single edge gets converted to single edge\n",
    "    if len(undirectedEdges)==1:\n",
    "        # extract the one and only edge using a for loop\n",
    "        for theEdge in undirectedEdges:\n",
    "            newG.addEdge(theEdge)\n",
    "            return str(newG)\n",
    "\n",
    "    # add all original edges and their reverse to the new graph\n",
    "    for edge in undirectedEdges:\n",
    "        # New edge is the reverse of the old one.\n",
    "        newEdge = Edge( [edge[1], edge[0]] )\n",
    "        # Add original and reversed edge to the new graph\n",
    "        newG.addEdge(edge)\n",
    "        newG.addEdge(newEdge)\n",
    "\n",
    "    return str(newG)\n"
   ]
  },
  {
   "cell_type": "code",
   "execution_count": null,
   "metadata": {},
   "outputs": [],
   "source": []
  },
  {
   "source": [
    "### 13.11\n",
    "#### (x1 OR x2 OR NOT x3)AND(NOT x2 OR NOT x3) AND (x1 OR x3) AND (NOT x1 OR NOT x2) AND (NOT x1 OR x2) は負インスタンス\n",
    "\n",
    "- (NOT x1 OR NOT x2) AND (NOT x1 OR x2)より x1は0\n",
    "- (x1 OR x3)よりx3は1\n",
    "- (x1 OR x2 OR NOT x3)AND(NOT x2 OR NOT x3) よりx2がどんな値でも充足不可能"
   ],
   "cell_type": "markdown",
   "metadata": {}
  },
  {
   "source": [
    "### 13.16\n",
    "#### MixedHC 問題から Dhc に対応する判定問題への多項式時間還元を明示的に示し，その方法が多項式時間還元になっていることを証明せよ.\n",
    "\n",
    "- 接点が3以上あるMixedHCのグラフをGとする.\n",
    "- Gの無向辺を両方向への有向辺へと変換したグラフをG’とする\n",
    "\n",
    "(1) Gがハミルトン閉路をもつ時G'もハミルトン閉路をもつ.\n",
    "- Gのハミルトン閉路Pの辺は必ずG’にも存在し, 必ず全ての節点を通過する.よってG’もハミルトン閉路をもつ\n",
    "\n",
    "(2) G'がハミルトン閉路をもつならならGもハミルトン閉路をもつ\n",
    "- G'にハミルトン閉路があった場合, その辺は元Gにも存在し必ず全ての節点を通過する.よってGもハミルトン閉路をもつ\n"
   ],
   "cell_type": "markdown",
   "metadata": {}
  },
  {
   "cell_type": "code",
   "execution_count": null,
   "metadata": {},
   "outputs": [],
   "source": []
  },
  {
   "cell_type": "code",
   "execution_count": null,
   "metadata": {},
   "outputs": [],
   "source": []
  }
 ]
}