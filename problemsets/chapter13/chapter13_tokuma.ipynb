{
 "metadata": {
  "language_info": {
   "codemirror_mode": {
    "name": "ipython",
    "version": 3
   },
   "file_extension": ".py",
   "mimetype": "text/x-python",
   "name": "python",
   "nbconvert_exporter": "python",
   "pygments_lexer": "ipython3",
   "version": "3.9.2"
  },
  "orig_nbformat": 2,
  "kernelspec": {
   "name": "python392jvsc74a57bd098b0a9b7b4eaaa670588a142fd0a9b87eaafe866f1db4228be72b4211d12040f",
   "display_name": "Python 3.9.2 64-bit ('base': conda)"
  }
 },
 "nbformat": 4,
 "nbformat_minor": 2,
 "cells": [
  {
   "source": [
    "## 13.3 \n",
    "\n",
    "`SUBSETSUM`から`PACKING`への多項式時間還元があることを証明せよ\n",
    "\n",
    "\n",
    "### 解答\n",
    "\n",
    "`SUBSETSUM`問題のインスタンスに含まれるしきい値$H$を利用して\n",
    "問題インスタンスに変数$L=H$を追加するアルゴリズム$C$を考える。\n",
    "\n",
    "- 明らかにこの作業は$O(n)$で出来る。\n",
    "\n",
    "$H=L$とした場合、明らかに`SUBSETSUM`問題と`PACKING`問題は同値の問題となる。\n",
    "\n",
    "`SUBSETSUM`問題のインスタンスを$I$とする.\n",
    "\n",
    "- `SUBSETSUM`問題の正インスタンスは$C$によって`PACKING`問題の正インスタンスに写像される\n",
    "- $C(I)$が`PACKING`問題の正インスタンスなら,$I$は`SUBSETSUM`問題の正インスタンスである\n",
    "\n",
    "\n",
    "したがって`SUBSETSUM`問題は`PACKING`問題に多項式時間還元される。"
   ],
   "cell_type": "markdown",
   "metadata": {}
  },
  {
   "source": [
    "## 13.7 \n",
    "\n",
    "「戻らなくてよいセールスパーソン問題」(SSP)を定義せよ.この問題は，TSP(246 ページ，抜 粋 11.3)と同じであるが，同じ都市を始点，終点にしなくてもよい.つまり，SSP 問題は，最短 のハミルトン閉路ではなく，最短のハミルトン路を求める問題である.\n",
    "\n",
    "\n",
    "`SSPD`問題は，264 ページの `TSPD`問題と同じような方法で定義\n",
    "- 入力に新しくしきい値$L$を追加し，長さが高々$L$のハミルトン路があれば`yes`を返す.\n",
    "\n",
    "`SSPD`問題から`TSPD`問題への多項式時間還元が存在することを証明\n",
    "\n"
   ],
   "cell_type": "markdown",
   "metadata": {}
  },
  {
   "source": [
    "### SSP問題\n",
    "\n",
    "- 入力:重み付きの無向グラフG.\n",
    "    - 例:図11.2のグラフは，“a,b,3 a,c,5 a,d,6 b,c,1 b,d,2 c,d,9” と表すことができる.\n",
    "\n",
    "- 解:G の最短のハミルトン路のいずれか.ハミルトン路がなければ “no”.\n",
    "    - 辺を重複せずにすべてのノードを一回ずつ通る路のこと"
   ],
   "cell_type": "markdown",
   "metadata": {}
  },
  {
   "source": [
    "### 還元\n",
    "\n",
    "\n",
    "$G$を`SSPD`問題の任意の重み付きグラフとする。\n",
    "\n",
    "\n",
    "\n",
    "アルゴリズム$C$は$G$の任意のノード$n$に対してコスト$0$の辺で結びつくノード$n^{\\prime}$を用意する。\n",
    "\n",
    "\n",
    "\n",
    "以下の3つを示す。\n",
    "\n",
    "- $G$が`SSPD`の正インスタンスならば、$C(G)$は`TSPD`の正インスタンス\n",
    "\n",
    "グラフ$C(G)$において、$n^{\\prime} \\rightarrow$グラフ$G$のハミルトン路　$\\rightarrow n^{\\prime}$というハミルトン閉路が存在し、コストも変わらない。　\n",
    "\n",
    "したがって$C(G)$は`TSPD`の正インスタンス。\n",
    "\n",
    "- $C(G)$は`TSPD`の正インタンスならば、$G$が`SSPD`の正インスタンス\n",
    "\n",
    "$n^{\\prime}$を始点,終点とするコスト$L$以下のハミルトン閉路が存在する。\n",
    "\n",
    "この時,ハミルトン閉路で2番目に通るノードを始点, 最後から2番目に通るノード($n^{\\prime}$の1つ手前)を終点とするコスト$L$以下の経路が存在し、$G$においてはハミルトン路となる。　したがって変換前の$G$は`SSPD`の正インスタンスである。\n",
    "\n",
    "- $C$は多項式時間で動作する\n",
    "\n",
    "$n^{\\prime}$を追加した場合、辺の数はもともとのノードの数だけ増える。\n",
    "\n",
    "この操作については入力文字列を1度走査し、たかだか定数倍の範囲の文字を追加すればよいので、$O(n)$で実施できる。\n",
    "\n",
    "したがって、`SSPD`問題は`TSPD`問題に還元される。"
   ],
   "cell_type": "markdown",
   "metadata": {}
  },
  {
   "source": [
    "## 13.8"
   ],
   "cell_type": "markdown",
   "metadata": {}
  },
  {
   "cell_type": "code",
   "execution_count": 53,
   "metadata": {},
   "outputs": [],
   "source": [
    "from graph import Graph\n",
    "from tsp import tsp"
   ]
  },
  {
   "cell_type": "code",
   "execution_count": 45,
   "metadata": {},
   "outputs": [],
   "source": [
    "def define_new_edges(g, special_node ='n', cost = '0'):\n",
    "    # 既存グラフの全ノードと特殊ノードを結びつけるコスト0の辺を返す\n",
    "    edge_list = []\n",
    "    for node in g.getNodesAsSet():\n",
    "        edge_list.append(','.join([special_node, node, cost]))\n",
    "\n",
    "    new_edges = ' '.join(edge_list)\n",
    "\n",
    "    return new_edges"
   ]
  },
  {
   "cell_type": "code",
   "execution_count": 46,
   "metadata": {},
   "outputs": [],
   "source": [
    "def convert_TSPD(inString):\n",
    "\n",
    "    # グラフ要素としきい値を取り出す \n",
    "    graph, L = inString.split(' ; ')\n",
    "\n",
    "    # Graphインスタンスに \n",
    "    g = Graph(graph, weighted=True, directed=False)\n",
    "    \n",
    "    # 新しいノードに対しての辺を用意する \n",
    "    new_edges = define_new_edges(g)\n",
    "\n",
    "    # グラフを拡張 O(n)\n",
    "    graph_extended = ' '.join([graph, new_edges])\n",
    "\n",
    "    # しきい値と結びつける O(n)\n",
    "    return ' ; '.join([graph_extended, L])"
   ]
  },
  {
   "cell_type": "code",
   "execution_count": 13,
   "metadata": {},
   "outputs": [],
   "source": [
    "# 四角形のようなグラフ\n",
    "inString = 'a,b,5 a,c,9 b,d,1 d,c,6 ; 300'"
   ]
  },
  {
   "cell_type": "code",
   "execution_count": 54,
   "metadata": {},
   "outputs": [
    {
     "output_type": "stream",
     "name": "stdout",
     "text": [
      "a,b,5 a,c,9 b,d,1 d,c,6 n,c,0 n,a,0 n,b,0 n,d,0 ; 300\n"
     ]
    }
   ],
   "source": [
    "new_inString = convert_TSPD(inString)\n",
    "print(new_inString)"
   ]
  },
  {
   "cell_type": "code",
   "execution_count": 55,
   "metadata": {},
   "outputs": [
    {
     "output_type": "execute_result",
     "data": {
      "text/plain": [
       "'a,b,d,c,n'"
      ]
     },
     "metadata": {},
     "execution_count": 55
    }
   ],
   "source": [
    "# TSP問題として解けることを確認する。\n",
    "tsp(new_inString.split(' ; ')[0])"
   ]
  },
  {
   "source": [
    "## 13.18\n",
    "\n",
    "CNF形式で書かれたブール式$B$を入力とし$B$が充足可能なときはもちろん, $B$の節のうち$1$つ以外のものを同時に充足させられるときも`yes`を返し，それ以外のときは`no`を返す判定問題 `NEARLYSAT` について考える\n",
    "\n",
    "`NEARLYSAT` $\\equiv_{P}$ `SAT` を証明せよ."
   ],
   "cell_type": "markdown",
   "metadata": {}
  },
  {
   "source": [
    "ブール式の節を$f_i$とする。"
   ],
   "cell_type": "markdown",
   "metadata": {}
  },
  {
   "source": [
    "## `SAT` $\\le_{P}$ `NEARLYSAT`\n",
    "\n",
    "\n",
    "任意の入力文字列$B = f_1 \\wedge f_2 \\wedge \\cdots \\wedge f_n $に対し、ダミー変数$d$を用いて\n",
    "$B^{\\prime} = f_1 \\wedge f_2 \\wedge \\cdots \\wedge f_n \\wedge d \\wedge \\neg d$を作るようなアルゴリズム$C$を考える。\n",
    "\n",
    "- $B$が`SAT`の正インスタンスの場合, $B^{\\prime}$も`NEARLYSAT`の正インスタンスである。\n",
    "\n",
    "    この時$B$は`SAT`の正インスタンスなので$f_1 = f_2 = \\cdots = f_n =1$である。\n",
    "\n",
    "    2つの場合を考える。\n",
    "    - $d=1$の場合\n",
    "    この時　$d=1$, $\\neg d=0$となるので、$B^{\\prime}$は`NEARLYSAT`の正インスタンスとなる条件を満たす。\n",
    "    - $d=0$の場合\n",
    "    この時　$d=0$, $\\neg d=1$となるので、$B^{\\prime}$は`NEARLYSAT`の正インスタンスとなる条件を満たす。\n",
    "    \n",
    "- $B$が`SAT`の負インスタンスの場合, $B^{\\prime}$も`NEARLYSAT`の負インスタンスである。\n",
    "    \n",
    "    $B$が`SAT`の負インスタンスの場合、節の少なくとも1つについて$f_i=0$となる。先程と同様に$d$または$\\neg d$のいずれかは$0$となることから、\n",
    "    $B^{\\prime}$は`NEARLYSAT`の負インスタンスとなる。\n",
    "\n",
    "- アルゴリズム$C$は多項式時間で動作する。\n",
    "    アルゴリズムは$B$に対して $\\wedge d \\wedge \\neg d$を意味する文字列を追加するだけである。この操作は$O(n)$で可能。\n",
    "\n",
    "\n",
    "したがって、`SAT`は`NEARLYSAT`に多項式時間還元される。\n"
   ],
   "cell_type": "markdown",
   "metadata": {}
  },
  {
   "source": [
    "## `NEARLYSAT` $\\le_p$ `SAT`\n",
    "\n",
    "任意の入力文字列$B = f_1 \\wedge f_2 \\wedge \\cdots \\wedge f_n $に対し、\n",
    "$B^{\\prime} = (f_1 \\lor f_2) \\wedge (f_1 \\lor f_3) \\wedge \\cdots \\wedge (f_{n-1} \\lor f_n)$を作るようなアルゴリズム$C$を考える。\n",
    "\n",
    "- $B$が`NEARLYSAT`の正インスタンスの場合, $B^{\\prime}$も`SAT`の正インスタンスである。\n",
    "\n",
    "    この時$B$は`NEARLYSAT`の正インスタンスなので0となる節は多くとも1個である。\n",
    "\n",
    "    - 0となる節が存在しない場合:\n",
    "        $B^{\\prime}$は明らかに1となり、`SAT`の正インスタンスである。\n",
    "    \n",
    "    - 0となる節が1つ存在する場合:\n",
    "        $f_n = 0$とする。　この時$f_1 = \\cdots = f_{n-1} = 1$であるから、任意の$i \\in \\{1, \\cdots, n-1\\}$に対して$(f_i \\lor f_n) = 1$である。\n",
    "        元の節$f$が1同士の組についても同様に1となるため、$B^{\\prime}$は`SAT`の正インスタンスとなる。\n",
    "        \n",
    "- $B$が`NEARLYSAT`の負インスタンスの場合, $B^{\\prime}$も`SAT`の負インスタンスである。\n",
    "    \n",
    "    $B$が`NEARLYSAT`の負インスタンスの場合、少なくとも2つ以上の節について$f_i=0$となる。\n",
    "    この時$(f_i \\lor f_j) = 0$なる$B^{\\prime}$の項が少なくとも1つ存在する。\n",
    "    したがって、$B^{\\prime}$は`SAT`の負インスタンスになる。\n",
    "\n",
    "- アルゴリズム$C$は多項式時間で動作する。\n",
    "    アルゴリズムは$B$に対して以下の操作を行う\n",
    "    - $B$を節に分割する: $O(n)$\n",
    "    - 節のペアを作る: $O(n^2)$\n",
    "        - ペア数は$nC2$であるから。\n",
    "    - 構築したペアを項とする$B^{\\prime}$を作る: $O(n)$\n",
    "\n",
    "    したがってこの変換アルゴリズムは多項式時間で動作する。\n",
    "\n",
    "\n",
    "\n",
    "したがって、`NEARLYSAT`は`SAT`に多項式時間還元される。\n",
    "\n",
    "\n",
    "\n",
    "\n",
    "\n",
    "\n",
    "\n"
   ],
   "cell_type": "markdown",
   "metadata": {}
  },
  {
   "source": [
    "以上より`NEARLYSAT` $\\equiv_{P}$ `SAT`である。"
   ],
   "cell_type": "markdown",
   "metadata": {}
  },
  {
   "cell_type": "code",
   "execution_count": null,
   "metadata": {},
   "outputs": [],
   "source": []
  }
 ]
}