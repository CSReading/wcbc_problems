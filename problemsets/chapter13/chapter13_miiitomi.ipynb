{
 "metadata": {
  "language_info": {
   "codemirror_mode": {
    "name": "ipython",
    "version": 3
   },
   "file_extension": ".py",
   "mimetype": "text/x-python",
   "name": "python",
   "nbconvert_exporter": "python",
   "pygments_lexer": "ipython3",
   "version": "3.7.4"
  },
  "orig_nbformat": 2,
  "kernelspec": {
   "name": "python374jvsc74a57bd0fdd0d0f6d772ec6cd3abcd9c879d0d7e6b024e724106e083d77f96814835aff2",
   "display_name": "Python 3.7.4 64-bit ('base': conda)"
  }
 },
 "nbformat": 4,
 "nbformat_minor": 2,
 "cells": [
  {
   "source": [
    "## 13.4\n",
    "### 問\n",
    " - SubsetSum問題からPacking問題へ多項式時間還元する変換をPythonで書け.\n",
    " \n",
    "### 答\n",
    " - 以下の関数. ただしどちらの問題も入力の\";\"の前後には空白\" \"が入るものと考えた."
   ],
   "cell_type": "markdown",
   "metadata": {}
  },
  {
   "cell_type": "code",
   "execution_count": 1,
   "metadata": {},
   "outputs": [],
   "source": [
    "def convertSubsetSumToPacking(inString):\n",
    "    weigts, H = inString.split(\";\")\n",
    "    return f'{weigts};{H} ;{H}'"
   ]
  },
  {
   "cell_type": "code",
   "execution_count": 2,
   "metadata": {},
   "outputs": [
    {
     "output_type": "execute_result",
     "data": {
      "text/plain": [
       "'12 4 6 24 4 16 ; 32 ; 32'"
      ]
     },
     "metadata": {},
     "execution_count": 2
    }
   ],
   "source": [
    "convertSubsetSumToPacking(\"12 4 6 24 4 16 ; 32\")"
   ]
  },
  {
   "source": [
    "## 13.9\n",
    "### 問\n",
    " - 以下の入力は, CircuitSat問題の正インスタンスか, 負インスタンスか.  \n",
    "    w1 = NOT x2  \n",
    "    w2 = x1 AND w1  \n",
    "    w3 = w2 OR x2 OR x3  \n",
    "    output = w1 AND w3 AND x3\n",
    "\n",
    "### 答\n",
    "  - 正インスタンス.\n",
    "  - 例えば (x1, x2, x3) = (1, 0, 1) とすると,  \n",
    "      w1 = NOT x2 = NOT 0 = 1  \n",
    "      w2 = x1 AND w1 = 1 AND 1 = 1  \n",
    "      w3 = w2 OR x2 OR x3 = 1 OR 0 OR 1 = 1  \n",
    "      output = w1 AND w3 AND x3 = 1 AND 1 AND 1 = 1  \n",
    "    となる."
   ],
   "cell_type": "markdown",
   "metadata": {}
  },
  {
   "source": [
    "## 13.14\n",
    "### 問\n",
    " - 300 ページで定義した節の分割を使って 3-Sat 問題を 2-Sat 問題 に還元することができない理由を説明せよ.\n",
    "\n",
    "### 答\n",
    " - 3個のリテラルからなるCNF形式のブール式の節 $C$\n",
    "    $$ C = l_1 \\lor l_2 \\lor l_3 $$\n",
    "   をダミー変数 $d$ を使って分割しようとしても, \n",
    "    $$ C' = (l_1 \\lor l_2 \\lor d) \\land (\\lnot d \\lor l_3)  $$\n",
    "   または\n",
    "    $$ C'' = (l_1  \\lor d) \\land (\\lnot d \\lor l_2 \\lor l_3)  $$\n",
    "   となってしまい3個のリテラルを含む節が残ってしまうため."
   ],
   "cell_type": "markdown",
   "metadata": {}
  }
 ]
}