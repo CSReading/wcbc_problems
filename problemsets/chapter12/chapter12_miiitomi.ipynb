{
 "metadata": {
  "language_info": {
   "codemirror_mode": {
    "name": "ipython",
    "version": 3
   },
   "file_extension": ".py",
   "mimetype": "text/x-python",
   "name": "python",
   "nbconvert_exporter": "python",
   "pygments_lexer": "ipython3",
   "version": "3.7.4"
  },
  "orig_nbformat": 2,
  "kernelspec": {
   "name": "python374jvsc74a57bd0fdd0d0f6d772ec6cd3abcd9c879d0d7e6b024e724106e083d77f96814835aff2",
   "display_name": "Python 3.7.4 64-bit ('base': conda)"
  }
 },
 "nbformat": 4,
 "nbformat_minor": 2,
 "cells": [
  {
   "source": [
    "## 12.4\n",
    "### 問.\n",
    "次の判定問題「ImpossibleToBalance（平衡不能）」を考える.\n",
    "- 入力: 整数のリスト（例：\"45 23 4 3 72 12）\"\n",
    "- 解：\n",
    "    - これらの整数を平衡の取れた2つの集合に分割できない（2つの集合の総和が等しくなるようにできない）ならば, \"yes\".\n",
    "    - そうでなければ, \"no\".\n",
    "    - 例1：\"1 2 4\"なら\"yes\"（平衡の取れた2つの集合に分割できない）.\n",
    "    - 例2：\"1 2 4 1 2\"なら\"no\"（\"1 2 2\"と\"4, 1\"に分ければ平衡分割可能）.\n",
    "\n",
    "あなたの友人は, 「ImpossibleToBalance問題において，整数入力のあらゆる2分割の形のリストとそれらの分割の重みをヒントとして提供できるので，ImpossibleToBalance問題はクラスPolyCheckに属する」と主張している.   \n",
    "友人の理由付けは正しくないことを説明せよ.\n",
    "- 例: I = \"1 2 4\", S = \"yes\", Hは以下を表す文字列.\n",
    "    - \"1\"(重み1), \"2 4\"(重み6)\n",
    "    - \"1 2\"(重み3), \"4\"(重み4)\n",
    "    - \"1 4\"(重み5), \"2\"(重み2)\n",
    "- 検証器はヒントを読み込んで, 全2分割で重みが異なることを確認するものを想定していると思われる.\n",
    "\n",
    "### 答.\n",
    "整数の数をmとし, 簡単のためすべて異なるとすると, 2分割の仕方は $2^{m-1}-1$ 通りある.   \n",
    "したがって, 入力Iの長さnに対して, ヒントHの長さは指数関数的に増えていく.   \n",
    "正インスタンスに対し検証器は, 各2分割の仕方に対して重みが異なることを確認していかなければならない.  \n",
    "この実行時間はIの長さnの多項式で表せる範囲内にならないので, この方針ではPolyCheckに属すことは示せない."
   ],
   "cell_type": "markdown",
   "metadata": {}
  },
  {
   "source": [
    "## 12.9\n",
    "### 問.\n",
    "SubsetSumD問題（SubsetSum問題の判定問題バージョン）\n",
    " - 入力: 重みのリスト（$w_1\\ w_2\\ \\dots\\ $）と値 $L$.\n",
    "    - 例：\"12 4 6 24 4 16 ; 32\"\n",
    " - 解：重みリストの部分集合で要素の和が $L$ となるようなものが作れるなら\"yes\". そうでなければ\"no\".\n",
    "   - 上の例では, \"12 4 16\"の和が32になるので\"yes\".\n",
    "\n",
    "検証器 V(I,S,H) が考慮しなければならない (a) S と (b) H の長さの最大値はいくつか.\n",
    "\n",
    "### 答.\n",
    "(a) 判定問題のためSは\"yes\"か\"no\"なので, $3$.   \n",
    "(b) ヒントとして重みリストの部分集合を受け取る. Iから最後の空白, \";\", Hの部分を除いて, $n-4$."
   ],
   "cell_type": "markdown",
   "metadata": {}
  },
  {
   "source": [
    "## 12.14\n",
    "### 問.\n",
    "判定問題 SubsetSumWithFives（重さ5の重しを10個まで使えるSubsetSumD）\n",
    " - 入力: 重みのリスト（$w_1\\ w_2\\ \\dots\\ $）と値 $L$.\n",
    "    - 例：\"12 4 6 24 ; 32\"\n",
    " - 解: 重みのリストの部分集合で, その要素(+重さ5の重し10個分まで)の重さの和が $L$ となるようなものが作れるなら\"yes\", そうでなければ\"no\".\n",
    "   - 例：部分集合\"12 4 6\"を考えると, 重しを2つ加えれば重さの和を32にできるので\"yes\".\n",
    "\n",
    "PythonでこのSSWith5sの多項式時間検証器を書け.\n",
    "\n",
    "### 方針.\n",
    "- 重みのリストの部分集合をヒントとして受け取る検証器を作る.\n",
    "- 問12.9と同様に, Sは3文字目まで, Hはn-4文字目まで考えればよい（それ以上の場合は'unsure'）.\n",
    "- まずヒントが, 重みリストの部分集合になっていることを確認する.\n",
    "- 次にその重みリストの部分集合に, 重しを10個まで加えて$L$にできるかどうかを確認する."
   ],
   "cell_type": "markdown",
   "metadata": {}
  },
  {
   "cell_type": "code",
   "execution_count": 1,
   "metadata": {},
   "outputs": [],
   "source": [
    "def verify_sswith5s(I, S, H):\n",
    "    # SとHが長すぎるなら\"unsure\"\n",
    "    n = len(I)\n",
    "    if len(S) > 3 or len(H) > n-4:\n",
    "       return \"unsure\"\n",
    "    \n",
    "    # Sが\"yes\"でないなら\"unsure\"\n",
    "    if S != \"yes\":\n",
    "        return \"unsure\"\n",
    "    \n",
    "    # Hを整数のリストにする. 整数のリストにできなっかったら\"unsure\".\n",
    "    try:\n",
    "        H_list = list(map(int, H.split()))\n",
    "    except:\n",
    "        return \"unsure\"\n",
    "\n",
    "    weight_list = list(map(int, I.split()[0:-2]))\n",
    "    L = int(I.split()[-1])\n",
    "\n",
    "    # ヒントが正しく重みの部分集合になっているか確認.\n",
    "    for h in H_list:\n",
    "        if h in weight_list:\n",
    "            weight_list.remove(h)\n",
    "        else:\n",
    "            return \"unsure\"\n",
    "    \n",
    "    # 重しを10個まで足して重さ総和がLになるか確認.\n",
    "    sum_h = sum(H_list)\n",
    "    for i in range(0, 11):\n",
    "        if sum_h + (5 * i) == L:\n",
    "            return \"correct\"\n",
    "    return \"unsure\""
   ]
  },
  {
   "cell_type": "code",
   "execution_count": 2,
   "metadata": {},
   "outputs": [
    {
     "output_type": "execute_result",
     "data": {
      "text/plain": [
       "'correct'"
      ]
     },
     "metadata": {},
     "execution_count": 2
    }
   ],
   "source": [
    "I = \"12 4 6 24 ; 32\"\n",
    "S = \"yes\"\n",
    "H = \"12 4 6\"\n",
    "verify_sswith5s(I, S, H)"
   ]
  },
  {
   "cell_type": "code",
   "execution_count": 3,
   "metadata": {},
   "outputs": [
    {
     "output_type": "execute_result",
     "data": {
      "text/plain": [
       "'unsure'"
      ]
     },
     "metadata": {},
     "execution_count": 3
    }
   ],
   "source": [
    "I = \"12 4 6 24 ; 32\"\n",
    "S = \"no\"\n",
    "H = \"12 4 6\"\n",
    "verify_sswith5s(I, S, H)"
   ]
  },
  {
   "cell_type": "code",
   "execution_count": 4,
   "metadata": {},
   "outputs": [
    {
     "output_type": "execute_result",
     "data": {
      "text/plain": [
       "'unsure'"
      ]
     },
     "metadata": {},
     "execution_count": 4
    }
   ],
   "source": [
    "I = \"12 4 6 24 ; 32\"\n",
    "S = \"yes\"\n",
    "H = \"24 4\"\n",
    "verify_sswith5s(I, S, H)"
   ]
  },
  {
   "cell_type": "code",
   "execution_count": 5,
   "metadata": {},
   "outputs": [
    {
     "output_type": "execute_result",
     "data": {
      "text/plain": [
       "'correct'"
      ]
     },
     "metadata": {},
     "execution_count": 5
    }
   ],
   "source": [
    "I = \"5 7 1 9 4 2 7 0 2 8 2 1 6 3 ; 56\"\n",
    "S = \"yes\"\n",
    "H = \"4 2\"\n",
    "verify_sswith5s(I, S, H)"
   ]
  }
 ]
}