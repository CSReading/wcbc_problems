{
 "metadata": {
  "language_info": {
   "codemirror_mode": {
    "name": "ipython",
    "version": 3
   },
   "file_extension": ".py",
   "mimetype": "text/x-python",
   "name": "python",
   "nbconvert_exporter": "python",
   "pygments_lexer": "ipython3",
   "version": "3.7.4"
  },
  "orig_nbformat": 2,
  "kernelspec": {
   "name": "python374jvsc74a57bd004519339525595c0aa580e2ce339b15b315f4363ec21d43e5f5b08aa35789ec4",
   "display_name": "Python 3.7.4 64-bit ('base': conda)"
  }
 },
 "nbformat": 4,
 "nbformat_minor": 2,
 "cells": [
  {
   "source": [
    "### 12.1"
   ],
   "cell_type": "markdown",
   "metadata": {}
  },
  {
   "cell_type": "code",
   "execution_count": 21,
   "metadata": {},
   "outputs": [],
   "source": [
    "# Packing問題\n",
    "\n",
    "def verifyPacking(I, S):\n",
    "    # 多項式性を担保する\n",
    "    if len(I) < len(S):\n",
    "        return \"unsure\"\n",
    "\n",
    "    # 提案解が負インスタンスのケース\n",
    "    if S == \"no\":\n",
    "        return \"unsure\"\n",
    "    \n",
    "    weight, low, high = I.split(\";\")\n",
    "    low = int(low)\n",
    "    high = int(high)\n",
    "    weight = list(map(int, weight.split()))\n",
    "    S = list(map(int, S.split()))\n",
    "\n",
    "    # 提案解が適切でないケースでunsureを返す\n",
    "    for s in S:\n",
    "        if not(s in weight):\n",
    "            return \"unsure\"\n",
    "    \n",
    "    if low <= sum(S) and  sum(S) <= high:\n",
    "        return \"correct\"  \n",
    "    else:\n",
    "        return \"unsure\"\n",
    "\n"
   ]
  },
  {
   "cell_type": "code",
   "execution_count": 24,
   "metadata": {},
   "outputs": [
    {
     "output_type": "stream",
     "name": "stdout",
     "text": [
      "correct\nunsure\nunsure\nunsure\n"
     ]
    }
   ],
   "source": [
    "# 正インスタンス\n",
    "print(verifyPacking(\"12 4 6 24 4 16; 20; 27\", \"4 6 16\"))\n",
    "# 提案解が条件を満たさない\n",
    "print(verifyPacking(\"12 4 6 24 4 16; 20; 25\", \"4 6 16\"))\n",
    "# 要素に含まれないものを使っている\n",
    "print(verifyPacking(\"12 4 6 24 4 16; 20; 27\", \"4 5 16\"))\n",
    "# noを提案\n",
    "print(verifyPacking(\"12 4 6 24 4 16; 20; 27\", \"no\"))"
   ]
  },
  {
   "cell_type": "code",
   "execution_count": 28,
   "metadata": {},
   "outputs": [],
   "source": [
    "# SubsetSum問題\n",
    "def verifySubsetSum(I, S):\n",
    "    # 多項式性を担保する\n",
    "    if len(I) < len(S):\n",
    "        return \"unsure\"\n",
    "\n",
    "    # 提案解が負インスタンスのケース\n",
    "    if S == \"no\":\n",
    "        return \"unsure\"\n",
    "    \n",
    "    weight, high = I.split(\";\")\n",
    "    high = int(high)\n",
    "    weight = list(map(int, weight.split()))\n",
    "    S = list(map(int, S.split()))\n",
    "\n",
    "    # 提案解が適切でないケースでunsureを返す\n",
    "    for s in S:\n",
    "        if not(s in weight):\n",
    "            return \"unsure\"\n",
    "    \n",
    "    if  sum(S) == high:\n",
    "        return \"correct\"  \n",
    "    else:\n",
    "        return \"unsure\""
   ]
  },
  {
   "cell_type": "code",
   "execution_count": 29,
   "metadata": {},
   "outputs": [
    {
     "output_type": "stream",
     "name": "stdout",
     "text": [
      "correct\nunsure\nunsure\nunsure\n"
     ]
    }
   ],
   "source": [
    "# 正インスタンス\n",
    "print(verifySubsetSum(\"12 4 6 24 4 16; 26\", \"4 6 16\"))\n",
    "# 提案解が条件を満たさない\n",
    "print(verifySubsetSum(\"12 4 6 24 4 16; 25\", \"4 6 16\"))\n",
    "# 要素に含まれないものを使っている\n",
    "print(verifySubsetSum(\"12 4 6 24 4 16; 25\", \"4 5 16\"))\n",
    "# noを提案\n",
    "print(verifySubsetSum(\"12 4 6 24 4 16; 27\", \"no\"))"
   ]
  },
  {
   "cell_type": "code",
   "execution_count": 33,
   "metadata": {},
   "outputs": [],
   "source": [
    "# Partition問題\n",
    "def verifyPartition(I, S):\n",
    "    # 多項式性を担保する\n",
    "    if len(I) < len(S):\n",
    "        return \"unsure\"\n",
    "\n",
    "    # 提案解が負インスタンスのケース\n",
    "    if S == \"no\":\n",
    "        return \"unsure\"\n",
    "    \n",
    "    weight = list(map(int, I.split()))\n",
    "    if sum(weight) % 2 == 1:\n",
    "        return \"unsure\"\n",
    "    else:\n",
    "        high = sum(weight) / 2\n",
    "    S = list(map(int, S.split()))\n",
    "\n",
    "    # 提案解が適切でないケースでunsureを返す\n",
    "    for s in S:\n",
    "        if not(s in weight):\n",
    "            return \"unsure\"\n",
    "    \n",
    "    if  sum(S) == high:\n",
    "        return \"correct\"  \n",
    "    else:\n",
    "        return \"unsure\""
   ]
  },
  {
   "cell_type": "code",
   "execution_count": 36,
   "metadata": {},
   "outputs": [
    {
     "output_type": "stream",
     "name": "stdout",
     "text": [
      "correct\nunsure\nunsure\nunsure\n"
     ]
    }
   ],
   "source": [
    "# 正インスタンス\n",
    "print(verifyPartition(\"12 4 6 14 4 16\", \"12 16\"))\n",
    "# 提案解が条件を満たさない\n",
    "print(verifyPartition(\"12 4 6 14 4 16\", \"12 4 6\"))\n",
    "# 要素に含まれないものを使っている\n",
    "print(verifyPartition(\"12 4 6 24 4 16\", \"4 5 16\"))\n",
    "# noを提案\n",
    "print(verifyPartition(\"12 4 6 24 4 16\", \"no\"))"
   ]
  },
  {
   "source": [
    "### 12.6\n",
    "- クラスPolyがクラスNPolyの真部分集合であることはまだ証明されていない.\n",
    "- そのため, 上記の例に当てはまる例を厳密に示すことは試験問題としては難しい.\n",
    "- 「クラス NPolyに属するがクラスPolyに属さないと考えられている計算問題の例」としてはTSPD問題などがある.\n"
   ],
   "cell_type": "markdown",
   "metadata": {}
  },
  {
   "source": [
    "### 12.11"
   ],
   "cell_type": "markdown",
   "metadata": {}
  },
  {
   "source": [
    "(1) Hに存在記号がついている項目は?\n",
    "- $\\forall I, F(I) \\neq \\{\"no\"\\} \\Rightarrow \\exists S, H, V(I, S, H) = \"correct\"$\n",
    "\n",
    "(2) Hに全称記号がついている項目は?\n",
    "- $\\forall I, F(I) = \\{\"no\"\\} \\Rightarrow \\forall S, H, V(I, S, H) = \"unsure\"$\n",
    "    - 存在記号とすると, 負インスタンスの挙動であるようなIに対して, ヒントH次第ではunsureでないことがあるかもしれない  \n",
    "- $\\forall I, \\forall S, \\ S \\notin F(I) \\Rightarrow \\forall H, \\ V(I, S, H) = \"unsure\" $\n",
    "    - 存在記号とすると, 解集合に含まれていない提案解Sに対して, ヒントH次第ではunsureでないことがあるかもしれない\n",
    "\n",
    "(3) Sに存在記号がついている. \n",
    "- $\\forall I, F(I) \\neq \\{\"no\"\\} \\Rightarrow \\exists S, H, V(I, S, H) = \"correct\"$\n",
    "\n",
    "(4) Sに全称記号がついている\n",
    "- $\\forall I, F(I) = \\{\"no\"\\} \\Rightarrow \\forall S, H, V(I, S, H) = \"unsure\"$\n",
    "    - 存在記号とすると, 負インスタンスの挙動であるようなIに対して, 提案解S次第ではunsureでないことがあるかもしれない  \n",
    "- $\\forall I, \\forall S, \\ S \\notin F(I) \\Rightarrow \\forall H, \\ V(I, S, H) = \"unsure\" $\n",
    "    - 存在記号とすると, 解集合に含まれていない提案解Sに対して, 全てのヒントでunsureとならないSが存在するかもしれない."
   ],
   "cell_type": "markdown",
   "metadata": {}
  },
  {
   "cell_type": "code",
   "execution_count": null,
   "metadata": {},
   "outputs": [],
   "source": []
  }
 ]
}