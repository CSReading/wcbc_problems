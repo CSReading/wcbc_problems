{
 "metadata": {
  "language_info": {
   "codemirror_mode": {
    "name": "ipython",
    "version": 3
   },
   "file_extension": ".py",
   "mimetype": "text/x-python",
   "name": "python",
   "nbconvert_exporter": "python",
   "pygments_lexer": "ipython3",
   "version": 3
  },
  "orig_nbformat": 2
 },
 "nbformat": 4,
 "nbformat_minor": 2,
 "cells": [
  {
   "source": [
    "## 12.2\n",
    "### 問 \n",
    "次の各問題がクラスPolyCheckに属する理由を説明せよ. クラスNPolyではなく, クラスPolyCheckの定義を使うこと.インスタンスのそれぞれについて解を答えよ.  \n",
    " (a) UHC問題の判定問題バージョン  \n",
    " (b) IntergerDivision問題  \n",
    " (c) AnonymousFriends問題   \n",
    " (d) UHPOrigin問題  \n",
    "\n",
    "### 答\n",
    "入力インスタンス$I$の文字数を$n$とする.  \n",
    " (a) 以下の手順で計算量が$O(n^2)$に含まれるような検証器を作成できる.\n",
    "- インスタンス$I$, 提案された解$S$, ハミルトン閉路を示すヒント$H$を入力とする.\n",
    "   - $I$に含まれる辺の数はたかだか$n$, 各辺を構成する文字数もたかだか$n$である\n",
    "- $S$が\"no\"であれば\"unsure\"を返す\n",
    "- $S$が\"yes\"の場合, $H$が$I$の中のハミルトン閉路であることを確認し,確認出来たら\"yes\",できなければ\"unsure\"を返す.\n",
    "   - $H$の始点と終点が等しいことを確認する: $O(1)$\n",
    "   - $I$に含まれる節点の重複無しのリストを取得する: $O(n^2)$\n",
    "   - $H$で通る各節点ごとに重複無しのリストから除いていき,終点以外でちょうど重複無しリストがすべて削除されることを確認する: $O(n^2)$\n",
    "   - $H$の辺に重複がないか確認する: 計算量$O(n^2) \n",
    "\n",
    "\n",
    " (b) 以下の手順で計算量が$O(n^2)$に含まれるような検証器を作成できる.\n",
    " - インスタンス$I$, 提案された解$S$, 無視されるヒント$H$を入力とする.\n",
    " - $S$が\"no\"であれば\"unsure\"を返す\n",
    " - $S$が\"yes\"の場合, $M/N$を計算量$O(n^2)$で計算し, $S$と等しいかを計算量$O(n)$で確認する  \n",
    "\n",
    "\n",
    " (c) 以下の手順で計算量が$O(n^2)$に含まれるような検証器を作成できる.\n",
    " - インスタンス$I$, 提案された解$S$, $L$と$A$との対応関係を示したヒント$H$を入力とする.\n",
    "   - $I$に含まれる辺の数はたかだか$n$\n",
    " - $S$が\"no\"であれば\"unsure\"を返す\n",
    " - $S$が\"yes\"の場合, $L$と$A$のそれぞれで各頂点同士のつながりの有無を計算量$O(n^2)$で確認する.    \n",
    "\n",
    "\n",
    " (d) 以下の手順で計算量が$O(n^2)$に含まれるような検証器を作成できる.\n",
    " - インスタンス$I$, 提案された解$S$, ハミルトン経路を示すヒント$H$を入力とする.\n",
    " - (a)と同じ手順で$H$がハミルトン閉路であることを確認し始点が$S$と等しければ\"yes\",それ以外は\"unsure\"を返す.\n"
   ],
   "cell_type": "markdown",
   "metadata": {}
  },
  {
   "source": [
    "## 12.7\n",
    "### 問 \n",
    "次のプログラムverifyCheckMultiplyには誤りがある. このプログラムを修正してCheckMultiply問題の検証器として使えるものにする方法を説明せよ.\n",
    "\n",
    "### 答\n",
    "負インスタンスの場合は\"unsure\"を返さなければならない. 例えば以下のverifyCheckMultiplyModifyのようにするとよい."
   ],
   "cell_type": "markdown",
   "metadata": {}
  },
  {
   "cell_type": "code",
   "execution_count": null,
   "metadata": {},
   "outputs": [],
   "source": [
    "def verifyCheckMultiply(I, S, H): \n",
    "    (M1, M2, K) = [int(x) for x in I.split()]\n",
    "    if M1*M2==K and S=='yes':\n",
    "        return 'correct'\n",
    "    elif M1*M2!=K and S=='no':\n",
    "        return 'correct'  \n",
    "    else:\n",
    "        return 'unsure' "
   ]
  },
  {
   "cell_type": "code",
   "execution_count": null,
   "metadata": {},
   "outputs": [],
   "source": [
    "def verifyCheckMultiplyModified(I, S, H): \n",
    "    (M1, M2, K) = [int(x) for x in I.split()]\n",
    "    if M1*M2==K and S=='yes':\n",
    "        return 'correct'\n",
    "    else:\n",
    "        return 'unsure' "
   ]
  },
  {
   "source": [
    "## 12.12\n",
    "### 問 \n",
    "Poly $\\subset$ PolyCheckの最初の証明を検証しよう. 解集合$F(I)$には複数の要素があり, $P(I)$はたまたま$S$でない解の1つを計算したとする.  \n",
    "(a) この場合, $V$は何を返すか  \n",
    "(b) (a)の答えにもかかわらず, 証明が正しい理由を説明せよ\n",
    "\n",
    "### 答\n",
    "(a) $S\\neq P(I)$より\"unsure\"を返す.  \n",
    "(b) 検証器の定義として, $I$が正インスタンスのとき, 何らかの正しい積極解$S$に対して\"correct\"を返せばよい. いま, $V(I, P(I), H)$は\"correct\"を返すため, 検証器として成り立っている."
   ],
   "cell_type": "markdown",
   "metadata": {}
  }
 ]
}