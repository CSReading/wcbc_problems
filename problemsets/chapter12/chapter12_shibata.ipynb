{
 "metadata": {
  "language_info": {
   "codemirror_mode": {
    "name": "ipython",
    "version": 3
   },
   "file_extension": ".py",
   "mimetype": "text/x-python",
   "name": "python",
   "nbconvert_exporter": "python",
   "pygments_lexer": "ipython3",
   "version": 3
  },
  "orig_nbformat": 2
 },
 "nbformat": 4,
 "nbformat_minor": 2,
 "cells": [
  {
   "source": [
    "## 12.2\n",
    "### 問 \n",
    "次の各問題がクラスPolyCheckに属する理由を説明せよ. クラスNPolyではなく, クラスPolyCheckの定義を使うこと.インスタンスのそれぞれについて解を答えよ.  \n",
    " (a) UHC問題の判定問題バージョン  \n",
    " (b) IntergerDivision問題  \n",
    " (c) AnonymousFriends問題   \n",
    " (d) UHPOrigin問題  \n",
    "\n",
    "### 答\n",
    " (a)   \n",
    " (b)   \n",
    " (c)    \n",
    " (d)   \n"
   ],
   "cell_type": "markdown",
   "metadata": {}
  },
  {
   "source": [
    "## 12.7\n",
    "### 問 \n",
    "次のプログラムverifyCheckMultiplyには誤りがある. このプログラムを修正してCheckMultiply問題の検証器として使えるものにする方法を説明せよ.\n",
    "\n",
    "### 答\n",
    "負インスタンスの場合は\"unsure\"を返さなければならない. 例えば以下のverifyCheckMultiplyModifyのようにするとよい."
   ],
   "cell_type": "markdown",
   "metadata": {}
  },
  {
   "cell_type": "code",
   "execution_count": null,
   "metadata": {},
   "outputs": [],
   "source": [
    "def verifyCheckMultiply(I, S, H): \n",
    "    (M1, M2, K) = [int(x) for x in I.split()]\n",
    "    if M1*M2==K and S=='yes':\n",
    "        return 'correct'\n",
    "    elif M1*M2!=K and S=='no':\n",
    "        return 'correct'  \n",
    "    else:\n",
    "        return 'unsure' "
   ]
  },
  {
   "cell_type": "code",
   "execution_count": null,
   "metadata": {},
   "outputs": [],
   "source": [
    "def verifyCheckMultiplyModified(I, S, H): \n",
    "    (M1, M2, K) = [int(x) for x in I.split()]\n",
    "    if M1*M2==K and S=='yes':\n",
    "        return 'correct'\n",
    "    else:\n",
    "        return 'unsure' "
   ]
  },
  {
   "source": [
    "## 12.12\n",
    "### 問 \n",
    "Poly $\\subset$ PolyCheckの最初の証明を検証しよう. 解集合$F(I)$には複数の要素があり, $P(I)$はたまたま$S$でない解の1つを計算したとする.  \n",
    "(a) この場合, $V$は何を返すか  \n",
    "(b) (a)の答えにもかかわらず, 証明が正しい理由を説明せよ\n",
    "\n",
    "### 答\n",
    "(a) $S\\neq P(I)$より\"unsure\"を返す.  \n",
    "(b) 検証器の定義として, $I$が正インスタンスのとき, 何らかの正しい積極解$S$に対して\"correct\"を返せばよい. いま, $V(I, P(I), H)$は\"correct\"を返すため, 検証器として成り立っている."
   ],
   "cell_type": "markdown",
   "metadata": {}
  }
 ]
}