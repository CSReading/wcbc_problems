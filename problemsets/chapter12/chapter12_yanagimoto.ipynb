{
 "metadata": {
  "language_info": {
   "codemirror_mode": {
    "name": "ipython",
    "version": 3
   },
   "file_extension": ".py",
   "mimetype": "text/x-python",
   "name": "python",
   "nbconvert_exporter": "python",
   "pygments_lexer": "ipython3",
   "version": 3
  },
  "orig_nbformat": 2
 },
 "nbformat": 4,
 "nbformat_minor": 2,
 "cells": [
  {
   "source": [
    "### 12.5 (柳本)\n",
    "#### (a) $S = ``TATA\", H = ``2.1.2\"$\n",
    "\"unsure\"\n",
    "#### (b) $S = ``TATA\", H = ``TATA\"$\n",
    "\"unsure\"\n",
    "#### (c) $S = ``TATA\", H = ``1.1.2\"$\n",
    "\"correct\"\n",
    "#### (d) $S = ``no\", H = ``1.2.2\"$\n",
    "\"unsure\"\n",
    "#### (e) $S = ``no\", H = ``1.1.2\"$\n",
    "\"unsure\"\n"
   ],
   "cell_type": "markdown",
   "metadata": {}
  },
  {
   "source": [
    "## 12.10 (柳本)\n",
    "#### (a) $V(``5\\,5\\,5\\,5\\,5;\\,15;\\,25\", ``5\\,5\\,5\",\\varepsilon)$\n",
    "\"correct\"\n",
    "#### (b) $V(``5\\,5\\,5\\,5\\,5;\\,20;\\,25\", ``5\\,5\\,5,\\varepsilon\")$\n",
    "\"unsure\"\n",
    "#### (c) $V(``5\\,5\\,5\\,5\\,5;\\,16;\\,19\", ``5\\,5\\,5\",\\varepsilon)$\n",
    "\"unsure\"\n",
    "#### (d) $V(``5\\,5\\,5\\,5\\,5;\\,16;\\,19\", S,\\varepsilon)$\n",
    "存在しない。\n",
    "すべての要素が5であるため、重さのとりうる値は5を用いる回数分、すなわち、0, 5, 10, 15, 20, 25のみであるのは明らか。"
   ],
   "cell_type": "markdown",
   "metadata": {}
  },
  {
   "source": [
    "## 12.15 (柳本)\n",
    "代替多項式時間で実行される$P$が存在するとき、その実行ステップはある多項式\n",
    "$q(n)$で抑えられる。以下を満たすプログラム$P'$を考える\n",
    "- $P$をシミュレートする\n",
    "- シミュレーションの実行ステップ数を管理し、$q(n)$を超えた場合、強制終了する\n",
    "\n",
    "このプログラムは以下を満たすことは明らか。\n",
    "- (a) すべての入力$I$について、$P(I)$が定義されていて、積極解をもつ時に限り、$P'(I)$が定義されていて、積極解を持ち\n",
    "- (b) そのような正のインスタンス$I$のすべてについて$P'(I) = P(I)$\n",
    "\n",
    "また、定義から標準定義による多項式時間で実行されることも明らかである。\n"
   ],
   "cell_type": "markdown",
   "metadata": {}
  }
 ]
}