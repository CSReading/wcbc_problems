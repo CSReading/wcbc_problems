{
 "metadata": {
  "language_info": {
   "codemirror_mode": {
    "name": "ipython",
    "version": 3
   },
   "file_extension": ".py",
   "mimetype": "text/x-python",
   "name": "python",
   "nbconvert_exporter": "python",
   "pygments_lexer": "ipython3",
   "version": "3.9.2"
  },
  "orig_nbformat": 2,
  "kernelspec": {
   "name": "python392jvsc74a57bd098b0a9b7b4eaaa670588a142fd0a9b87eaafe866f1db4228be72b4211d12040f",
   "display_name": "Python 3.9.2 64-bit ('base': conda)"
  }
 },
 "nbformat": 4,
 "nbformat_minor": 2,
 "cells": [
  {
   "source": [
    "## 14.5 \n",
    "入力としてRSA公開鍵をとり，解として入力に対応するRSA秘密鍵を出力する関数問題を`CRACKRSA` 問題とする.\n",
    "\n",
    "`CRACKRSA` 問題に対応する適切な判定問題が`FACTOR`問題に多項式時間還元できることを示すのは難しいことではない. \n",
    "この事実に基づき，`CRACKRSA` 問題がクラス `Poly`，`NPoly`，`NPHard`に属するかどうかを論ぜよ. \n",
    "\n",
    "その推論の根拠も示せ.\n"
   ],
   "cell_type": "markdown",
   "metadata": {}
  },
  {
   "source": [
    "## 解答\n",
    "\n",
    "`FACTOR`問題は`NPoly`に属することはp270より明らか。\n",
    "\n",
    "`CRACKRSA`は`FACTOR`に多項式時間還元できるので、`NPoly`に属する。　\n",
    "\n",
    "\n",
    "- `Poly`に属するか？\n",
    "\n",
    "$P \\not=NP$だと考えられていることから、`FACTOR`問題は`Poly`に属さないと思われる上、まだ`Poly`に属しているかどうかも示されていない。\n",
    "したがって`CRACKRSA`も`Poly`に属さないと思われる。\n",
    "\n",
    "- `NPHard`に属するか？\n",
    "\n",
    "p322にあるようにおそらく`FACTOR`問題は`NPHard`に属さないと考えられているため、`CRACKRSA`も`NPHard`に属さないとと考えられる。"
   ],
   "cell_type": "markdown",
   "metadata": {}
  },
  {
   "source": [
    "## 14.10\n",
    "\n"
   ],
   "cell_type": "markdown",
   "metadata": {}
  },
  {
   "source": [
    "問題`MANYSAT`を考える.\n",
    "\n",
    "この問題は，CNF形式のブール式$B$を入力とし，少なくとも$2$通りの方法で$B$を充足させられるなら,それは正インスタンスで,$B$を充足させる$2$つの異なる割り当てをセミコロンで区切ったものを解とし,そうでなければ,充足方法は$1$通りか$0$通りで,そのときは“no”を解とする.\n",
    "\n",
    "`MANYSAT`問題がNP困難であることを証明せよ"
   ],
   "cell_type": "markdown",
   "metadata": {}
  },
  {
   "source": [
    "`SAT`問題を`MANYSAT`問題に多項式時間還元することで`MANYSAT`がNP困難であることを示す。\n",
    "\n",
    "\n",
    "`SAT`の任意の入力文字列$B = f_1 \\wedge f_2 \\wedge \\cdots \\wedge f_n $に対し、ダミー変数$d$を用いて\n",
    "$B^{\\prime} = f_1 \\wedge f_2 \\wedge \\cdots \\wedge f_n \\wedge (d \\lor \\neg d)$を作るようなアルゴリズム$C$を考える。\n",
    "\n",
    "\n",
    "- $B$が`SAT`の正インスタンスの場合,$B^{\\prime}$は`MANYSAT`の正インスタンスである。\n",
    "\n",
    "    - $B$を充足させる値の割当が1つしかない場合でも$d$は0,1どちらでも追加した項は充足するので、充足させる異なる2つの割当が存在する。\n",
    "\n",
    "- $B$が`SAT`の負インスタンスの場合,$B^{\\prime}$は`MANYSAT`の負インスタンスである。\n",
    "    - $B$の項のうち少なくとも１つは$0$となる。この場合、$B^{\\prime}$のように項を1つ追加しても負インスタンスのままである。 \n",
    "\n",
    "- $C$は多項式時間で動作する。\n",
    "\n",
    "    - 文字列$B$を読み込む: $O(n)$\n",
    "    - 文字列$B$に$\\wedge (d \\lor \\neg d)$を追加する:$O(len(s))$\n",
    "\n",
    "    したがって、この変換アルゴリズムは多項式時間で動作する。\n",
    "\n",
    "\n",
    "よって`SAT`問題は`MANYSAT`問題に還元されるため、`MANYSAT`はNP困難である。\n",
    "\n",
    "\n"
   ],
   "cell_type": "markdown",
   "metadata": {}
  },
  {
   "source": [
    "## 14.15\n",
    "\n",
    "判定問題`2PACKING`について考える.\n",
    "この問題は`PACKING`問題と同じであるが,$1$台のトラックではなく,$2$台の同じトラックに荷物を積み込まなければならないことだけが異なる.\n",
    "\n",
    "`PACKING`問題と`2PACKING`問題が多項式時間等価であることを証明せよ"
   ],
   "cell_type": "markdown",
   "metadata": {}
  },
  {
   "source": [
    "`2PACKING`を次のように定義する。\n",
    "\n",
    "-  入力:$w_1$,$w_2$,$\\cdots$のように記述された重み(整数)のリストと$L$,$H$という整数のしきい値. \n",
    "    - $L$はあるトラックを出す意味のある重さの最小値\n",
    "    - $Hはあるトラックが運べる重さの最大値\n",
    "\n",
    "- 解:条件を満たす組合せは,入力の重さの部分集合で,部分集合全体の重さ$W$が$L \\le W \\le 2H$となるものである.条件を満たす組合 せがなければ,解は“no”となる.\n",
    "\n",
    "\n"
   ],
   "cell_type": "markdown",
   "metadata": {}
  },
  {
   "source": [
    "### `PACKING` $\\le_p$ `2PACKING`\n",
    "\n",
    "`PACKING`の任意の入力文字列を$B$とする。\n",
    "$B$に含まれる値$H$を2で割ったもので置き換えるアルゴリズムを$C$とする。置き換え後の文字列を$B^{\\prime}$とする。\n",
    "\n",
    "\n",
    "- $B$が`PACKING`の正インスタンスの場合$B^{\\prime}$も`2PACKING`の正インスタンス\n",
    "\n",
    "    - 制約条件が同等になることから、正インスタンスである。\n",
    "- $B$が`PACKING`の負インスタンスの場合$B^{\\prime}$も`2PACKING`の負インスタンス\n",
    "    - 制約条件が同等になることから、負インスタンスである。\n",
    "\n",
    "\n",
    "- $C$が多項式時間で動作する。\n",
    "    - $B$をsplitする: $O(n)$\n",
    "    - $H$をintに変換する: $O(len(H))$\n",
    "    - $H$を2で割る: $O((\\log H)^2)$\n",
    "    - 除算後の$H^{\\prime}$を整数にする: $O(\\log H^{\\prime})$\n",
    "    \n",
    "    ここで$\\log H$は$n$で抑えられるのでこのアルゴリズムは多項式時間で動作する。\n",
    "\n",
    "したがって、`2PACKING`に多項式時間還元される。"
   ],
   "cell_type": "markdown",
   "metadata": {}
  },
  {
   "source": [
    "### `2PACKING` $\\le_p$ `PACKING`\n",
    "\n",
    "\n",
    "`１PACKING`の任意の入力文字列を$B$とする。\n",
    "$B$に含まれる値$H$に2をかけたもので置き換えるアルゴリズムを$C$とする。置き換え後の文字列を$B^{\\prime}$とする。\n",
    "\n",
    "\n",
    "- $B$が`2PACKING`の正インスタンスの場合$B^{\\prime}$も`PACKING`の正インスタンス\n",
    "\n",
    "    - 制約条件が同等になることから、正インスタンスである。\n",
    "- $B$が`2PACKING`の負インスタンスの場合$B^{\\prime}$も`PACKING`の負インスタンス\n",
    "    - 制約条件が同等になることから、負インスタンスである。\n",
    "\n",
    "\n",
    "- $C$が多項式時間で動作する。\n",
    "    - $B$をsplitする: $O(n)$\n",
    "    - $H$をintに変換する: $O(len(H))$\n",
    "    - $H$を2をかける: $O((\\log H)^2)$\n",
    "    - 除算後の$H^{\\prime}$を整数にする: $O(\\log H^{\\prime})$\n",
    "    \n",
    "    ここで$\\log H$は$n$で抑えられるのでこのアルゴリズムは多項式時間で動作する。\n",
    "\n",
    "したがって、`PACKING`に多項式時間還元される。\n",
    "\n",
    "\n",
    "以上より`PACKING`問題と`2PACKING`問題は多項式等価である。\n"
   ],
   "cell_type": "markdown",
   "metadata": {}
  },
  {
   "cell_type": "code",
   "execution_count": null,
   "metadata": {},
   "outputs": [],
   "source": []
  }
 ]
}