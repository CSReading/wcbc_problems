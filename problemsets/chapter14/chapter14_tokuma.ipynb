{
 "metadata": {
  "language_info": {
   "codemirror_mode": {
    "name": "ipython",
    "version": 3
   },
   "file_extension": ".py",
   "mimetype": "text/x-python",
   "name": "python",
   "nbconvert_exporter": "python",
   "pygments_lexer": "ipython3",
   "version": "3.9.2"
  },
  "orig_nbformat": 2,
  "kernelspec": {
   "name": "python392jvsc74a57bd098b0a9b7b4eaaa670588a142fd0a9b87eaafe866f1db4228be72b4211d12040f",
   "display_name": "Python 3.9.2 64-bit ('base': conda)"
  }
 },
 "nbformat": 4,
 "nbformat_minor": 2,
 "cells": [
  {
   "source": [
    "## 14.5 \n",
    "入力としてRSA公開鍵をとり，解として入力に対応するRSA秘密鍵を出力する関数問題を`CRACKRSA` 問題とする.\n",
    "\n",
    "`CRACKRSA` 問題に対応する適切な判定問題が`FACTOR`問題に多項式時間還元できることを示すのは難しいことではない. \n",
    "この事実に基づき，`CRACKRSA` 問題がクラス `Poly`，`NPoly`，`NPHard`に属するかどうかを論ぜよ. \n",
    "\n",
    "その推論の根拠も示せ.\n"
   ],
   "cell_type": "markdown",
   "metadata": {}
  },
  {
   "source": [
    "## 解答\n",
    "\n",
    "`FACTOR`問題は`NPoly`に属することはp270より明らか。\n",
    "\n",
    "`CRACKRSA`は`FACTOR`に多項式時間還元できるので、`NPoly`に属する。　\n",
    "\n",
    "\n",
    "- `Poly`に属するか？\n",
    "\n",
    "還元の方向から`CRACKRSA`が`Poly`かどうかの判断がわからない。\n",
    "\n",
    "\n",
    "- `NPHard`に属するか？\n",
    "\n",
    "p322にあるようにおそらく`FACTOR`問題は`NPHard`に属さないと考えられているため、`CRACKRSA`も`NPHard`に属さないとと考えられる。"
   ],
   "cell_type": "markdown",
   "metadata": {}
  },
  {
   "source": [
    "## 14.10\n",
    "\n"
   ],
   "cell_type": "markdown",
   "metadata": {}
  },
  {
   "source": [
    "問題`MANYSAT`を考える.\n",
    "\n",
    "この問題は，CNF形式のブール式$B$を入力とし，少なくとも$2$通りの方法で$B$を充足させられるなら,それは正インスタンスで,$B$を充足させる$2$つの異なる割り当てをセミコロンで区切ったものを解とし,そうでなければ,充足方法は$1$通りか$0$通りで,そのときは“no”を解とする.\n",
    "\n",
    "`MANYSAT`問題がNP困難であることを証明せよ"
   ],
   "cell_type": "markdown",
   "metadata": {}
  },
  {
   "source": [
    "`SAT`問題を`MANYSAT`問題に多項式時間還元することで`MANYSAT`がNP困難であることを示す。\n",
    "\n",
    "\n",
    "`SAT`の任意の入力文字列$B = f_1 \\wedge f_2 \\wedge \\cdots \\wedge f_n $に対し、ダミー変数$d$を用いて\n",
    "$B^{\\prime} = f_1 \\wedge f_2 \\wedge \\cdots \\wedge f_n \\wedge (d \\lor \\neg d)$を作るようなアルゴリズム$C$を考える。\n",
    "\n",
    "\n",
    "- $B$が`SAT`の正インスタンスの場合,$B^{\\prime}$は`MANYSAT`の正インスタンスである。\n",
    "\n",
    "    - $B$を充足させる値の割当が1つしかない場合でも$d$は0,1どちらでも追加した項は充足するので、充足させる異なる2つの割当が存在する。\n",
    "\n",
    "- $B$が`SAT`の負インスタンスの場合,$B^{\\prime}$は`MANYSAT`の負インスタンスである。\n",
    "    - $B$の項のうち少なくとも１つは$0$となる。この場合、$B^{\\prime}$のように項を1つ追加しても負インスタンスのままである。 \n",
    "\n",
    "- $C$は多項式時間で動作する。\n",
    "    - 文字列$B$に$\\wedge (d \\lor \\neg d)$を追加する:$O(n)$\n",
    "\n",
    "    したがって、この変換アルゴリズムは多項式時間で動作する。\n",
    "\n",
    "\n",
    "よって`SAT`問題は`MANYSAT`問題に多項式時間還元されるため、`MANYSAT`はNP困難である。\n",
    "\n",
    "\n"
   ],
   "cell_type": "markdown",
   "metadata": {}
  },
  {
   "source": [
    "## 14.15\n",
    "\n",
    "判定問題`2PACKING`について考える.\n",
    "この問題は`PACKING`問題と同じであるが,$1$台のトラックではなく,$2$台の同じトラックに荷物を積み込まなければならないことだけが異なる.\n",
    "\n",
    "`PACKING`問題と`2PACKING`問題が多項式時間等価であることを証明せよ"
   ],
   "cell_type": "markdown",
   "metadata": {}
  },
  {
   "source": [
    "`2PACKING`を次のように定義する。\n",
    "\n",
    "-  入力:$w_1$,$w_2$,$\\cdots$のように記述された重み(整数)のリストと$L$,$H$という整数のしきい値. \n",
    "\n",
    "- $L \\le W \\le H$となる重みペア$W$が２つできれば、条件を満たす組み合わせを返す。だめなら`no`を返す。\n",
    "\n",
    "\n"
   ],
   "cell_type": "markdown",
   "metadata": {}
  },
  {
   "source": [
    "## `PACKING` $\\le_p$ `2PACKING`\n",
    "\n",
    "`PACKING`問題の入力,$B$の重みリストをもう1つ用意するようなアルゴリズム$C$を用意する。変換後の入力を$B^{\\prime}$\n",
    "\n",
    "- $B$が`PACKING`問題の正インスタンスであれば、$B^{\\prime}$は`2PACKING`の正インスタンスである。\n",
    "    - なぜならば$B^{\\prime}$は`PACKING`問題での全く同じ解を2つ用意できるからである。\n",
    "- $B$が`PACKING`問題の負インスタンスであれば、$B^{\\prime}$は`2PACKING`の負インスタンスである。\n",
    "    - たとえなにか新しい組み合わせでペア$W$が1つ生まれたとしても,それは追加した重みリストの要素を利用してしまう。\n",
    "    - したがって、そのペアを残りの重みで作ることが出来ない。\n",
    "- このアルゴリズムは多項式時間で実行可能\n",
    "\n",
    "    - 入力を重みとしきい値に分割: $O(n)$\n",
    "    - 重みをコピーし、join: $O(n)$\n",
    "\n",
    "したがって`PACKING`問題は`2PACKING`問題に多項式時間還元される。"
   ],
   "cell_type": "markdown",
   "metadata": {}
  },
  {
   "source": [
    "## `2PACKING` $\\le_p$ `PACKING`\n",
    "\n",
    "14章の図14.7より\n",
    "\n",
    "`PACKING` $\\le_p$ `CIRCUITSAT`である。　この時推移性から`2PACKING` $\\le_p$ `CIRCUITSAT`が言える。\n",
    "\n",
    "\n",
    "次に14章の図14.7より\n",
    "\n",
    "`CIRCUITSAT` $\\le_p$ `PARTITION` $\\le_p$ `PACKING`であるので、`CIRCUITSAT` $\\le_p$ `PACKING`である。\n",
    "\n",
    "\n",
    "したがって、推移性より `2PACKING` $\\le_p$ `PACKING`である。\n",
    "\n"
   ],
   "cell_type": "markdown",
   "metadata": {}
  },
  {
   "source": [
    "## `2PACKING` $\\le_p$ `PACKING`　の直接的な証明の途中…\n",
    "\n",
    "`2PACKING`問題の入力,しきい値を$L^{\\prime}=2L$, $H^{\\prime}=2H$とするようなアルゴリズム$C$を用意する。変換後の入力を$B^{\\prime}$\n",
    "\n",
    "- $B$が`2PACKING`問題の正インスタンスであれば、$B^{\\prime}$は`PACKING`の正インスタンスである。\n",
    "    - $B$では$L\\le W_1 \\le H$, $L \\le W_2 \\le H$なる重みの$W_1$, $W_2$を作るような重みリストが存在する。\n",
    "    - この時$W_1$, $W_2$を作るような重みリストを結合すれば、その時の重み$W_3$は$2L \\le W_3 \\le 2H$を満たす。\n",
    "    - したがって$B^{\\prime}$は`PACKING`の正インスタンス\n",
    "\n",
    "- $B$が`2PACKING`問題の負インスタンスであれば、$B^{\\prime}$は`PACKING`の負インスタンスである。\n",
    "    \n",
    "    2つの場合に場合分けする。\n",
    "\n",
    "    - $B$では$L \\le W \\le H$となる重みリストを1つも作れない場合\n",
    "\n",
    "    - $B$では$L \\le W \\le H$となる重みリストを1つ作れる場合\n",
    "        - この解に含まれない重みリストで作れる重み$W^{\\prime}$が$W^{\\prime} \\le L$の場合:\n",
    "            - $W + W^{\\prime} \\le 2H \\leftrightarrow 2H -L \\le W$であれば、負インスタンスである。\n",
    "        - この解に含まれない重みリストで作れる重み$W^{\\prime}$が$H \\le W^{\\prime}$の場合:\n",
    "            - $W + W^{\\prime} \\le 2H \\leftrightarrow W \\le 2L-H$であれば、負インスタンスである。\n",
    "\n",
    "- このアルゴリズムは多項式時間で実行可能\n",
    "\n",
    "    - 入力を重みとしきい値に分割: $O(n)$\n",
    "    - しきい値を変更してjoin: $O(n)$\n",
    "\n",
    "したがって`PACKING`問題は`2PACKING`問題に多項式時間還元される。\n",
    "\n",
    "2PACKINGの正インスタンスであれば、必ず PACKINGの正インスタンスである。\n",
    "2PACKINGの負インスタンスのときに`PACKING`の負インスタンスにならないようにする工夫が必要。\n",
    "\n",
    "\n",
    "L+H <= W <=2H\n",
    "NP困難とか使えばできそう\n"
   ],
   "cell_type": "markdown",
   "metadata": {}
  },
  {
   "cell_type": "code",
   "execution_count": null,
   "metadata": {},
   "outputs": [],
   "source": []
  }
 ]
}