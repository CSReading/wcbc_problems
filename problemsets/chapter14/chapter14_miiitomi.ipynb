{
 "metadata": {
  "language_info": {
   "codemirror_mode": {
    "name": "ipython",
    "version": 3
   },
   "file_extension": ".py",
   "mimetype": "text/x-python",
   "name": "python",
   "nbconvert_exporter": "python",
   "pygments_lexer": "ipython3",
   "version": "3.7.4"
  },
  "orig_nbformat": 2,
  "kernelspec": {
   "name": "python374jvsc74a57bd0fdd0d0f6d772ec6cd3abcd9c879d0d7e6b024e724106e083d77f96814835aff2",
   "display_name": "Python 3.7.4 64-bit ('base': conda)"
  }
 },
 "nbformat": 4,
 "nbformat_minor": 2,
 "cells": [
  {
   "source": [
    "## 14.1\n",
    "### 問.\n",
    "節に含まれるリテラル数が高々3個ではなく, 高々5個にすると, 3-Sat 問題と同じようにして判定問題 5-Sat を定義できる.  \n",
    "5-Sat 問題はNP困難か.\n",
    "\n",
    "### 答.\n",
    "3-Sat $\\equiv_P$ 5-Sat, かつ 3-Sat はNP困難なので, 5-Sat はNP困難."
   ],
   "cell_type": "markdown",
   "metadata": {}
  },
  {
   "source": [
    "## 14.6\n",
    "### 問.\n",
    "この問題では，計算量クラスとして，P, NP, Exp, Poly, NPoly, Expo, NPComplete, NPHard だけを考慮に入れるものとする.  \n",
    "以下の各問題について,  \n",
    " 　(1) その問題が属していることがわかっている計算量クラス  \n",
    " 　(2) 問題が属していないと広く考えられている計算量クラス  \n",
    "を列挙せよ.\n",
    "\n",
    "### 答.\n",
    "(a) Factor 問題（p226）：判定問題でないので P, NP, Exp, NPComplete は無視.  \n",
    " 　(1) NPoly, Expo  \n",
    " 　(2) Poly, NPHard\n",
    " \n",
    "(b) FactorInRange 問題（p249）に対応する判定問題  \n",
    " 　(1) NP, NPoly, Exp, Expo  \n",
    " 　(2) P, Poly, NPComplete, NPHard\n",
    "\n",
    "(c) 有向ハミルトン閉路を積極解とする探索問題としての Dhc  \n",
    " 　(1) NPoly, Expo, NPHard  \n",
    " 　(2) Poly\n",
    "\n",
    "(d) 判定問題 TspD（p264）  \n",
    " 　(1) NP, NPoly, Exp, Expo, NPComplete, NPHard  \n",
    " 　(2) P, Poly\n",
    "\n",
    "(e) IsPrime の判定問題  \n",
    " 　(1) P, Poly, NP, NPoly, Exp, Expo  \n",
    " 　(2) NPComplete, NPHard\n",
    "\n",
    "(f) 3-Sat の判定問題  \n",
    " 　(1) NP, NPoly, Exp, Expo, NPComplete, NPHard  \n",
    " 　(2) P, Poly\n",
    "\n",
    "(g) 5-Sat の判定問題  \n",
    " 　(f)と同様.\n",
    "\n",
    "(h) 2-Sat の判定問題  \n",
    " 　(1) P, Poly, NP, NPoly, Exp, Expo  \n",
    " 　(2) NPComplete, NPHard"
   ],
   "cell_type": "markdown",
   "metadata": {}
  },
  {
   "source": [
    "## 14.11\n",
    "### 問.\n",
    "判定問題 LexHamCycle（Lhc）  \n",
    " 　入力：各節点が（いつものように）別々の ASCII 文字列のラベルを持つ無向グラフ  \n",
    " 　解：辞書順で各節点を通るハミルトン閉路があるなら\"yes\", ないなら\"no\"  \n",
    " 　例：“a,b a,d b,c c,d”は正インスタンス、“a,c a,d b,c b,d” は負インスタンス.\n",
    "\n",
    "Lhc 問題はクラス P, Poly, NP, NPoly, Exp, Expo, NPComplete, NPHard のそれぞれに属するかどうか.\n",
    "\n",
    "### 答.\n",
    "Lhc $\\in$ P, Poly, NP, NPoly, Exp, Exp.  \n",
    "以下の方針で少なくとも $O(n^2)$ で解ける.\n",
    "  - 入力を前から読んでいき, 重複を消しながらnodeのリストを作成. 少なくとも $O(n^2)$.\n",
    "  - nodeリストのソート. $O(n\\log n)$.\n",
    "  - 各node $i$ について, $O(n)$\n",
    "    - 次のノード $i+1$ (mod #nodes) への辺があるかチェック. $O(n)$."
   ],
   "cell_type": "markdown",
   "metadata": {}
  },
  {
   "cell_type": "code",
   "execution_count": 1,
   "metadata": {},
   "outputs": [],
   "source": [
    "def lhc(inString):\n",
    "    # 辺のリストedgesの作成. O(n).\n",
    "    edges = inString.split()\n",
    "    for i in range(len(edges)):\n",
    "        edges[i] = edges[i].split(',')\n",
    "    \n",
    "    # ノードのリストnodesの作成してソート. O(n^2).\n",
    "    nodes = []\n",
    "    for i in range(len(edges)):\n",
    "        for j in range(2):\n",
    "            if edges[i][j] not in nodes:\n",
    "                nodes.append(edges[i][j])\n",
    "    nodes.sort()\n",
    "\n",
    "    output = \"yes\"\n",
    "\n",
    "    # ノードiからノードi+1への辺があるかのチェック. O(n^2).\n",
    "    for i in range(len(nodes)):\n",
    "        i_1 = (i + 1) % len(nodes)  # 最後から頭に戻るのも同じ処理にするため i_1 = i+1 (mod len(nodes))\n",
    "        if [nodes[i], nodes[i_1]] in edges or [nodes[i_1], nodes[i]] in edges:\n",
    "            pass\n",
    "        else:\n",
    "            output = \"no\"\n",
    "            break\n",
    "    \n",
    "    return output"
   ]
  },
  {
   "cell_type": "code",
   "execution_count": 2,
   "metadata": {},
   "outputs": [
    {
     "output_type": "execute_result",
     "data": {
      "text/plain": [
       "'yes'"
      ]
     },
     "metadata": {},
     "execution_count": 2
    }
   ],
   "source": [
    "lhc(\"a,b a,d b,c c,d\")"
   ]
  },
  {
   "cell_type": "code",
   "execution_count": 3,
   "metadata": {},
   "outputs": [
    {
     "output_type": "execute_result",
     "data": {
      "text/plain": [
       "'no'"
      ]
     },
     "metadata": {},
     "execution_count": 3
    }
   ],
   "source": [
    "lhc(\"a,c a,d b,c b,d\")"
   ]
  },
  {
   "source": [
    "## 14.16\n",
    "計算問題 MysterySearch(謎の探索，略して MS)について考える. この問題についてわかっていることは，次の3つだけである.  \n",
    " - MS 問題は探索問題であって判定問題ではない.\n",
    " - Packing 問題に対応する判定問題を PackingD 問題とするとき，PackingD $\\leqq_{P}$ MS.\n",
    " - MS $\\in$ NPoly.\n",
    "\n",
    "次の小問に答えよ. すべてに短い説明を付けること.\n",
    "\n",
    "(a) MS $\\in$ NP か.\n",
    " - MS $\\notin$ NP. MS は判定問題でないので.\n",
    "\n",
    "(b) MS 問題には多項式時間検証器はあるか.\n",
    " - MS $\\in$ NPoly より, MS問題には多項式時間検証器が存在する.\n",
    "\n",
    "(c) MS 問題は NP完全か.\n",
    " - MS は NP完全でない. NP完全は判定問題についてのみ定義されているので.\n",
    "\n",
    "(d) MS 問題は NP困難か.\n",
    " - PackingD 問題は NP完全（p320, 図14.7）で PackingD $\\leqq_{P}$ MS より, MS は NP困難.\n",
    "\n",
    "(e) MS $\\in$ Poly か.\n",
    " - もし仮に MS $\\in$ Poly ならば P $=$ NP となってしまうので, おそらく MS $\\notin$ Poly."
   ],
   "cell_type": "markdown",
   "metadata": {}
  }
 ]
}