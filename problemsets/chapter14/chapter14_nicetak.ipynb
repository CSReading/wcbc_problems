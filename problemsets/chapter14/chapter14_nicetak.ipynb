{
 "metadata": {
  "language_info": {
   "codemirror_mode": {
    "name": "ipython",
    "version": 3
   },
   "file_extension": ".py",
   "mimetype": "text/x-python",
   "name": "python",
   "nbconvert_exporter": "python",
   "pygments_lexer": "ipython3",
   "version": 3
  },
  "orig_nbformat": 2
 },
 "nbformat": 4,
 "nbformat_minor": 2,
 "cells": [
  {
   "source": [
    "### 14.2 (柳本)\n",
    "EXACTLY3-SAT問題がNPクラスに属することは、3-SAT問題がNPクラスに属することから明らかである.\n",
    "\n",
    "3-SAT問題のEXACTLY3-SAT問題への多項式時間還元を示す。<br>\n",
    "3-SATのインスタンスは、リテラルが1, 2個である節に対し\n",
    "- $(x_1) \\rightarrow (x_1 \\lor x_1 \\lor x_1)$ \n",
    "- $(x_1 \\lor x_2) \\rightarrow (x_1 \\lor x_2 \\lor x_2)$ \n",
    "以上の自明なEXACTLY-3SAT問題への変換が存在する.\n",
    "\n",
    "この変換は明らかに$O(n)$で実行され、論理式の等価な変換であるため、3-SATの正(負)インスタンスをEXACTLY3-SATの正(負)インスタンスに写像する。"
   ],
   "cell_type": "markdown",
   "metadata": {}
  },
  {
   "source": [
    "### 14.7 (柳本)\n",
    "[松金輝久, 武永康彦 (2005).「一般化ぷよぷよの NP 完全性」『数理解析研究所講究録』1426巻, pp147-152.](https://www.kurims.kyoto-u.ac.jp/~kyodo/kokyuroku/contents/pdf/1426-24.pdf)"
   ],
   "cell_type": "markdown",
   "metadata": {}
  },
  {
   "source": [
    "### 14.12 (柳本)\n",
    "演習問題13.16から、MixedHCがNPであることは自明。NP完全性の定義から、MixedHC問題からCへの多項式時間還元が存在する。"
   ],
   "cell_type": "markdown",
   "metadata": {}
  },
  {
   "source": [
    "### 14.17 (柳本)\n",
    "KCycle問題がNPクラスに属することは、あるヒントが\n",
    "- K個の節点からなる\n",
    "- 閉路である\n",
    "\n",
    "ことは、自明に多項式時間で確認できるため明らか。\n",
    "\n",
    "また、、、、\n",
    "ハミルトン閉路なら簡単なのに..."
   ],
   "cell_type": "markdown",
   "metadata": {}
  },
  {
   "cell_type": "code",
   "execution_count": null,
   "metadata": {},
   "outputs": [],
   "source": []
  }
 ]
}