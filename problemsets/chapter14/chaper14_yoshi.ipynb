{
 "metadata": {
  "language_info": {
   "codemirror_mode": {
    "name": "ipython",
    "version": 3
   },
   "file_extension": ".py",
   "mimetype": "text/x-python",
   "name": "python",
   "nbconvert_exporter": "python",
   "pygments_lexer": "ipython3",
   "version": "3.7.4"
  },
  "orig_nbformat": 2,
  "kernelspec": {
   "name": "python374jvsc74a57bd004519339525595c0aa580e2ce339b15b315f4363ec21d43e5f5b08aa35789ec4",
   "display_name": "Python 3.7.4 64-bit ('base': conda)"
  }
 },
 "nbformat": 4,
 "nbformat_minor": 2,
 "cells": [
  {
   "source": [
    "### 14.3\n",
    "#### Distinct3-SATはNP完全であることを証明する.\n",
    "\n",
    "1. Distict3-SAT in NP\n",
    "- 3SATはNPであることから, Distinct3-SATはクラスNPである.\n",
    "\n",
    "2. Exact3-SAT $\\leq_{P}$ Distinct3-SAT\n",
    "- 節内に同一のリテラルが含まれる際には以下のように変換する.\n",
    "    - 同一リテラルのnegationが全て同一のケースならば, ダブりを無くした節を3つのリテラルの説に再変換する\n",
    "        - $(x \\lor x \\lor x)$ -> $(x)$ -> $(x \\lor a \\lor b) \\land (x \\lor \\lnot a \\lor b) \\land (x \\lor  a \\lor \\lnot b) \\land (x \\lor \\lnot  a \\lor \\lnot b)$\n",
    "        - $(x \\lor x \\lor y)$ -> $(x \\lor y)$ -> $(x \\lor y \\lor c) \\land (x \\lor y \\lor \\lnot c)$\n",
    "    - 同一リテラルのnegationが異なるならば,その節は常に1となるので取り除く.\n",
    "        - $(x \\lor \\lnot x \\lor \\{x / y\\})$ -> null\n",
    "\n",
    "よって, Distinct3-SAT は NP-complete (14.2で Exact3-SAT が NP-complete であることが示される.)"
   ],
   "cell_type": "markdown",
   "metadata": {}
  },
  {
   "source": [
    "### 14.8\n",
    "#### 任意の決定可能問題はYesOnEmptyに多項式還元可能である\n",
    "\n",
    "- 任意の決定可能問題をFとする.\n",
    "- Fは決定可能であるから, Fを計算するプログラムPが存在する.\n",
    "- 次にwriteQを以下のように構成する"
   ],
   "cell_type": "markdown",
   "metadata": {}
  },
  {
   "cell_type": "code",
   "execution_count": 5,
   "metadata": {},
   "outputs": [],
   "source": [
    "def writeQ(inString):\n",
    "\n",
    "    s = \"\"\"\n",
    "    def Q(x):\n",
    "        inString = {}\n",
    "        \n",
    "        def inProgram(inString):\n",
    "            # Pの中身\n",
    "\n",
    "        if inProgram(inString) == \"no\":\n",
    "            return \"no\"\n",
    "        else:\n",
    "            return \"yes\"\n",
    "    \"\"\".format(inString)\n",
    "\n",
    "    return s\n",
    "\n"
   ]
  },
  {
   "source": [
    "- プログラムQを構成すること自体は多項式時間実行可能\n",
    "    - プログラムPを構成すること自体は定数時間で実行可能(Fのインスタンス)\n",
    "    - dummyInStanceの処理も, FのインスタンスをStringとしてそのまま引き渡すだけなので$O(n)$\n",
    "- プログラムQをYesOnEmptyの入力とすると, 確かにFの正インスタンスは\"yes\"を返し, Fの負インスタンスを\"noを返す\"."
   ],
   "cell_type": "markdown",
   "metadata": {}
  },
  {
   "source": [
    "### 14.13\n",
    "(a) HappyZork問題はNP困難である\n",
    "- N,Mの数を中央政府が知らないという元では, HappyZorkは3SATの探索問題である.\n",
    "- p312の記述によれば, NP完全問題の探索問題verはNP困難である\n",
    "（self-reducibilityは時間があれば調べたい. 今週は無理でした）\n",
    "\n",
    "(b) 不可能に近い. \n",
    "- NP困難問題であるため, nのオーダーが大きくなると, 現実的数の並列計算ではHAPPYZORKSの一年以内に計算が終わらない."
   ],
   "cell_type": "markdown",
   "metadata": {}
  },
  {
   "source": [
    "### 14.18\n",
    "#### Decimate (Partitionの10分割版)の計算量クラスはなにになるか.\n",
    "\n",
    "主張：DecimateはNP完全\n",
    "- PartitionはNP完全より以下を示せば十分\n",
    "    - DecimateはクラスNPである\n",
    "    - Partiotion $\\leq_{P}$ Decimate\n",
    "\n",
    "#### DecimateはクラスNPである\n",
    "- Decimateは以下のような多項式判定機をもつ判定問題であるからクラスNPに属する."
   ],
   "cell_type": "markdown",
   "metadata": {}
  },
  {
   "cell_type": "code",
   "execution_count": 7,
   "metadata": {},
   "outputs": [],
   "source": [
    "def verifyDecimate(I, S, H):\n",
    "    # 多項式性を担保する\n",
    "    if 2*len(I) < len(H):\n",
    "        return \"unsure\"\n",
    "\n",
    "    # 提案解が負インスタンスのケース\n",
    "    if S == \"no\":\n",
    "        return \"unsure\"\n",
    "    \n",
    "    weight = list(map(int, I.split()))\n",
    "    if sum(weight) % 10 != 0:\n",
    "        return \"unsure\"\n",
    "    else:\n",
    "        m = sum(weight) // 10\n",
    "    S = []\n",
    "    for i in range(10):\n",
    "        S.append(list(map(int, H.split(\",\")[i].split())))\n",
    "\n",
    "    # 提案解が適切でないケースでunsureを返す\n",
    "    for i in range(10):\n",
    "        for s in S[i]:\n",
    "            if s in weight:\n",
    "                weight.remove(s)\n",
    "            else:\n",
    "                return \"unsure\"\n",
    "    \n",
    "        if  sum(S[i]) != m:\n",
    "            return \"unsure\"  \n",
    "       \n",
    "    return \"correct\""
   ]
  },
  {
   "cell_type": "code",
   "execution_count": 8,
   "metadata": {},
   "outputs": [
    {
     "output_type": "stream",
     "name": "stdout",
     "text": [
      "correct\nunsure\n"
     ]
    }
   ],
   "source": [
    "print(verifyDecimate(\"1 1 1 1 1 1 1 1 1 1\", \"yes\" ,\"1,1,1,1,1,1,1,1,1,1\"))\n",
    "print(verifyDecimate(\"1 1 1 1 1 1 1 1 1 2\", \"yes\" ,\"1,1,1,1,1,1,1,1,1,2\"))"
   ]
  },
  {
   "source": [
    "#### Partiotion $\\leq_{P}$ Decimate\n",
    "- Partitionのインスタンスを$A = \\{a_1, \\cdots, a_n \\}$ に対して $\\sum_{n} a_i = 2m$とする.\n",
    "    - 整数$m$が存在しない場合, Decimateの適当な負インスタンスに変換する.\n",
    "- $A$に$m$を$8$個追加した集合$A'$を作る.\n",
    "- この時, $Partition(A) = yes$ならば, $Decimate(A') = yes$\n",
    "- また, $Decimate(A') = yes$ならば, 集合$A$も和が$m$となるように2分割できるので$Partition(A) = yes$\n",
    "- この変換は多項式時間で実行可能であるから, Partiotion $\\leq_{P}$ Decimate"
   ],
   "cell_type": "markdown",
   "metadata": {}
  }
 ]
}