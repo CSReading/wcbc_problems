{
 "metadata": {
  "language_info": {
   "codemirror_mode": {
    "name": "ipython",
    "version": 3
   },
   "file_extension": ".py",
   "mimetype": "text/x-python",
   "name": "python",
   "nbconvert_exporter": "python",
   "pygments_lexer": "ipython3",
   "version": "3.8.6-final"
  },
  "orig_nbformat": 2,
  "kernelspec": {
   "name": "python3",
   "display_name": "Python 3.8.6 64-bit ('conda': virtualenv)",
   "metadata": {
    "interpreter": {
     "hash": "98b0a9b7b4eaaa670588a142fd0a9b87eaafe866f1db4228be72b4211d12040f"
    }
   }
  }
 },
 "nbformat": 4,
 "nbformat_minor": 2,
 "cells": [
  {
   "source": [
    "### 問 8.2 (柴田)\n",
    "FindMultipleOfK問題\n",
    "- 入力: 正整数$K$, セミコロン, 正整数$m_1, m_2,\\dots$のリストという形式のASCII文字列. 個々の$m_i$と$K$は10進数表記で, $m_i$は空白文字で区切られているものとする. 例: \"823;18910 5235 3422\"\n",
    "- 解: 解は, $K$の倍数になっている任意の値$m_i$である. $m_i$の中に$K$の倍数が含まれていなければ, 解は\"no\"となる. 例: 上の入力の場合, 18910, 5235, 3422はいずれも823で割り切れないので解は\"no\"となる. 入力\"10;720 342 90\"の場合, 解集合は{\"720\", \"90\"}である.\n",
    "\n",
    "入力の個々の$m_i$ごとに別々のスレッドを使ってFindMultipleOfK問題を解く非決定性Pythonプログラムを書け."
   ],
   "cell_type": "markdown",
   "metadata": {}
  },
  {
   "cell_type": "code",
   "execution_count": 42,
   "metadata": {},
   "outputs": [],
   "source": [
    "import utils; from utils import rf\n",
    "from threading import Thread \n",
    "\n",
    "# function that searches the given input for four different strings, in parallel\n",
    "def FindMultipleOfK(inString): \n",
    "    # change input as int \n",
    "    K = int(inString.split(\";\")[0])\n",
    "    m_is = list(map(int, inString.split(\";\")[1].split()))\n",
    "    \n",
    "    # create an empty list that will store our threads\n",
    "    threads = [ ] \n",
    "\n",
    "    # create an object that can store a nondeterministic solution computed by\n",
    "    # other threads\n",
    "    ndSoln = utils.NonDetSolution() \n",
    "\n",
    "    # create the threads that will perform the nondeterministic computation\n",
    "    for m in m_is: \n",
    "        # create a thread that will execute judgeDivisible(m, K, ndSoln)\n",
    "        # when started; judgeDivisible is a helper function defined below\n",
    "        t = Thread(target=judgeDivisible,    \n",
    "                           args = (m, K, ndSoln)) \n",
    "        # append the newly created thread to our list of threads\n",
    "        threads.append(t) \n",
    "    \n",
    "    # Perform the nondeterministic computation. By definition, this means\n",
    "    # that each thread is started, and we get a return value if either (a)\n",
    "    # any thread reports a positive solution, or (b) all threads report\n",
    "    # negative solutions.\n",
    "    solution = utils.waitForOnePosOrAllNeg(threads, ndSoln) \n",
    "\n",
    "    return solution \n",
    "\n",
    "# judgeDivisible is a helper function that sets the nondeterministic solution to the\n",
    "# value of str(m) if the m is divisible by K. This function is\n",
    "# intended to be executed in a separate thread as part of a nondeterministic\n",
    "# computation.\n",
    "def judgeDivisible(m, K, ndSoln):  \n",
    "    if m % K == 0: \n",
    "        ndSoln.setSolution(str(m)) \n"
   ]
  },
  {
   "cell_type": "code",
   "execution_count": 44,
   "metadata": {},
   "outputs": [
    {
     "output_type": "stream",
     "name": "stdout",
     "text": [
      "no\n90\n"
     ]
    }
   ],
   "source": [
    "print(FindMultipleOfK(\"823;18910 5235 3422\"))\n",
    "print(FindMultipleOfK(\"10;720 342 90\"))"
   ]
  },
  {
   "source": [
    "### 問 8.7 (柴田)"
   ],
   "cell_type": "markdown",
   "metadata": {}
  }
 ]
}