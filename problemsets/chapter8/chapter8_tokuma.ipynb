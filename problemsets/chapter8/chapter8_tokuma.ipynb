{
 "metadata": {
  "language_info": {
   "codemirror_mode": {
    "name": "ipython",
    "version": 3
   },
   "file_extension": ".py",
   "mimetype": "text/x-python",
   "name": "python",
   "nbconvert_exporter": "python",
   "pygments_lexer": "ipython3",
   "version": "3.8.6-final"
  },
  "orig_nbformat": 2,
  "kernelspec": {
   "name": "python3",
   "display_name": "Python 3.8.6 64-bit ('conda': virtualenv)",
   "metadata": {
    "interpreter": {
     "hash": "98b0a9b7b4eaaa670588a142fd0a9b87eaafe866f1db4228be72b4211d12040f"
    }
   }
  }
 },
 "nbformat": 4,
 "nbformat_minor": 2,
 "cells": [
  {
   "source": [
    "## 8.3 \n",
    "\n",
    "整数$M$の因数を探す非決定性プログラムについて"
   ],
   "cell_type": "markdown",
   "metadata": {}
  },
  {
   "cell_type": "code",
   "execution_count": 1,
   "metadata": {},
   "outputs": [],
   "source": [
    "import numpy as np "
   ]
  },
  {
   "cell_type": "code",
   "execution_count": 2,
   "metadata": {},
   "outputs": [],
   "source": [
    "# 通常の方法\n",
    "def factor_opt(inString):\n",
    "    M = int(inString)\n",
    "    M_prime = int(np.sqrt(M))\n",
    "\n",
    "    for i in range(2,M_prime+1): \n",
    "        if M % i == 0: \n",
    "            return str(i)\n",
    "    return 'no'  \n"
   ]
  },
  {
   "cell_type": "code",
   "execution_count": 3,
   "metadata": {},
   "outputs": [
    {
     "output_type": "execute_result",
     "data": {
      "text/plain": [
       "'2'"
      ]
     },
     "metadata": {},
     "execution_count": 3
    }
   ],
   "source": [
    "factor_opt('10000')"
   ]
  },
  {
   "cell_type": "code",
   "execution_count": 4,
   "metadata": {},
   "outputs": [
    {
     "output_type": "stream",
     "name": "stdout",
     "text": [
      "2.48 µs ± 144 ns per loop (mean ± std. dev. of 7 runs, 100000 loops each)\n"
     ]
    }
   ],
   "source": [
    "%%timeit\n",
    "factor_opt('111')"
   ]
  },
  {
   "source": [
    "## (a): 非決定版のコードを書け"
   ],
   "cell_type": "markdown",
   "metadata": {}
  },
  {
   "cell_type": "code",
   "execution_count": 5,
   "metadata": {},
   "outputs": [
    {
     "output_type": "stream",
     "name": "stdout",
     "text": [
      "import argparse\nfrom threading import Thread\nimport utils\nimport numpy as np\n\n\ndef get_arguments():\n    parser = argparse.ArgumentParser()\n\n    parser.add_argument('--inString',\n                        '-i',\n                        type=str,\n                        help=' factorization target')\n    parser.add_argument('--K', '-K', type=int, help='number of threading')\n\n    return parser.parse_args()\n\n\ndef factor_opt(M, search_range, nonDetSolution):\n\n    for i in search_range:\n        if M % i == 0:\n            nonDetSolution.setSolution(str(i))\n\n\ndef main(args):\n\n    M = int(args.inString)\n    M_prime = int(np.sqrt(M))\n    search_range = np.array([i + 2 for i in range(M_prime - 2)])\n\n    splitted = np.array_split(search_range, args.K)\n\n    ndSoln = utils.NonDetSolution()\n    threads = []\n\n    for split_range in splitted:\n        t = Thread(target=factor_opt, args=(M, split_range, ndSoln))\n        threads.append(t)\n\n    res = utils.waitForOnePosOrAllNeg(threads, ndSoln)\n\n    return res\n\n\nif __name__ == '__main__':\n\n    arg = get_arguments()\n    res = main(arg)\n    print(res)\n"
     ]
    }
   ],
   "source": [
    "!cat factor_threading.py"
   ]
  },
  {
   "source": [
    "## (b) マルチスレッドの実行"
   ],
   "cell_type": "markdown",
   "metadata": {}
  },
  {
   "cell_type": "code",
   "execution_count": 6,
   "metadata": {},
   "outputs": [
    {
     "output_type": "stream",
     "name": "stdout",
     "text": [
      "3\n",
      "3\n",
      "3\n",
      "3\n",
      "3\n",
      "3\n",
      "3\n",
      "3\n",
      "441 ms ± 11.3 ms per loop (mean ± std. dev. of 7 runs, 1 loop each)\n"
     ]
    }
   ],
   "source": [
    "%%timeit\n",
    "! python factor_threading.py -i 111 -K 2"
   ]
  },
  {
   "cell_type": "code",
   "execution_count": 7,
   "metadata": {},
   "outputs": [
    {
     "output_type": "stream",
     "name": "stdout",
     "text": [
      "3\n",
      "3\n",
      "3\n",
      "3\n",
      "3\n",
      "3\n",
      "3\n",
      "3\n",
      "488 ms ± 48.8 ms per loop (mean ± std. dev. of 7 runs, 1 loop each)\n"
     ]
    }
   ],
   "source": [
    "%%timeit\n",
    "! python factor_threading.py -i 111 -K 5"
   ]
  },
  {
   "cell_type": "code",
   "execution_count": 8,
   "metadata": {},
   "outputs": [
    {
     "output_type": "stream",
     "name": "stdout",
     "text": [
      "3\n",
      "3\n",
      "3\n",
      "3\n",
      "3\n",
      "3\n",
      "3\n",
      "3\n",
      "466 ms ± 19 ms per loop (mean ± std. dev. of 7 runs, 1 loop each)\n"
     ]
    }
   ],
   "source": [
    "%%timeit\n",
    "! python factor_threading.py -i 111 -K 10"
   ]
  },
  {
   "source": [
    "## (c) マルチプロセス化"
   ],
   "cell_type": "markdown",
   "metadata": {}
  },
  {
   "cell_type": "code",
   "execution_count": 9,
   "metadata": {},
   "outputs": [
    {
     "output_type": "stream",
     "name": "stdout",
     "text": [
      "import argparse\nimport numpy as np\n\nimport utils\nimport os\nimport time\nimport sys\nfrom concurrent.futures import (\n    ProcessPoolExecutor,\n    as_completed\n)\n\ndef get_arguments():\n    parser = argparse.ArgumentParser()\n\n    parser.add_argument('--inString',\n                        '-i',\n                        type=str,\n                        help=' factorization target')\n    parser.add_argument('--K', '-K', type=int, help='Number of process')\n\n    return parser.parse_args()\n\n\ndef factor_opt(M, search_range):\n\n    for i in search_range:\n        if M % i == 0:\n            return str(i)\n    return 'no'\n\n\n\ndef main(args):\n\n    M = int(args.inString)\n    M_prime = int(np.sqrt(M))\n    search_range = np.array([i + 2 for i in range(M_prime - 2)])\n    splitted = np.array_split(search_range, args.K)\n\n    res = 'no'\n\n    with ProcessPoolExecutor() as e:\n        futures = set([e.submit(factor_opt, M, split_range)\n                   for split_range in splitted])\n\n\n        for future in as_completed(futures):\n            temp = future.result()\n            if temp !='no':\n                res = temp\n\n                return res\n\n        # すべてnoだった場合はこちらを返す\n        return res\n\n\nif __name__ == '__main__':\n\n    arg = get_arguments()\n    res = main(arg)\n    print(res)\n"
     ]
    }
   ],
   "source": [
    "! cat factor_multiprocess.py"
   ]
  },
  {
   "cell_type": "code",
   "execution_count": 10,
   "metadata": {},
   "outputs": [
    {
     "output_type": "stream",
     "name": "stdout",
     "text": [
      "3\n",
      "3\n",
      "3\n",
      "3\n",
      "3\n",
      "3\n",
      "3\n",
      "3\n",
      "472 ms ± 23.1 ms per loop (mean ± std. dev. of 7 runs, 1 loop each)\n"
     ]
    }
   ],
   "source": [
    "%%timeit\n",
    "! python factor_multiprocess.py -i 111 -K 10"
   ]
  },
  {
   "cell_type": "code",
   "execution_count": 11,
   "metadata": {},
   "outputs": [
    {
     "output_type": "stream",
     "name": "stdout",
     "text": [
      "3181\n",
      "3181\n",
      "3181\n",
      "3181\n",
      "3181\n",
      "3181\n",
      "3181\n",
      "3181\n",
      "469 ms ± 19.8 ms per loop (mean ± std. dev. of 7 runs, 1 loop each)\n"
     ]
    }
   ],
   "source": [
    "%%timeit\n",
    "! python factor_multiprocess.py -i 30000011 -K 4"
   ]
  },
  {
   "cell_type": "code",
   "execution_count": 12,
   "metadata": {},
   "outputs": [
    {
     "output_type": "stream",
     "name": "stdout",
     "text": [
      "3181\n",
      "3181\n",
      "3181\n",
      "3181\n",
      "3181\n",
      "3181\n",
      "3181\n",
      "3181\n",
      "447 ms ± 17.4 ms per loop (mean ± std. dev. of 7 runs, 1 loop each)\n"
     ]
    }
   ],
   "source": [
    "%%timeit\n",
    "! python factor_threading.py -i 30000011 -K 4"
   ]
  },
  {
   "cell_type": "code",
   "execution_count": 13,
   "metadata": {},
   "outputs": [
    {
     "output_type": "execute_result",
     "data": {
      "text/plain": [
       "9431.0"
      ]
     },
     "metadata": {},
     "execution_count": 13
    }
   ],
   "source": [
    "30000011 / 3181"
   ]
  },
  {
   "source": [
    "## 8.8 \n",
    "\n",
    "長さが 3，7，11 のいずれかの倍数になっている遺伝子文字列を受理し，それ以外のすべての入力 を拒絶する非決定性チューリングマシンを作れ.\n",
    "\n",
    "\n",
    "## 解答\n",
    "通常のチューリングマシンは以下のように作成することが出来る。"
   ],
   "cell_type": "markdown",
   "metadata": {}
  },
  {
   "cell_type": "code",
   "execution_count": 14,
   "metadata": {},
   "outputs": [],
   "source": [
    "import sys\n",
    "from utils import rf\n",
    "from simulateTM import simulateTM\n",
    "\n",
    "sys.path.append('../chapter5')\n",
    "from tm_to_diagram import tm_to_diagram"
   ]
  },
  {
   "cell_type": "code",
   "execution_count": 15,
   "metadata": {},
   "outputs": [
    {
     "output_type": "execute_result",
     "data": {
      "text/plain": [
       "<graphviz.dot.Digraph at 0x7f98200b7e80>"
      ],
      "image/svg+xml": "<?xml version=\"1.0\" encoding=\"UTF-8\" standalone=\"no\"?>\n<!DOCTYPE svg PUBLIC \"-//W3C//DTD SVG 1.1//EN\"\n \"http://www.w3.org/Graphics/SVG/1.1/DTD/svg11.dtd\">\n<!-- Generated by graphviz version 2.43.0 (0)\n -->\n<!-- Title: %3 Pages: 1 -->\n<svg width=\"493pt\" height=\"1157pt\"\n viewBox=\"0.00 0.00 493.50 1157.05\" xmlns=\"http://www.w3.org/2000/svg\" xmlns:xlink=\"http://www.w3.org/1999/xlink\">\n<g id=\"graph0\" class=\"graph\" transform=\"scale(1 1) rotate(0) translate(4 1153.05)\">\n<title>%3</title>\n<polygon fill=\"white\" stroke=\"transparent\" points=\"-4,4 -4,-1153.05 489.5,-1153.05 489.5,4 -4,4\"/>\n<!-- qR -->\n<g id=\"node1\" class=\"node\">\n<title>qR</title>\n<ellipse fill=\"none\" stroke=\"black\" cx=\"184.5\" cy=\"-25.45\" rx=\"20.63\" ry=\"20.63\"/>\n<ellipse fill=\"none\" stroke=\"black\" cx=\"184.5\" cy=\"-25.45\" rx=\"24.6\" ry=\"24.6\"/>\n<text text-anchor=\"middle\" x=\"184.5\" y=\"-21.75\" font-family=\"Times,serif\" font-size=\"14.00\">qR</text>\n</g>\n<!-- qA -->\n<g id=\"node2\" class=\"node\">\n<title>qA</title>\n<ellipse fill=\"none\" stroke=\"black\" cx=\"428.5\" cy=\"-25.45\" rx=\"21.4\" ry=\"21.4\"/>\n<ellipse fill=\"none\" stroke=\"black\" cx=\"428.5\" cy=\"-25.45\" rx=\"25.4\" ry=\"25.4\"/>\n<text text-anchor=\"middle\" x=\"428.5\" y=\"-21.75\" font-family=\"Times,serif\" font-size=\"14.00\">qA</text>\n</g>\n<!-- q0 -->\n<g id=\"node3\" class=\"node\">\n<title>q0</title>\n<ellipse fill=\"none\" stroke=\"black\" cx=\"19.5\" cy=\"-1129.55\" rx=\"19.5\" ry=\"19.5\"/>\n<text text-anchor=\"middle\" x=\"19.5\" y=\"-1125.85\" font-family=\"Times,serif\" font-size=\"14.00\">q0</text>\n</g>\n<!-- q1 -->\n<g id=\"node4\" class=\"node\">\n<title>q1</title>\n<ellipse fill=\"none\" stroke=\"black\" cx=\"19.5\" cy=\"-1039.56\" rx=\"19.5\" ry=\"19.5\"/>\n<text text-anchor=\"middle\" x=\"19.5\" y=\"-1035.86\" font-family=\"Times,serif\" font-size=\"14.00\">q1</text>\n</g>\n<!-- q0&#45;&gt;q1 -->\n<g id=\"edge1\" class=\"edge\">\n<title>q0&#45;&gt;q1</title>\n<path fill=\"none\" stroke=\"black\" d=\"M19.5,-1109.89C19.5,-1098.11 19.5,-1082.65 19.5,-1069.32\"/>\n<polygon fill=\"black\" stroke=\"black\" points=\"23,-1069.19 19.5,-1059.19 16,-1069.19 23,-1069.19\"/>\n<text text-anchor=\"middle\" x=\"30\" y=\"-1080.86\" font-family=\"Times,serif\" font-size=\"14.00\">~;R</text>\n</g>\n<!-- q1&#45;&gt;qR -->\n<g id=\"edge3\" class=\"edge\">\n<title>q1&#45;&gt;qR</title>\n<path fill=\"none\" stroke=\"black\" d=\"M14.26,-1020.53C9.59,-1002.87 3.5,-975.1 3.5,-950.56 3.5,-950.56 3.5,-950.56 3.5,-124.94 3.5,-59.04 97.23,-36.98 149.79,-29.79\"/>\n<polygon fill=\"black\" stroke=\"black\" points=\"150.23,-33.27 159.71,-28.54 149.35,-26.32 150.23,-33.27\"/>\n<text text-anchor=\"middle\" x=\"13.5\" y=\"-540.88\" font-family=\"Times,serif\" font-size=\"14.00\">_;R</text>\n</g>\n<!-- q2 -->\n<g id=\"node5\" class=\"node\">\n<title>q2</title>\n<ellipse fill=\"none\" stroke=\"black\" cx=\"50.5\" cy=\"-949.56\" rx=\"19.5\" ry=\"19.5\"/>\n<text text-anchor=\"middle\" x=\"50.5\" y=\"-945.86\" font-family=\"Times,serif\" font-size=\"14.00\">q2</text>\n</g>\n<!-- q1&#45;&gt;q2 -->\n<g id=\"edge2\" class=\"edge\">\n<title>q1&#45;&gt;q2</title>\n<path fill=\"none\" stroke=\"black\" d=\"M25.77,-1020.75C30.1,-1008.47 35.94,-991.9 40.85,-977.94\"/>\n<polygon fill=\"black\" stroke=\"black\" points=\"44.21,-978.94 44.23,-968.34 37.61,-976.61 44.21,-978.94\"/>\n<text text-anchor=\"middle\" x=\"49\" y=\"-990.86\" font-family=\"Times,serif\" font-size=\"14.00\">!_;R</text>\n</g>\n<!-- q2&#45;&gt;qR -->\n<g id=\"edge5\" class=\"edge\">\n<title>q2&#45;&gt;qR</title>\n<path fill=\"none\" stroke=\"black\" d=\"M50.17,-930.02C49.87,-912.21 49.5,-884.55 49.5,-860.57 49.5,-860.57 49.5,-860.57 49.5,-124.94 49.5,-74.93 110.72,-47.61 150.7,-35.1\"/>\n<polygon fill=\"black\" stroke=\"black\" points=\"151.77,-38.43 160.36,-32.23 149.78,-31.72 151.77,-38.43\"/>\n<text text-anchor=\"middle\" x=\"59.5\" y=\"-495.88\" font-family=\"Times,serif\" font-size=\"14.00\">_;R</text>\n</g>\n<!-- q3 -->\n<g id=\"node6\" class=\"node\">\n<title>q3</title>\n<ellipse fill=\"none\" stroke=\"black\" cx=\"114.5\" cy=\"-859.57\" rx=\"19.5\" ry=\"19.5\"/>\n<text text-anchor=\"middle\" x=\"114.5\" y=\"-855.87\" font-family=\"Times,serif\" font-size=\"14.00\">q3</text>\n</g>\n<!-- q2&#45;&gt;q3 -->\n<g id=\"edge4\" class=\"edge\">\n<title>q2&#45;&gt;q3</title>\n<path fill=\"none\" stroke=\"black\" d=\"M61.65,-933.23C71.56,-919.61 86.2,-899.48 97.56,-883.86\"/>\n<polygon fill=\"black\" stroke=\"black\" points=\"100.43,-885.86 103.48,-875.72 94.77,-881.75 100.43,-885.86\"/>\n<text text-anchor=\"middle\" x=\"98\" y=\"-900.86\" font-family=\"Times,serif\" font-size=\"14.00\">!_;R</text>\n</g>\n<!-- q3&#45;&gt;qA -->\n<g id=\"edge7\" class=\"edge\">\n<title>q3&#45;&gt;qA</title>\n<path fill=\"none\" stroke=\"black\" d=\"M134.14,-857.34C202.88,-852.51 428.5,-831.99 428.5,-770.57 428.5,-770.57 428.5,-770.57 428.5,-124.94 428.5,-103.83 428.5,-80.18 428.5,-61.34\"/>\n<polygon fill=\"black\" stroke=\"black\" points=\"432,-61.14 428.5,-51.14 425,-61.14 432,-61.14\"/>\n<text text-anchor=\"middle\" x=\"438\" y=\"-450.88\" font-family=\"Times,serif\" font-size=\"14.00\">_;S</text>\n</g>\n<!-- q4 -->\n<g id=\"node7\" class=\"node\">\n<title>q4</title>\n<ellipse fill=\"none\" stroke=\"black\" cx=\"114.5\" cy=\"-769.57\" rx=\"19.5\" ry=\"19.5\"/>\n<text text-anchor=\"middle\" x=\"114.5\" y=\"-765.87\" font-family=\"Times,serif\" font-size=\"14.00\">q4</text>\n</g>\n<!-- q3&#45;&gt;q4 -->\n<g id=\"edge6\" class=\"edge\">\n<title>q3&#45;&gt;q4</title>\n<path fill=\"none\" stroke=\"black\" d=\"M114.5,-839.9C114.5,-828.12 114.5,-812.66 114.5,-799.33\"/>\n<polygon fill=\"black\" stroke=\"black\" points=\"118,-799.2 114.5,-789.2 111,-799.2 118,-799.2\"/>\n<text text-anchor=\"middle\" x=\"127\" y=\"-810.87\" font-family=\"Times,serif\" font-size=\"14.00\">!_;R</text>\n</g>\n<!-- q4&#45;&gt;qR -->\n<g id=\"edge9\" class=\"edge\">\n<title>q4&#45;&gt;qR</title>\n<path fill=\"none\" stroke=\"black\" d=\"M108.93,-750.56C103.97,-732.91 97.5,-705.16 97.5,-680.57 97.5,-680.57 97.5,-680.57 97.5,-498.58 97.5,-439.47 96.5,-424.69 96.5,-365.58 96.5,-365.58 96.5,-365.58 96.5,-124.94 96.5,-89.46 128.66,-60.88 154.09,-43.83\"/>\n<polygon fill=\"black\" stroke=\"black\" points=\"156.21,-46.63 162.75,-38.29 152.44,-40.73 156.21,-46.63\"/>\n<text text-anchor=\"middle\" x=\"106.5\" y=\"-405.88\" font-family=\"Times,serif\" font-size=\"14.00\">_;R</text>\n</g>\n<!-- q5 -->\n<g id=\"node8\" class=\"node\">\n<title>q5</title>\n<ellipse fill=\"none\" stroke=\"black\" cx=\"144.5\" cy=\"-679.57\" rx=\"19.5\" ry=\"19.5\"/>\n<text text-anchor=\"middle\" x=\"144.5\" y=\"-675.87\" font-family=\"Times,serif\" font-size=\"14.00\">q5</text>\n</g>\n<!-- q4&#45;&gt;q5 -->\n<g id=\"edge8\" class=\"edge\">\n<title>q4&#45;&gt;q5</title>\n<path fill=\"none\" stroke=\"black\" d=\"M120.57,-750.76C124.76,-738.48 130.41,-721.91 135.16,-707.95\"/>\n<polygon fill=\"black\" stroke=\"black\" points=\"138.52,-708.95 138.44,-698.35 131.9,-706.69 138.52,-708.95\"/>\n<text text-anchor=\"middle\" x=\"143\" y=\"-720.87\" font-family=\"Times,serif\" font-size=\"14.00\">!_;R</text>\n</g>\n<!-- q5&#45;&gt;qR -->\n<g id=\"edge11\" class=\"edge\">\n<title>q5&#45;&gt;qR</title>\n<path fill=\"none\" stroke=\"black\" d=\"M144.5,-660.03C144.5,-642.22 144.5,-614.56 144.5,-590.58 144.5,-590.58 144.5,-590.58 144.5,-453.58 144.5,-374.43 138.5,-354.74 138.5,-275.59 138.5,-275.59 138.5,-275.59 138.5,-124.94 138.5,-99.2 151.56,-72.93 163.76,-54\"/>\n<polygon fill=\"black\" stroke=\"black\" points=\"166.74,-55.84 169.44,-45.59 160.94,-51.92 166.74,-55.84\"/>\n<text text-anchor=\"middle\" x=\"151.5\" y=\"-360.88\" font-family=\"Times,serif\" font-size=\"14.00\">_;R</text>\n</g>\n<!-- q6 -->\n<g id=\"node9\" class=\"node\">\n<title>q6</title>\n<ellipse fill=\"none\" stroke=\"black\" cx=\"191.5\" cy=\"-589.58\" rx=\"19.5\" ry=\"19.5\"/>\n<text text-anchor=\"middle\" x=\"191.5\" y=\"-585.88\" font-family=\"Times,serif\" font-size=\"14.00\">q6</text>\n</g>\n<!-- q5&#45;&gt;q6 -->\n<g id=\"edge10\" class=\"edge\">\n<title>q5&#45;&gt;q6</title>\n<path fill=\"none\" stroke=\"black\" d=\"M153.34,-662.02C160.23,-649.12 169.93,-630.96 177.82,-616.19\"/>\n<polygon fill=\"black\" stroke=\"black\" points=\"181.07,-617.52 182.7,-607.05 174.9,-614.22 181.07,-617.52\"/>\n<text text-anchor=\"middle\" x=\"183\" y=\"-630.87\" font-family=\"Times,serif\" font-size=\"14.00\">!_;R</text>\n</g>\n<!-- q6&#45;&gt;qR -->\n<g id=\"edge13\" class=\"edge\">\n<title>q6&#45;&gt;qR</title>\n<path fill=\"none\" stroke=\"black\" d=\"M189.17,-570.07C187.13,-552.29 184.5,-524.64 184.5,-500.58 184.5,-500.58 184.5,-500.58 184.5,-124.94 184.5,-103.55 184.5,-79.53 184.5,-60.57\"/>\n<polygon fill=\"black\" stroke=\"black\" points=\"188,-60.33 184.5,-50.33 181,-60.33 188,-60.33\"/>\n<text text-anchor=\"middle\" x=\"194.5\" y=\"-315.89\" font-family=\"Times,serif\" font-size=\"14.00\">_;R</text>\n</g>\n<!-- q7 -->\n<g id=\"node10\" class=\"node\">\n<title>q7</title>\n<ellipse fill=\"none\" stroke=\"black\" cx=\"252.5\" cy=\"-499.58\" rx=\"19.5\" ry=\"19.5\"/>\n<text text-anchor=\"middle\" x=\"252.5\" y=\"-495.88\" font-family=\"Times,serif\" font-size=\"14.00\">q7</text>\n</g>\n<!-- q6&#45;&gt;q7 -->\n<g id=\"edge12\" class=\"edge\">\n<title>q6&#45;&gt;q7</title>\n<path fill=\"none\" stroke=\"black\" d=\"M202.4,-572.84C211.69,-559.45 225.17,-540.01 235.8,-524.66\"/>\n<polygon fill=\"black\" stroke=\"black\" points=\"238.87,-526.39 241.69,-516.17 233.11,-522.4 238.87,-526.39\"/>\n<text text-anchor=\"middle\" x=\"238\" y=\"-540.88\" font-family=\"Times,serif\" font-size=\"14.00\">!_;R</text>\n</g>\n<!-- q7&#45;&gt;qA -->\n<g id=\"edge15\" class=\"edge\">\n<title>q7&#45;&gt;qA</title>\n<path fill=\"none\" stroke=\"black\" d=\"M272.14,-497.55C317.03,-494.79 425.23,-485.8 451.5,-462.08 469.19,-446.11 466.5,-434.42 466.5,-410.58 466.5,-410.58 466.5,-410.58 466.5,-124.94 466.5,-100.8 456.43,-75.42 446.67,-56.47\"/>\n<polygon fill=\"black\" stroke=\"black\" points=\"449.62,-54.59 441.79,-47.45 443.47,-57.92 449.62,-54.59\"/>\n<text text-anchor=\"middle\" x=\"476\" y=\"-270.89\" font-family=\"Times,serif\" font-size=\"14.00\">_;S</text>\n</g>\n<!-- q8 -->\n<g id=\"node11\" class=\"node\">\n<title>q8</title>\n<ellipse fill=\"none\" stroke=\"black\" cx=\"252.5\" cy=\"-409.58\" rx=\"19.5\" ry=\"19.5\"/>\n<text text-anchor=\"middle\" x=\"252.5\" y=\"-405.88\" font-family=\"Times,serif\" font-size=\"14.00\">q8</text>\n</g>\n<!-- q7&#45;&gt;q8 -->\n<g id=\"edge14\" class=\"edge\">\n<title>q7&#45;&gt;q8</title>\n<path fill=\"none\" stroke=\"black\" d=\"M252.5,-479.92C252.5,-468.13 252.5,-452.67 252.5,-439.34\"/>\n<polygon fill=\"black\" stroke=\"black\" points=\"256,-439.22 252.5,-429.22 249,-439.22 256,-439.22\"/>\n<text text-anchor=\"middle\" x=\"265\" y=\"-450.88\" font-family=\"Times,serif\" font-size=\"14.00\">!_;R</text>\n</g>\n<!-- q8&#45;&gt;qR -->\n<g id=\"edge17\" class=\"edge\">\n<title>q8&#45;&gt;qR</title>\n<path fill=\"none\" stroke=\"black\" d=\"M250.6,-389.96C245.13,-338.4 227.79,-189.6 198.5,-68.9 197.71,-65.65 196.79,-62.3 195.81,-58.97\"/>\n<polygon fill=\"black\" stroke=\"black\" points=\"199.07,-57.66 192.74,-49.16 192.39,-59.75 199.07,-57.66\"/>\n<text text-anchor=\"middle\" x=\"241.5\" y=\"-221.34\" font-family=\"Times,serif\" font-size=\"14.00\">_;R</text>\n</g>\n<!-- q9 -->\n<g id=\"node12\" class=\"node\">\n<title>q9</title>\n<ellipse fill=\"none\" stroke=\"black\" cx=\"279.5\" cy=\"-319.59\" rx=\"19.5\" ry=\"19.5\"/>\n<text text-anchor=\"middle\" x=\"279.5\" y=\"-315.89\" font-family=\"Times,serif\" font-size=\"14.00\">q9</text>\n</g>\n<!-- q8&#45;&gt;q9 -->\n<g id=\"edge16\" class=\"edge\">\n<title>q8&#45;&gt;q9</title>\n<path fill=\"none\" stroke=\"black\" d=\"M257.96,-390.78C261.73,-378.49 266.82,-361.92 271.1,-347.97\"/>\n<polygon fill=\"black\" stroke=\"black\" points=\"274.46,-348.95 274.04,-338.37 267.76,-346.9 274.46,-348.95\"/>\n<text text-anchor=\"middle\" x=\"280\" y=\"-360.88\" font-family=\"Times,serif\" font-size=\"14.00\">!_;R</text>\n</g>\n<!-- q9&#45;&gt;qR -->\n<g id=\"edge19\" class=\"edge\">\n<title>q9&#45;&gt;qR</title>\n<path fill=\"none\" stroke=\"black\" d=\"M281.62,-300.02C285.7,-256.21 290.5,-144.41 244.5,-68.9 237.65,-57.66 226.59,-48.59 215.81,-41.76\"/>\n<polygon fill=\"black\" stroke=\"black\" points=\"217.32,-38.59 206.92,-36.55 213.78,-44.63 217.32,-38.59\"/>\n<text text-anchor=\"middle\" x=\"289.5\" y=\"-171.79\" font-family=\"Times,serif\" font-size=\"14.00\">_;R</text>\n</g>\n<!-- q10 -->\n<g id=\"node13\" class=\"node\">\n<title>q10</title>\n<ellipse fill=\"none\" stroke=\"black\" cx=\"330.5\" cy=\"-225.04\" rx=\"24.1\" ry=\"24.1\"/>\n<text text-anchor=\"middle\" x=\"330.5\" y=\"-221.34\" font-family=\"Times,serif\" font-size=\"14.00\">q10</text>\n</g>\n<!-- q9&#45;&gt;q10 -->\n<g id=\"edge18\" class=\"edge\">\n<title>q9&#45;&gt;q10</title>\n<path fill=\"none\" stroke=\"black\" d=\"M288.62,-302.04C295.69,-289.21 305.67,-271.09 314.12,-255.76\"/>\n<polygon fill=\"black\" stroke=\"black\" points=\"317.38,-257.1 319.14,-246.65 311.25,-253.72 317.38,-257.1\"/>\n<text text-anchor=\"middle\" x=\"319\" y=\"-270.89\" font-family=\"Times,serif\" font-size=\"14.00\">!_;R</text>\n</g>\n<!-- q10&#45;&gt;qR -->\n<g id=\"edge21\" class=\"edge\">\n<title>q10&#45;&gt;qR</title>\n<path fill=\"none\" stroke=\"black\" d=\"M329.25,-200.85C326.29,-167.69 316.29,-106.57 282.5,-68.9 265.9,-50.39 239.81,-39.63 218.72,-33.57\"/>\n<polygon fill=\"black\" stroke=\"black\" points=\"219.4,-30.13 208.84,-30.96 217.61,-36.9 219.4,-30.13\"/>\n<text text-anchor=\"middle\" x=\"330.5\" y=\"-122.24\" font-family=\"Times,serif\" font-size=\"14.00\">_;R</text>\n</g>\n<!-- q11 -->\n<g id=\"node14\" class=\"node\">\n<title>q11</title>\n<ellipse fill=\"none\" stroke=\"black\" cx=\"376.5\" cy=\"-125.94\" rx=\"24.1\" ry=\"24.1\"/>\n<text text-anchor=\"middle\" x=\"376.5\" y=\"-122.24\" font-family=\"Times,serif\" font-size=\"14.00\">q11</text>\n</g>\n<!-- q10&#45;&gt;q11 -->\n<g id=\"edge20\" class=\"edge\">\n<title>q10&#45;&gt;q11</title>\n<path fill=\"none\" stroke=\"black\" d=\"M340.48,-202.97C346.81,-189.61 355.1,-172.11 362.13,-157.27\"/>\n<polygon fill=\"black\" stroke=\"black\" points=\"365.42,-158.51 366.54,-147.97 359.09,-155.51 365.42,-158.51\"/>\n<text text-anchor=\"middle\" x=\"368\" y=\"-171.79\" font-family=\"Times,serif\" font-size=\"14.00\">!_;R</text>\n</g>\n<!-- q11&#45;&gt;qR -->\n<g id=\"edge22\" class=\"edge\">\n<title>q11&#45;&gt;qR</title>\n<path fill=\"none\" stroke=\"black\" d=\"M363.02,-105.85C353.53,-93.68 339.81,-78.46 324.5,-68.9 291.84,-48.49 248.76,-37.36 219.05,-31.68\"/>\n<polygon fill=\"black\" stroke=\"black\" points=\"219.61,-28.23 209.14,-29.9 218.36,-35.12 219.61,-28.23\"/>\n<text text-anchor=\"middle\" x=\"355\" y=\"-72.7\" font-family=\"Times,serif\" font-size=\"14.00\">!_;R</text>\n</g>\n<!-- q11&#45;&gt;qA -->\n<g id=\"edge23\" class=\"edge\">\n<title>q11&#45;&gt;qA</title>\n<path fill=\"none\" stroke=\"black\" d=\"M382.26,-102.41C385.42,-91.88 389.85,-79.39 395.5,-68.9 398.39,-63.53 401.95,-58.13 405.66,-53.07\"/>\n<polygon fill=\"black\" stroke=\"black\" points=\"408.6,-55 411.94,-44.95 403.06,-50.72 408.6,-55\"/>\n<text text-anchor=\"middle\" x=\"405\" y=\"-72.7\" font-family=\"Times,serif\" font-size=\"14.00\">_;S</text>\n</g>\n</g>\n</svg>\n"
     },
     "metadata": {},
     "execution_count": 15
    }
   ],
   "source": [
    "tm_to_diagram(rf('q8_8.tm'))\n"
   ]
  },
  {
   "cell_type": "code",
   "execution_count": 16,
   "metadata": {},
   "outputs": [
    {
     "output_type": "stream",
     "name": "stdout",
     "text": [
      "length 1 case: ans=no\nlength 2 case: ans=no\nlength 3 case: ans=yes\nlength 4 case: ans=no\nlength 5 case: ans=no\nlength 6 case: ans=no\nlength 7 case: ans=yes\nlength 8 case: ans=no\nlength 9 case: ans=no\nlength 10 case: ans=no\nlength 11 case: ans=yes\nlength 12 case: ans=no\n"
     ]
    }
   ],
   "source": [
    "test_cases = ['t' * (i+1) for i in range(12)]\n",
    "\n",
    "for ind, val in enumerate(test_cases):\n",
    "    res = simulateTM(rf('q8_8.tm'), val)\n",
    "    print(f'length {ind+1} case: ans={res}')"
   ]
  },
  {
   "source": [
    "このチューリングマシンを非決定チューリングマシンにするには\n",
    "\n",
    "q3のときに2つのチューリングマシンのクローンを用意すればよい\n",
    "- クローン1: 文字列の長さが4であれば受理し、そうでなければ拒絶\n",
    "- クローン2: 文字列の長さが8であれば受理し、そうでなければ拒絶\n",
    "\n",
    "元のチューリングマシンとクローン1, 2のいずれかが受理されれば、通常のチューリングマシンと同様に動作する。"
   ],
   "cell_type": "markdown",
   "metadata": {}
  },
  {
   "cell_type": "code",
   "execution_count": null,
   "metadata": {},
   "outputs": [],
   "source": []
  }
 ]
}